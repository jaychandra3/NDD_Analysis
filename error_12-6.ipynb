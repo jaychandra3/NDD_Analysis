{
  "cells": [
    {
      "cell_type": "code",
      "metadata": {
        "tags": [],
        "cell_id": "00000-35d133af-aaca-4c99-8613-878e4c864d9b",
        "output_cleared": false,
        "source_hash": "96c4b0f4",
        "execution_millis": 279,
        "execution_start": 1607274376654,
        "deepnote_cell_type": "code"
      },
      "source": "import pandas as pd\nimport numpy as np\nimport matplotlib.pyplot as plt\nimport math as m\n\n#drawingData = pd.read_csv('J csv/drawing_Jay1.csv') #24.158129162818167\n#drawingData = pd.read_csv('J csv/drawing_Jay2.csv') #11.345133017652993\ndrawingDataA = pd.read_csv('J csv/drawing_Jay3.csv') #18.140272032981397\n#drawingData = pd.read_csv('J csv/drawing_Jay4.csv') #11.571054574315554\n#drawingData = pd.read_csv('J csv/drawing_Jay5.csv') #7.176530035131031\n#drawingData = pd.read_csv('P csv/drawing_P1.csv') #35.230220265000646\n#drawingData = pd.read_csv('P csv/drawing_P2.csv') #14.255161047999348\ndrawingDataB = pd.read_csv('P csv/drawing_P3.csv') #29.84990962313044\n#drawingData = pd.read_csv('P csv/drawing_P4.csv') #46.42058736344993\n#drawingData = pd.read_csv('P csv/drawing_P5.csv') #36.685003908182495\n\ndef displacement(p1,p2):\n    return m.sqrt(m.pow(p1[0]-p2[0],2) + m.pow(p1[1]-p2[1],2))\n\ndef coordinates(drawingData):\n    coors = []\n\n    for i in drawingData['Coordinates']:\n        coors.append([(float(i.split(',')[0])),(float(i.split(',')[1]))])\n\n    return coors\n\ndef closest(a,B): #returns distance between a and closest b in B\n    min_disp = displacement(a,B[0])\n\n    for b in B:\n        if displacement(a,b) < min_disp:\n            min_disp = displacement(a,b)\n    \n    return min_disp\n\ndef error(A,B): \n    #Calculate average distance between point a in A and closest b in B\n    #Note: error(A,B) is not the same as error(B,A)!\n\n    error = 0\n    total = 0\n\n    for a in A:\n        error = error + closest(a,B)\n        total = total + 1\n\n\n\n    return (error/total)\n\n\n\nA_coors = coordinates(drawingDataB)\nB_coors = coordinates(drawingDataA)\n\nprint(error(A_coors,B_coors))\n\n#Observations: Seems quite reasonable and accurate!\n#Errors between healthy and unhealthy patient consistently larger.\n#error(A,A) = 0 so makes sense\n#error(A,B) is not necessarily equal to error(B,A), I understand why this is the case\n#but I can't intuitively grasp what this difference represents and which one is more useful\n#Next steps: Would like to test on data where there's actually points of the shape being traced!\n#Next steps: Would like to test on data with different time frames",
      "execution_count": null,
      "outputs": [
        {
          "name": "stdout",
          "text": "23.92472355068157\n",
          "output_type": "stream"
        }
      ]
    },
    {
      "cell_type": "code",
      "metadata": {
        "tags": [],
        "cell_id": "00001-5e7d1e02-a3fc-4862-9b9f-62e2d394e346",
        "deepnote_cell_type": "code"
      },
      "source": "A_coors",
      "execution_count": null,
      "outputs": []
    },
    {
      "cell_type": "markdown",
      "source": "<a style='text-decoration:none;line-height:16px;display:flex;color:#5B5B62;padding:10px;justify-content:end;' href='https://deepnote.com?utm_source=created-in-deepnote-cell&projectId=54ea7590-1f30-42ee-b9c1-c929b94e3f2f' target=\"_blank\">\n<img alt='Created in deepnote.com' style='display:inline;max-height:16px;margin:0px;margin-right:7.5px;' src='data:image/svg+xml;base64,PD94bWwgdmVyc2lvbj0iMS4wIiBlbmNvZGluZz0iVVRGLTgiPz4KPHN2ZyB3aWR0aD0iODBweCIgaGVpZ2h0PSI4MHB4IiB2aWV3Qm94PSIwIDAgODAgODAiIHZlcnNpb249IjEuMSIgeG1sbnM9Imh0dHA6Ly93d3cudzMub3JnLzIwMDAvc3ZnIiB4bWxuczp4bGluaz0iaHR0cDovL3d3dy53My5vcmcvMTk5OS94bGluayI+CiAgICA8IS0tIEdlbmVyYXRvcjogU2tldGNoIDU0LjEgKDc2NDkwKSAtIGh0dHBzOi8vc2tldGNoYXBwLmNvbSAtLT4KICAgIDx0aXRsZT5Hcm91cCAzPC90aXRsZT4KICAgIDxkZXNjPkNyZWF0ZWQgd2l0aCBTa2V0Y2guPC9kZXNjPgogICAgPGcgaWQ9IkxhbmRpbmciIHN0cm9rZT0ibm9uZSIgc3Ryb2tlLXdpZHRoPSIxIiBmaWxsPSJub25lIiBmaWxsLXJ1bGU9ImV2ZW5vZGQiPgogICAgICAgIDxnIGlkPSJBcnRib2FyZCIgdHJhbnNmb3JtPSJ0cmFuc2xhdGUoLTEyMzUuMDAwMDAwLCAtNzkuMDAwMDAwKSI+CiAgICAgICAgICAgIDxnIGlkPSJHcm91cC0zIiB0cmFuc2Zvcm09InRyYW5zbGF0ZSgxMjM1LjAwMDAwMCwgNzkuMDAwMDAwKSI+CiAgICAgICAgICAgICAgICA8cG9seWdvbiBpZD0iUGF0aC0yMCIgZmlsbD0iIzAyNjVCNCIgcG9pbnRzPSIyLjM3NjIzNzYyIDgwIDM4LjA0NzY2NjcgODAgNTcuODIxNzgyMiA3My44MDU3NTkyIDU3LjgyMTc4MjIgMzIuNzU5MjczOSAzOS4xNDAyMjc4IDMxLjY4MzE2ODMiPjwvcG9seWdvbj4KICAgICAgICAgICAgICAgIDxwYXRoIGQ9Ik0zNS4wMDc3MTgsODAgQzQyLjkwNjIwMDcsNzYuNDU0OTM1OCA0Ny41NjQ5MTY3LDcxLjU0MjI2NzEgNDguOTgzODY2LDY1LjI2MTk5MzkgQzUxLjExMjI4OTksNTUuODQxNTg0MiA0MS42NzcxNzk1LDQ5LjIxMjIyODQgMjUuNjIzOTg0Niw0OS4yMTIyMjg0IEMyNS40ODQ5Mjg5LDQ5LjEyNjg0NDggMjkuODI2MTI5Niw0My4yODM4MjQ4IDM4LjY0NzU4NjksMzEuNjgzMTY4MyBMNzIuODcxMjg3MSwzMi41NTQ0MjUgTDY1LjI4MDk3Myw2Ny42NzYzNDIxIEw1MS4xMTIyODk5LDc3LjM3NjE0NCBMMzUuMDA3NzE4LDgwIFoiIGlkPSJQYXRoLTIyIiBmaWxsPSIjMDAyODY4Ij48L3BhdGg+CiAgICAgICAgICAgICAgICA8cGF0aCBkPSJNMCwzNy43MzA0NDA1IEwyNy4xMTQ1MzcsMC4yNTcxMTE0MzYgQzYyLjM3MTUxMjMsLTEuOTkwNzE3MDEgODAsMTAuNTAwMzkyNyA4MCwzNy43MzA0NDA1IEM4MCw2NC45NjA0ODgyIDY0Ljc3NjUwMzgsNzkuMDUwMzQxNCAzNC4zMjk1MTEzLDgwIEM0Ny4wNTUzNDg5LDc3LjU2NzA4MDggNTMuNDE4MjY3Nyw3MC4zMTM2MTAzIDUzLjQxODI2NzcsNTguMjM5NTg4NSBDNTMuNDE4MjY3Nyw0MC4xMjg1NTU3IDM2LjMwMzk1NDQsMzcuNzMwNDQwNSAyNS4yMjc0MTcsMzcuNzMwNDQwNSBDMTcuODQzMDU4NiwzNy43MzA0NDA1IDkuNDMzOTE5NjYsMzcuNzMwNDQwNSAwLDM3LjczMDQ0MDUgWiIgaWQ9IlBhdGgtMTkiIGZpbGw9IiMzNzkzRUYiPjwvcGF0aD4KICAgICAgICAgICAgPC9nPgogICAgICAgIDwvZz4KICAgIDwvZz4KPC9zdmc+' > </img>\nCreated in <span style='font-weight:600;margin-left:4px;'>Deepnote</span></a>",
      "metadata": {
        "tags": [],
        "created_in_deepnote_cell": true,
        "deepnote_cell_type": "markdown"
      }
    }
  ],
  "nbformat": 4,
  "nbformat_minor": 2,
  "metadata": {
    "orig_nbformat": 2,
    "deepnote_notebook_id": "a2599baa-3787-4dbf-9ece-5d85417d39ad",
    "deepnote_execution_queue": [],
    "deepnote": {}
  }
}