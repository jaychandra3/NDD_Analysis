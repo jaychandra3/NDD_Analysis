{
 "cells": [
  {
   "cell_type": "markdown",
   "source": "## Static Features UMAP",
   "metadata": {
    "tags": [],
    "cell_id": "00000-c99e6a96-88ae-4754-bcbd-4a0e31240f30",
    "deepnote_cell_type": "markdown"
   }
  },
  {
   "cell_type": "code",
   "metadata": {
    "tags": [],
    "cell_id": "00000-9bb254e5-74c4-4497-b382-6850c21059a5",
    "deepnote_to_be_reexecuted": false,
    "source_hash": "8da2a548",
    "execution_millis": 2,
    "execution_start": 1619296231105,
    "deepnote_cell_type": "code"
   },
   "source": "# UMAP for our dataframe from parkinsonHW_features\n\nimport numpy as np\nimport umap\nfrom sklearn.model_selection import train_test_split\nfrom sklearn.preprocessing import StandardScaler\nimport matplotlib.pyplot as plt\nimport seaborn as sns\nimport pandas as pd\nfrom mpl_toolkits.mplot3d import Axes3D\n\n%matplotlib inline",
   "execution_count": null,
   "outputs": []
  },
  {
   "cell_type": "code",
   "metadata": {
    "tags": [],
    "cell_id": "00001-18e42c2d-1cad-4a94-b60d-cc1ed7dfa964",
    "deepnote_to_be_reexecuted": false,
    "source_hash": "364b20a",
    "execution_millis": 80,
    "execution_start": 1617145131358,
    "deepnote_cell_type": "code"
   },
   "source": "parkinsonhw_df = pd.read_csv('/work/5000_static_HW_features.csv')\nparkinsonhw_df",
   "execution_count": null,
   "outputs": [
    {
     "output_type": "execute_result",
     "execution_count": 4,
     "data": {
      "application/vnd.deepnote.dataframe.v2+json": {
       "row_count": 76,
       "column_count": 22,
       "columns": [
        {
         "name": "Subject ID",
         "dtype": "object",
         "stats": {
          "unique_count": 76,
          "nan_count": 0,
          "categories": [
           {
            "name": "C1",
            "count": 1
           },
           {
            "name": "C2",
            "count": 1
           },
           {
            "name": "74 others",
            "count": 74
           }
          ]
         }
        },
        {
         "name": "Category",
         "dtype": "int64",
         "stats": {
          "unique_count": 2,
          "nan_count": 0,
          "min": 0,
          "max": 1,
          "histogram": [
           {
            "bin_start": 0,
            "bin_end": 0.1,
            "count": 15
           },
           {
            "bin_start": 0.1,
            "bin_end": 0.2,
            "count": 0
           },
           {
            "bin_start": 0.2,
            "bin_end": 0.30000000000000004,
            "count": 0
           },
           {
            "bin_start": 0.30000000000000004,
            "bin_end": 0.4,
            "count": 0
           },
           {
            "bin_start": 0.4,
            "bin_end": 0.5,
            "count": 0
           },
           {
            "bin_start": 0.5,
            "bin_end": 0.6000000000000001,
            "count": 0
           },
           {
            "bin_start": 0.6000000000000001,
            "bin_end": 0.7000000000000001,
            "count": 0
           },
           {
            "bin_start": 0.7000000000000001,
            "bin_end": 0.8,
            "count": 0
           },
           {
            "bin_start": 0.8,
            "bin_end": 0.9,
            "count": 0
           },
           {
            "bin_start": 0.9,
            "bin_end": 1,
            "count": 61
           }
          ]
         }
        },
        {
         "name": "Mean Velocity",
         "dtype": "float64",
         "stats": {
          "unique_count": 76,
          "nan_count": 0,
          "min": 0.1846733168672591,
          "max": 4.655914885307924,
          "histogram": [
           {
            "bin_start": 0.1846733168672591,
            "bin_end": 0.6317974737113257,
            "count": 19
           },
           {
            "bin_start": 0.6317974737113257,
            "bin_end": 1.0789216305553921,
            "count": 24
           },
           {
            "bin_start": 1.0789216305553921,
            "bin_end": 1.5260457873994588,
            "count": 15
           },
           {
            "bin_start": 1.5260457873994588,
            "bin_end": 1.9731699442435253,
            "count": 9
           },
           {
            "bin_start": 1.9731699442435253,
            "bin_end": 2.420294101087592,
            "count": 1
           },
           {
            "bin_start": 2.420294101087592,
            "bin_end": 2.8674182579316585,
            "count": 4
           },
           {
            "bin_start": 2.8674182579316585,
            "bin_end": 3.3145424147757248,
            "count": 2
           },
           {
            "bin_start": 3.3145424147757248,
            "bin_end": 3.7616665716197915,
            "count": 1
           },
           {
            "bin_start": 3.7616665716197915,
            "bin_end": 4.208790728463858,
            "count": 0
           },
           {
            "bin_start": 4.208790728463858,
            "bin_end": 4.655914885307924,
            "count": 1
           }
          ]
         }
        },
        {
         "name": "Velocity Std",
         "dtype": "float64",
         "stats": {
          "unique_count": 76,
          "nan_count": 0,
          "min": 0.0616510873203573,
          "max": 2.008779755660483,
          "histogram": [
           {
            "bin_start": 0.0616510873203573,
            "bin_end": 0.2563639541543699,
            "count": 32
           },
           {
            "bin_start": 0.2563639541543699,
            "bin_end": 0.4510768209883825,
            "count": 20
           },
           {
            "bin_start": 0.4510768209883825,
            "bin_end": 0.6457896878223951,
            "count": 12
           },
           {
            "bin_start": 0.6457896878223951,
            "bin_end": 0.8405025546564077,
            "count": 2
           },
           {
            "bin_start": 0.8405025546564077,
            "bin_end": 1.0352154214904203,
            "count": 1
           },
           {
            "bin_start": 1.0352154214904203,
            "bin_end": 1.229928288324433,
            "count": 4
           },
           {
            "bin_start": 1.229928288324433,
            "bin_end": 1.4246411551584455,
            "count": 0
           },
           {
            "bin_start": 1.4246411551584455,
            "bin_end": 1.619354021992458,
            "count": 1
           },
           {
            "bin_start": 1.619354021992458,
            "bin_end": 1.8140668888264706,
            "count": 2
           },
           {
            "bin_start": 1.8140668888264706,
            "bin_end": 2.008779755660483,
            "count": 2
           }
          ]
         }
        },
        {
         "name": "Peak Velocity",
         "dtype": "float64",
         "stats": {
          "unique_count": 76,
          "nan_count": 0,
          "min": 0.4327850650959038,
          "max": 17.906847382496743,
          "histogram": [
           {
            "bin_start": 0.4327850650959038,
            "bin_end": 2.180191296835988,
            "count": 42
           },
           {
            "bin_start": 2.180191296835988,
            "bin_end": 3.927597528576072,
            "count": 21
           },
           {
            "bin_start": 3.927597528576072,
            "bin_end": 5.675003760316156,
            "count": 4
           },
           {
            "bin_start": 5.675003760316156,
            "bin_end": 7.42240999205624,
            "count": 2
           },
           {
            "bin_start": 7.42240999205624,
            "bin_end": 9.169816223796325,
            "count": 3
           },
           {
            "bin_start": 9.169816223796325,
            "bin_end": 10.91722245553641,
            "count": 1
           },
           {
            "bin_start": 10.91722245553641,
            "bin_end": 12.664628687276492,
            "count": 2
           },
           {
            "bin_start": 12.664628687276492,
            "bin_end": 14.412034919016577,
            "count": 0
           },
           {
            "bin_start": 14.412034919016577,
            "bin_end": 16.15944115075666,
            "count": 0
           },
           {
            "bin_start": 16.15944115075666,
            "bin_end": 17.906847382496743,
            "count": 1
           }
          ]
         }
        },
        {
         "name": "NVV",
         "dtype": "float64",
         "stats": {
          "unique_count": 76,
          "nan_count": 0,
          "min": 0.0001271906193259,
          "max": 0.0197857306835241,
          "histogram": [
           {
            "bin_start": 0.0001271906193259,
            "bin_end": 0.00209304462574572,
            "count": 68
           },
           {
            "bin_start": 0.00209304462574572,
            "bin_end": 0.0040588986321655396,
            "count": 3
           },
           {
            "bin_start": 0.0040588986321655396,
            "bin_end": 0.0060247526385853595,
            "count": 1
           },
           {
            "bin_start": 0.0060247526385853595,
            "bin_end": 0.00799060664500518,
            "count": 1
           },
           {
            "bin_start": 0.00799060664500518,
            "bin_end": 0.009956460651425,
            "count": 0
           },
           {
            "bin_start": 0.009956460651425,
            "bin_end": 0.01192231465784482,
            "count": 1
           },
           {
            "bin_start": 0.01192231465784482,
            "bin_end": 0.013888168664264641,
            "count": 0
           },
           {
            "bin_start": 0.013888168664264641,
            "bin_end": 0.015854022670684458,
            "count": 0
           },
           {
            "bin_start": 0.015854022670684458,
            "bin_end": 0.017819876677104277,
            "count": 0
           },
           {
            "bin_start": 0.017819876677104277,
            "bin_end": 0.0197857306835241,
            "count": 2
           }
          ]
         }
        },
        {
         "name": "NIV",
         "dtype": "float64",
         "stats": {
          "unique_count": 76,
          "nan_count": 0,
          "min": 0.0002539135810646,
          "max": 0.0093465284322965,
          "histogram": [
           {
            "bin_start": 0.0002539135810646,
            "bin_end": 0.0011631750661877899,
            "count": 46
           },
           {
            "bin_start": 0.0011631750661877899,
            "bin_end": 0.00207243655131098,
            "count": 20
           },
           {
            "bin_start": 0.00207243655131098,
            "bin_end": 0.0029816980364341696,
            "count": 6
           },
           {
            "bin_start": 0.0029816980364341696,
            "bin_end": 0.00389095952155736,
            "count": 0
           },
           {
            "bin_start": 0.00389095952155736,
            "bin_end": 0.00480022100668055,
            "count": 0
           },
           {
            "bin_start": 0.00480022100668055,
            "bin_end": 0.005709482491803739,
            "count": 0
           },
           {
            "bin_start": 0.005709482491803739,
            "bin_end": 0.00661874397692693,
            "count": 0
           },
           {
            "bin_start": 0.00661874397692693,
            "bin_end": 0.0075280054620501195,
            "count": 1
           },
           {
            "bin_start": 0.0075280054620501195,
            "bin_end": 0.00843726694717331,
            "count": 0
           },
           {
            "bin_start": 0.00843726694717331,
            "bin_end": 0.0093465284322965,
            "count": 3
           }
          ]
         }
        },
        {
         "name": "Mean Acceleration",
         "dtype": "float64",
         "stats": {
          "unique_count": 76,
          "nan_count": 0,
          "min": 0.0008928930051166,
          "max": 0.7277250243338651,
          "histogram": [
           {
            "bin_start": 0.0008928930051166,
            "bin_end": 0.07357610613799144,
            "count": 69
           },
           {
            "bin_start": 0.07357610613799144,
            "bin_end": 0.1462593192708663,
            "count": 3
           },
           {
            "bin_start": 0.1462593192708663,
            "bin_end": 0.21894253240374115,
            "count": 0
           },
           {
            "bin_start": 0.21894253240374115,
            "bin_end": 0.29162574553661597,
            "count": 0
           },
           {
            "bin_start": 0.29162574553661597,
            "bin_end": 0.3643089586694908,
            "count": 1
           },
           {
            "bin_start": 0.3643089586694908,
            "bin_end": 0.43699217180236566,
            "count": 0
           },
           {
            "bin_start": 0.43699217180236566,
            "bin_end": 0.5096753849352406,
            "count": 0
           },
           {
            "bin_start": 0.5096753849352406,
            "bin_end": 0.5823585980681154,
            "count": 0
           },
           {
            "bin_start": 0.5823585980681154,
            "bin_end": 0.6550418112009903,
            "count": 0
           },
           {
            "bin_start": 0.6550418112009903,
            "bin_end": 0.7277250243338651,
            "count": 3
           }
          ]
         }
        },
        {
         "name": "Acceleration Std",
         "dtype": "float64",
         "stats": {
          "unique_count": 76,
          "nan_count": 0,
          "min": 0.0002837895921342,
          "max": 1.0315369369995373,
          "histogram": [
           {
            "bin_start": 0.0002837895921342,
            "bin_end": 0.10340910433287451,
            "count": 70
           },
           {
            "bin_start": 0.10340910433287451,
            "bin_end": 0.20653441907361483,
            "count": 1
           },
           {
            "bin_start": 0.20653441907361483,
            "bin_end": 0.30965973381435513,
            "count": 1
           },
           {
            "bin_start": 0.30965973381435513,
            "bin_end": 0.41278504855509546,
            "count": 0
           },
           {
            "bin_start": 0.41278504855509546,
            "bin_end": 0.5159103632958357,
            "count": 2
           },
           {
            "bin_start": 0.5159103632958357,
            "bin_end": 0.619035678036576,
            "count": 1
           },
           {
            "bin_start": 0.619035678036576,
            "bin_end": 0.7221609927773164,
            "count": 0
           },
           {
            "bin_start": 0.7221609927773164,
            "bin_end": 0.8252863075180566,
            "count": 0
           },
           {
            "bin_start": 0.8252863075180566,
            "bin_end": 0.9284116222587969,
            "count": 0
           },
           {
            "bin_start": 0.9284116222587969,
            "bin_end": 1.0315369369995373,
            "count": 1
           }
          ]
         }
        },
        {
         "name": "Peak Acceleration",
         "dtype": "float64",
         "stats": {
          "unique_count": 76,
          "nan_count": 0,
          "min": 0.0018825773786296,
          "max": 15.916071723856078,
          "histogram": [
           {
            "bin_start": 0.0018825773786296,
            "bin_end": 1.5933014920263742,
            "count": 71
           },
           {
            "bin_start": 1.5933014920263742,
            "bin_end": 3.184720406674119,
            "count": 2
           },
           {
            "bin_start": 3.184720406674119,
            "bin_end": 4.776139321321863,
            "count": 0
           },
           {
            "bin_start": 4.776139321321863,
            "bin_end": 6.367558235969608,
            "count": 1
           },
           {
            "bin_start": 6.367558235969608,
            "bin_end": 7.958977150617353,
            "count": 0
           },
           {
            "bin_start": 7.958977150617353,
            "bin_end": 9.550396065265097,
            "count": 0
           },
           {
            "bin_start": 9.550396065265097,
            "bin_end": 11.141814979912843,
            "count": 0
           },
           {
            "bin_start": 11.141814979912843,
            "bin_end": 12.733233894560588,
            "count": 1
           },
           {
            "bin_start": 12.733233894560588,
            "bin_end": 14.324652809208333,
            "count": 0
           },
           {
            "bin_start": 14.324652809208333,
            "bin_end": 15.916071723856078,
            "count": 1
           }
          ]
         }
        },
        {
         "name": "NIA",
         "dtype": "float64",
         "stats": {
          "unique_count": 76,
          "nan_count": 0,
          "min": 0.0005188668830451,
          "max": 0.0113667117726657,
          "histogram": [
           {
            "bin_start": 0.0005188668830451,
            "bin_end": 0.00160365137200716,
            "count": 34
           },
           {
            "bin_start": 0.00160365137200716,
            "bin_end": 0.00268843586096922,
            "count": 26
           },
           {
            "bin_start": 0.00268843586096922,
            "bin_end": 0.0037732203499312796,
            "count": 5
           },
           {
            "bin_start": 0.0037732203499312796,
            "bin_end": 0.00485800483889334,
            "count": 5
           },
           {
            "bin_start": 0.00485800483889334,
            "bin_end": 0.0059427893278554,
            "count": 1
           },
           {
            "bin_start": 0.0059427893278554,
            "bin_end": 0.00702757381681746,
            "count": 1
           },
           {
            "bin_start": 0.00702757381681746,
            "bin_end": 0.00811235830577952,
            "count": 0
           },
           {
            "bin_start": 0.00811235830577952,
            "bin_end": 0.00919714279474158,
            "count": 0
           },
           {
            "bin_start": 0.00919714279474158,
            "bin_end": 0.01028192728370364,
            "count": 1
           },
           {
            "bin_start": 0.01028192728370364,
            "bin_end": 0.0113667117726657,
            "count": 3
           }
          ]
         }
        },
        {
         "name": "Mean Jerk",
         "dtype": "float64",
         "stats": {
          "unique_count": 76,
          "nan_count": 0,
          "min": 0.000008400739066982594,
          "max": 0.3171896022230402,
          "histogram": [
           {
            "bin_start": 0.000008400739066982594,
            "bin_end": 0.031726520887464305,
            "count": 72
           },
           {
            "bin_start": 0.031726520887464305,
            "bin_end": 0.06344464103586163,
            "count": 0
           },
           {
            "bin_start": 0.06344464103586163,
            "bin_end": 0.09516276118425895,
            "count": 0
           },
           {
            "bin_start": 0.09516276118425895,
            "bin_end": 0.1268808813326563,
            "count": 1
           },
           {
            "bin_start": 0.1268808813326563,
            "bin_end": 0.1585990014810536,
            "count": 0
           },
           {
            "bin_start": 0.1585990014810536,
            "bin_end": 0.19031712162945094,
            "count": 1
           },
           {
            "bin_start": 0.19031712162945094,
            "bin_end": 0.22203524177784828,
            "count": 0
           },
           {
            "bin_start": 0.22203524177784828,
            "bin_end": 0.2537533619262456,
            "count": 1
           },
           {
            "bin_start": 0.2537533619262456,
            "bin_end": 0.2854714820746429,
            "count": 0
           },
           {
            "bin_start": 0.2854714820746429,
            "bin_end": 0.3171896022230402,
            "count": 1
           }
          ]
         }
        },
        {
         "name": "Jerk Std",
         "dtype": "float64",
         "stats": {
          "unique_count": 76,
          "nan_count": 0,
          "min": 0.000007003348970611169,
          "max": 0.9320457292316,
          "histogram": [
           {
            "bin_start": 0.000007003348970611169,
            "bin_end": 0.09321087593723354,
            "count": 71
           },
           {
            "bin_start": 0.09321087593723354,
            "bin_end": 0.18641474852549647,
            "count": 3
           },
           {
            "bin_start": 0.18641474852549647,
            "bin_end": 0.27961862111375946,
            "count": 0
           },
           {
            "bin_start": 0.27961862111375946,
            "bin_end": 0.37282249370202236,
            "count": 0
           },
           {
            "bin_start": 0.37282249370202236,
            "bin_end": 0.46602636629028527,
            "count": 1
           },
           {
            "bin_start": 0.46602636629028527,
            "bin_end": 0.5592302388785483,
            "count": 0
           },
           {
            "bin_start": 0.5592302388785483,
            "bin_end": 0.6524341114668112,
            "count": 0
           },
           {
            "bin_start": 0.6524341114668112,
            "bin_end": 0.7456379840550741,
            "count": 0
           },
           {
            "bin_start": 0.7456379840550741,
            "bin_end": 0.838841856643337,
            "count": 0
           },
           {
            "bin_start": 0.838841856643337,
            "bin_end": 0.9320457292316,
            "count": 1
           }
          ]
         }
        },
        {
         "name": "Max Jerk",
         "dtype": "float64",
         "stats": {
          "unique_count": 76,
          "nan_count": 0,
          "min": 0.00004227625823297628,
          "max": 12.82186169144372,
          "histogram": [
           {
            "bin_start": 0.00004227625823297628,
            "bin_end": 1.2822242177767817,
            "count": 73
           },
           {
            "bin_start": 1.2822242177767817,
            "bin_end": 2.5644061592953302,
            "count": 1
           },
           {
            "bin_start": 2.5644061592953302,
            "bin_end": 3.8465881008138787,
            "count": 0
           },
           {
            "bin_start": 3.8465881008138787,
            "bin_end": 5.128770042332428,
            "count": 0
           },
           {
            "bin_start": 5.128770042332428,
            "bin_end": 6.4109519838509765,
            "count": 0
           },
           {
            "bin_start": 6.4109519838509765,
            "bin_end": 7.693133925369525,
            "count": 0
           },
           {
            "bin_start": 7.693133925369525,
            "bin_end": 8.975315866888074,
            "count": 0
           },
           {
            "bin_start": 8.975315866888074,
            "bin_end": 10.257497808406622,
            "count": 0
           },
           {
            "bin_start": 10.257497808406622,
            "bin_end": 11.53967974992517,
            "count": 1
           },
           {
            "bin_start": 11.53967974992517,
            "bin_end": 12.82186169144372,
            "count": 1
           }
          ]
         }
        },
        {
         "name": "NIJ",
         "dtype": "float64",
         "stats": {
          "unique_count": 76,
          "nan_count": 0,
          "min": 0.0006182243712878,
          "max": 0.0141089108910891,
          "histogram": [
           {
            "bin_start": 0.0006182243712878,
            "bin_end": 0.0019672930232679303,
            "count": 25
           },
           {
            "bin_start": 0.0019672930232679303,
            "bin_end": 0.0033163616752480605,
            "count": 33
           },
           {
            "bin_start": 0.0033163616752480605,
            "bin_end": 0.004665430327228191,
            "count": 7
           },
           {
            "bin_start": 0.004665430327228191,
            "bin_end": 0.00601449897920832,
            "count": 5
           },
           {
            "bin_start": 0.00601449897920832,
            "bin_end": 0.00736356763118845,
            "count": 2
           },
           {
            "bin_start": 0.00736356763118845,
            "bin_end": 0.008712636283168582,
            "count": 0
           },
           {
            "bin_start": 0.008712636283168582,
            "bin_end": 0.010061704935148711,
            "count": 0
           },
           {
            "bin_start": 0.010061704935148711,
            "bin_end": 0.011410773587128841,
            "count": 2
           },
           {
            "bin_start": 0.011410773587128841,
            "bin_end": 0.012759842239108971,
            "count": 1
           },
           {
            "bin_start": 0.012759842239108971,
            "bin_end": 0.0141089108910891,
            "count": 1
           }
          ]
         }
        },
        {
         "name": "NIC",
         "dtype": "float64",
         "stats": {
          "unique_count": 76,
          "nan_count": 0,
          "min": 0.0003422313483915,
          "max": 0.0066831683168316,
          "histogram": [
           {
            "bin_start": 0.0003422313483915,
            "bin_end": 0.00097632504523551,
            "count": 24
           },
           {
            "bin_start": 0.00097632504523551,
            "bin_end": 0.00161041874207952,
            "count": 32
           },
           {
            "bin_start": 0.00161041874207952,
            "bin_end": 0.00224451243892353,
            "count": 7
           },
           {
            "bin_start": 0.00224451243892353,
            "bin_end": 0.00287860613576754,
            "count": 8
           },
           {
            "bin_start": 0.00287860613576754,
            "bin_end": 0.0035126998326115502,
            "count": 1
           },
           {
            "bin_start": 0.0035126998326115502,
            "bin_end": 0.0041467935294555594,
            "count": 0
           },
           {
            "bin_start": 0.0041467935294555594,
            "bin_end": 0.0047808872262995695,
            "count": 0
           },
           {
            "bin_start": 0.0047808872262995695,
            "bin_end": 0.00541498092314358,
            "count": 0
           },
           {
            "bin_start": 0.00541498092314358,
            "bin_end": 0.00604907461998759,
            "count": 0
           },
           {
            "bin_start": 0.00604907461998759,
            "bin_end": 0.0066831683168316,
            "count": 4
           }
          ]
         }
        },
        {
         "name": "Duration",
         "dtype": "int64",
         "stats": {
          "unique_count": 76,
          "nan_count": 0,
          "min": 3695,
          "max": 103445,
          "histogram": [
           {
            "bin_start": 3695,
            "bin_end": 13670,
            "count": 24
           },
           {
            "bin_start": 13670,
            "bin_end": 23645,
            "count": 23
           },
           {
            "bin_start": 23645,
            "bin_end": 33620,
            "count": 14
           },
           {
            "bin_start": 33620,
            "bin_end": 43595,
            "count": 9
           },
           {
            "bin_start": 43595,
            "bin_end": 53570,
            "count": 3
           },
           {
            "bin_start": 53570,
            "bin_end": 63545,
            "count": 1
           },
           {
            "bin_start": 63545,
            "bin_end": 73520,
            "count": 0
           },
           {
            "bin_start": 73520,
            "bin_end": 83495,
            "count": 0
           },
           {
            "bin_start": 83495,
            "bin_end": 93470,
            "count": 1
           },
           {
            "bin_start": 93470,
            "bin_end": 103445,
            "count": 1
           }
          ]
         }
        },
        {
         "name": "Mean Pressure",
         "dtype": "float64",
         "stats": {
          "unique_count": 76,
          "nan_count": 0,
          "min": 336.0640812036748,
          "max": 984.7321434667232,
          "histogram": [
           {
            "bin_start": 336.0640812036748,
            "bin_end": 400.93088742997963,
            "count": 3
           },
           {
            "bin_start": 400.93088742997963,
            "bin_end": 465.7976936562844,
            "count": 5
           },
           {
            "bin_start": 465.7976936562844,
            "bin_end": 530.6644998825893,
            "count": 5
           },
           {
            "bin_start": 530.6644998825893,
            "bin_end": 595.5313061088941,
            "count": 4
           },
           {
            "bin_start": 595.5313061088941,
            "bin_end": 660.3981123351989,
            "count": 17
           },
           {
            "bin_start": 660.3981123351989,
            "bin_end": 725.2649185615037,
            "count": 11
           },
           {
            "bin_start": 725.2649185615037,
            "bin_end": 790.1317247878086,
            "count": 10
           },
           {
            "bin_start": 790.1317247878086,
            "bin_end": 854.9985310141135,
            "count": 8
           },
           {
            "bin_start": 854.9985310141135,
            "bin_end": 919.8653372404183,
            "count": 8
           },
           {
            "bin_start": 919.8653372404183,
            "bin_end": 984.7321434667232,
            "count": 5
           }
          ]
         }
        },
        {
         "name": "Median Pressure",
         "dtype": "float64",
         "stats": {
          "unique_count": 76,
          "nan_count": 0,
          "min": 346.8342800746977,
          "max": 1022.9994384732706,
          "histogram": [
           {
            "bin_start": 346.8342800746977,
            "bin_end": 414.450795914555,
            "count": 3
           },
           {
            "bin_start": 414.450795914555,
            "bin_end": 482.06731175441223,
            "count": 5
           },
           {
            "bin_start": 482.06731175441223,
            "bin_end": 549.6838275942696,
            "count": 5
           },
           {
            "bin_start": 549.6838275942696,
            "bin_end": 617.3003434341268,
            "count": 6
           },
           {
            "bin_start": 617.3003434341268,
            "bin_end": 684.9168592739841,
            "count": 18
           },
           {
            "bin_start": 684.9168592739841,
            "bin_end": 752.5333751138414,
            "count": 8
           },
           {
            "bin_start": 752.5333751138414,
            "bin_end": 820.1498909536987,
            "count": 13
           },
           {
            "bin_start": 820.1498909536987,
            "bin_end": 887.7664067935559,
            "count": 7
           },
           {
            "bin_start": 887.7664067935559,
            "bin_end": 955.3829226334133,
            "count": 7
           },
           {
            "bin_start": 955.3829226334133,
            "bin_end": 1022.9994384732706,
            "count": 4
           }
          ]
         }
        },
        {
         "name": "Peak Pressure",
         "dtype": "float64",
         "stats": {
          "unique_count": 76,
          "nan_count": 0,
          "min": 414.63089321242654,
          "max": 1024.2410973148071,
          "histogram": [
           {
            "bin_start": 414.63089321242654,
            "bin_end": 475.5919136226646,
            "count": 3
           },
           {
            "bin_start": 475.5919136226646,
            "bin_end": 536.5529340329026,
            "count": 5
           },
           {
            "bin_start": 536.5529340329026,
            "bin_end": 597.5139544431406,
            "count": 3
           },
           {
            "bin_start": 597.5139544431406,
            "bin_end": 658.4749748533787,
            "count": 6
           },
           {
            "bin_start": 658.4749748533787,
            "bin_end": 719.4359952636169,
            "count": 8
           },
           {
            "bin_start": 719.4359952636169,
            "bin_end": 780.3970156738549,
            "count": 13
           },
           {
            "bin_start": 780.3970156738549,
            "bin_end": 841.3580360840929,
            "count": 10
           },
           {
            "bin_start": 841.3580360840929,
            "bin_end": 902.3190564943309,
            "count": 8
           },
           {
            "bin_start": 902.3190564943309,
            "bin_end": 963.2800769045689,
            "count": 12
           },
           {
            "bin_start": 963.2800769045689,
            "bin_end": 1024.2410973148071,
            "count": 8
           }
          ]
         }
        },
        {
         "name": "Pressure Std",
         "dtype": "float64",
         "stats": {
          "unique_count": 76,
          "nan_count": 0,
          "min": 14.345988640844006,
          "max": 124.94975735668584,
          "histogram": [
           {
            "bin_start": 14.345988640844006,
            "bin_end": 25.406365512428188,
            "count": 5
           },
           {
            "bin_start": 25.406365512428188,
            "bin_end": 36.46674238401237,
            "count": 6
           },
           {
            "bin_start": 36.46674238401237,
            "bin_end": 47.52711925559655,
            "count": 15
           },
           {
            "bin_start": 47.52711925559655,
            "bin_end": 58.587496127180735,
            "count": 12
           },
           {
            "bin_start": 58.587496127180735,
            "bin_end": 69.64787299876491,
            "count": 15
           },
           {
            "bin_start": 69.64787299876491,
            "bin_end": 80.7082498703491,
            "count": 5
           },
           {
            "bin_start": 80.7082498703491,
            "bin_end": 91.76862674193328,
            "count": 8
           },
           {
            "bin_start": 91.76862674193328,
            "bin_end": 102.82900361351747,
            "count": 2
           },
           {
            "bin_start": 102.82900361351747,
            "bin_end": 113.88938048510164,
            "count": 4
           },
           {
            "bin_start": 113.88938048510164,
            "bin_end": 124.94975735668584,
            "count": 4
           }
          ]
         }
        },
        {
         "name": "Rate of Inversion in Pressure",
         "dtype": "float64",
         "stats": {
          "unique_count": 76,
          "nan_count": 0,
          "min": 0.0014597128909082,
          "max": 0.0353918752564628,
          "histogram": [
           {
            "bin_start": 0.0014597128909082,
            "bin_end": 0.004852929127463659,
            "count": 18
           },
           {
            "bin_start": 0.004852929127463659,
            "bin_end": 0.008246145364019119,
            "count": 19
           },
           {
            "bin_start": 0.008246145364019119,
            "bin_end": 0.011639361600574577,
            "count": 13
           },
           {
            "bin_start": 0.011639361600574577,
            "bin_end": 0.015032577837130037,
            "count": 13
           },
           {
            "bin_start": 0.015032577837130037,
            "bin_end": 0.018425794073685497,
            "count": 7
           },
           {
            "bin_start": 0.018425794073685497,
            "bin_end": 0.021819010310240954,
            "count": 2
           },
           {
            "bin_start": 0.021819010310240954,
            "bin_end": 0.025212226546796414,
            "count": 1
           },
           {
            "bin_start": 0.025212226546796414,
            "bin_end": 0.028605442783351875,
            "count": 1
           },
           {
            "bin_start": 0.028605442783351875,
            "bin_end": 0.03199865901990734,
            "count": 1
           },
           {
            "bin_start": 0.03199865901990734,
            "bin_end": 0.0353918752564628,
            "count": 1
           }
          ]
         }
        },
        {
         "name": "_deepnote_index_column",
         "dtype": "int64"
        }
       ],
       "rows_top": [
        {
         "Subject ID": "C1",
         "Category": 0,
         "Mean Velocity": 0.7417033845003878,
         "Velocity Std": 0.2139529428044559,
         "Peak Velocity": 1.3766812040933234,
         "NVV": 0.0005999126773168,
         "NIV": 0.0007719027402547,
         "Mean Acceleration": 0.0068220099833791,
         "Acceleration Std": 0.0049246524505051,
         "Peak Acceleration": 0.0348190941181556,
         "NIA": 0.0013783977504548,
         "Mean Jerk": 0.0002432508237354,
         "Jerk Std": 0.0003976265590555,
         "Max Jerk": 0.0030172086052468,
         "NIJ": 0.0016540773005458,
         "NIC": 0.0009373104703093,
         "Duration": 18137,
         "Mean Pressure": 900.4039896659157,
         "Median Pressure": 906.6190457339547,
         "Peak Pressure": 936.9883735753424,
         "Pressure Std": 32.21843826649325,
         "Rate of Inversion in Pressure": 0.0127915311242212,
         "_deepnote_index_column": 0
        },
        {
         "Subject ID": "C2",
         "Category": 0,
         "Mean Velocity": 0.5618559896660562,
         "Velocity Std": 0.1359779197087727,
         "Peak Velocity": 1.0306462786301305,
         "NVV": 0.0003255561581826,
         "NIV": 0.0004485950817666,
         "Mean Acceleration": 0.0035854234885985,
         "Acceleration Std": 0.0018987178023777,
         "Peak Acceleration": 0.0142625661925012,
         "NIA": 0.0008971901635332,
         "Mean Jerk": 0.00006419264827802513,
         "Jerk Std": 0.00007952467642375863,
         "Max Jerk": 0.0006219474978408,
         "NIJ": 0.0012642225031605,
         "NIC": 0.0006932833081848,
         "Duration": 24521,
         "Mean Pressure": 797.7289629713913,
         "Median Pressure": 797.0263647139745,
         "Peak Pressure": 827.2636637702757,
         "Pressure Std": 17.249717790984235,
         "Rate of Inversion in Pressure": 0.0099506545410056,
         "_deepnote_index_column": 1
        },
        {
         "Subject ID": "C3",
         "Category": 0,
         "Mean Velocity": 0.5763930406412765,
         "Velocity Std": 0.1231131524048657,
         "Peak Velocity": 0.8806546840050677,
         "NVV": 0.0002905839599136,
         "NIV": 0.0004218341348181,
         "Mean Acceleration": 0.0036964795375419,
         "Acceleration Std": 0.0023933840148313,
         "Peak Acceleration": 0.0199918961338425,
         "NIA": 0.0009280350966,
         "Mean Jerk": 0.0001033351174828,
         "Jerk Std": 0.0002055440535979,
         "Max Jerk": 0.0019582355612457,
         "NIJ": 0.0012092578531454,
         "NIC": 0.0005905677887454,
         "Duration": 35559,
         "Mean Pressure": 856.7725959812201,
         "Median Pressure": 855.8610367100082,
         "Peak Pressure": 881.170684938876,
         "Pressure Std": 14.345988640844006,
         "Rate of Inversion in Pressure": 0.0068055907084001,
         "_deepnote_index_column": 2
        },
        {
         "Subject ID": "C4",
         "Category": 0,
         "Mean Velocity": 0.6146401047507987,
         "Velocity Std": 0.1326369540074891,
         "Peak Velocity": 1.0060966975419077,
         "NVV": 0.0003646927904079,
         "NIV": 0.0005184033177812,
         "Mean Acceleration": 0.0041385268456394,
         "Acceleration Std": 0.0022836429985519,
         "Peak Acceleration": 0.016272927281074,
         "NIA": 0.0009896790612187,
         "Mean Jerk": 0.00009830831680419117,
         "Jerk Std": 0.0001172412860125,
         "Max Jerk": 0.0013389538921454,
         "NIJ": 0.0016494651020311,
         "NIC": 0.0008482963381874,
         "Duration": 21219,
         "Mean Pressure": 908.361162944246,
         "Median Pressure": 914.1908862947446,
         "Peak Pressure": 930.8369254206464,
         "Pressure Std": 15.640648747470197,
         "Rate of Inversion in Pressure": 0.0116405108629058,
         "_deepnote_index_column": 3
        },
        {
         "Subject ID": "C5",
         "Category": 0,
         "Mean Velocity": 0.9775479660542332,
         "Velocity Std": 0.2947366229423505,
         "Peak Velocity": 1.7156942395618568,
         "NVV": 0.0004173534874324,
         "NIV": 0.0007201497911565,
         "Mean Acceleration": 0.0095413121913618,
         "Acceleration Std": 0.0044760539596309,
         "Peak Acceleration": 0.0320759895366892,
         "NIA": 0.0012242546449661,
         "Mean Jerk": 0.0002338349759207,
         "Jerk Std": 0.0002438021611468,
         "Max Jerk": 0.0025696080356917,
         "NIJ": 0.0022324643525853,
         "NIC": 0.0011522396658504,
         "Duration": 13886,
         "Mean Pressure": 935.5467976799788,
         "Median Pressure": 937.9038028530686,
         "Peak Pressure": 1012.0688211860372,
         "Pressure Std": 44.73082742316,
         "Rate of Inversion in Pressure": 0.0160593403427913,
         "_deepnote_index_column": 4
        },
        {
         "Subject ID": "C6",
         "Category": 0,
         "Mean Velocity": 0.7141022415979538,
         "Velocity Std": 0.1598741670548371,
         "Peak Velocity": 1.2841730047746265,
         "NVV": 0.0002875025974376,
         "NIV": 0.0005808120808912,
         "Mean Acceleration": 0.0052196295992272,
         "Acceleration Std": 0.0020834429402087,
         "Peak Acceleration": 0.0155718562747386,
         "NIA": 0.0010560219652568,
         "Mean Jerk": 0.00009383179211113863,
         "Jerk Std": 0.00008404275042759835,
         "Max Jerk": 0.0004878420967101,
         "NIJ": 0.0017424362426738,
         "NIC": 0.0008448175722055,
         "Duration": 18939,
         "Mean Pressure": 854.4099173085586,
         "Median Pressure": 855.182835224309,
         "Peak Pressure": 896.4875387743133,
         "Pressure Std": 23.98625481600354,
         "Rate of Inversion in Pressure": 0.0111938328317229,
         "_deepnote_index_column": 5
        },
        {
         "Subject ID": "C7",
         "Category": 0,
         "Mean Velocity": 0.83183196127431,
         "Velocity Std": 0.2329409481249769,
         "Peak Velocity": 1.6075650122144047,
         "NVV": 0.0005541531222059,
         "NIV": 0.0006439903986886,
         "Mean Acceleration": 0.0077857177322193,
         "Acceleration Std": 0.0033204175213995,
         "Peak Acceleration": 0.0177901359885382,
         "NIA": 0.001522159124173,
         "Mean Jerk": 0.0002502780930628,
         "Jerk Std": 0.000184816204504,
         "Max Jerk": 0.0011969175613329,
         "NIJ": 0.0022246941045606,
         "NIC": 0.0012879807973772,
         "Duration": 17081,
         "Mean Pressure": 896.5966806891972,
         "Median Pressure": 902.4900596468837,
         "Peak Pressure": 960.1177329847072,
         "Pressure Std": 31.99887903249285,
         "Rate of Inversion in Pressure": 0.0121772729933844,
         "_deepnote_index_column": 6
        },
        {
         "Subject ID": "C8",
         "Category": 0,
         "Mean Velocity": 0.349305553113578,
         "Velocity Std": 0.070763485208317,
         "Peak Velocity": 0.5471485040783793,
         "NVV": 0.0002140894131477,
         "NIV": 0.0004321850769035,
         "Mean Acceleration": 0.0013496595973372,
         "Acceleration Std": 0.0005830298490807,
         "Peak Acceleration": 0.0040292508365475,
         "NIA": 0.0008135248506419,
         "Mean Jerk": 0.000023686539078717327,
         "Jerk Std": 0.00002126663216712302,
         "Max Jerk": 0.000129061653769,
         "NIJ": 0.0011440193212152,
         "NIC": 0.0005338756832337,
         "Duration": 39335,
         "Mean Pressure": 628.1307593684763,
         "Median Pressure": 620.9512832849941,
         "Peak Pressure": 700.6849183554788,
         "Pressure Std": 32.289724998682885,
         "Rate of Inversion in Pressure": 0.0055675606965806,
         "_deepnote_index_column": 7
        },
        {
         "Subject ID": "C9",
         "Category": 0,
         "Mean Velocity": 0.3013752247391701,
         "Velocity Std": 0.0616510873203573,
         "Peak Velocity": 0.4327850650959038,
         "NVV": 0.0001271906193259,
         "NIV": 0.0003510365904022,
         "Mean Acceleration": 0.0008928930051166,
         "Acceleration Std": 0.0002837895921342,
         "Peak Acceleration": 0.0018825773786296,
         "NIA": 0.0006194763360039,
         "Mean Jerk": 0.000008400739066982594,
         "Jerk Std": 0.000007003348970611169,
         "Max Jerk": 0.00004227625823297628,
         "NIJ": 0.0008466176592054,
         "NIC": 0.0004336334352027,
         "Duration": 48428,
         "Mean Pressure": 741.9148849287544,
         "Median Pressure": 753.191632501248,
         "Peak Pressure": 804.4834218071587,
         "Pressure Std": 39.41290002752543,
         "Rate of Inversion in Pressure": 0.0057198315024366,
         "_deepnote_index_column": 8
        },
        {
         "Subject ID": "C10",
         "Category": 0,
         "Mean Velocity": 0.35716228719166,
         "Velocity Std": 0.1184310324609575,
         "Peak Velocity": 0.7813545998612241,
         "NVV": 0.0003680493835632,
         "NIV": 0.0004350607805502,
         "Mean Acceleration": 0.0019978305518239,
         "Acceleration Std": 0.0014068429999355,
         "Peak Acceleration": 0.0087285301211792,
         "NIA": 0.000639795265515,
         "Mean Jerk": 0.00003864616030152771,
         "Jerk Std": 0.00004603201570640898,
         "Max Jerk": 0.0003196126890418,
         "NIJ": 0.0009468969929622,
         "NIC": 0.0005886116442738,
         "Duration": 39075,
         "Mean Pressure": 877.3669718223023,
         "Median Pressure": 884.0021296210709,
         "Peak Pressure": 984.7135061639888,
         "Pressure Std": 45.322035620140205,
         "Rate of Inversion in Pressure": 0.0054254638515674,
         "_deepnote_index_column": 9
        },
        {
         "Subject ID": "C11",
         "Category": 0,
         "Mean Velocity": 0.3309129027986859,
         "Velocity Std": 0.1115549795619358,
         "Peak Velocity": 0.6243264934454623,
         "NVV": 0.0003759807469611,
         "NIV": 0.0004906771344455,
         "Mean Acceleration": 0.0018313208640576,
         "Acceleration Std": 0.0013629230690389,
         "Peak Acceleration": 0.0099868861007689,
         "NIA": 0.0009346231132295,
         "Mean Jerk": 0.00004815218018944594,
         "Jerk Std": 0.00006653944245439928,
         "Max Jerk": 0.0005367004139114,
         "NIJ": 0.0011916444693677,
         "NIC": 0.0006075050235992,
         "Duration": 42798,
         "Mean Pressure": 901.9799601965464,
         "Median Pressure": 919.2559145900497,
         "Peak Pressure": 950.1777422701516,
         "Pressure Std": 46.90433250849506,
         "Rate of Inversion in Pressure": 0.0051871582784242,
         "_deepnote_index_column": 10
        },
        {
         "Subject ID": "C12",
         "Category": 0,
         "Mean Velocity": 0.6625308085347028,
         "Velocity Std": 0.1130292507651355,
         "Peak Velocity": 1.153660741318466,
         "NVV": 0.0003970171712675,
         "NIV": 0.0008606241790098,
         "Mean Acceleration": 0.0050896744620542,
         "Acceleration Std": 0.0043649187045647,
         "Peak Acceleration": 0.0352776946705277,
         "NIA": 0.001358880282647,
         "Mean Jerk": 0.0002116932835299,
         "Jerk Std": 0.0003812679286775,
         "Max Jerk": 0.0040296673734472,
         "NIJ": 0.0020383204239706,
         "NIC": 0.0010418082166961,
         "Duration": 22077,
         "Mean Pressure": 868.1257480640131,
         "Median Pressure": 893.5998266548017,
         "Peak Pressure": 922.5165953185694,
         "Pressure Std": 47.9575223442922,
         "Rate of Inversion in Pressure": 0.0103727861575395,
         "_deepnote_index_column": 11
        },
        {
         "Subject ID": "C13",
         "Category": 0,
         "Mean Velocity": 1.4293422327743668,
         "Velocity Std": 0.45975347617536,
         "Peak Velocity": 2.71798977416407,
         "NVV": 0.0009857903362147,
         "NIV": 0.0013336068937217,
         "Mean Acceleration": 0.0261619039851711,
         "Acceleration Std": 0.016048566269836,
         "Peak Acceleration": 0.0880744630170269,
         "NIA": 0.002154288059089,
         "Mean Jerk": 0.0014413079850502,
         "Jerk Std": 0.0012838632258289,
         "Max Jerk": 0.007546827903986,
         "NIJ": 0.003282724661469,
         "NIC": 0.0015387771850636,
         "Duration": 9748,
         "Mean Pressure": 569.6841833602349,
         "Median Pressure": 586.1955905513954,
         "Peak Pressure": 643.3315628046529,
         "Pressure Std": 61.20310959700485,
         "Rate of Inversion in Pressure": 0.0353918752564628,
         "_deepnote_index_column": 12
        },
        {
         "Subject ID": "C14",
         "Category": 0,
         "Mean Velocity": 1.117023476274828,
         "Velocity Std": 0.3092859145582792,
         "Peak Velocity": 2.0833060168770468,
         "NVV": 0.0008879999999915,
         "NIV": 0.0011343870528624,
         "Mean Acceleration": 0.0171012980551602,
         "Acceleration Std": 0.0086537804065857,
         "Peak Acceleration": 0.055645412036988,
         "NIA": 0.001890645088104,
         "Mean Jerk": 0.0007939908714326,
         "Jerk Std": 0.0007090516298742,
         "Max Jerk": 0.0037987196020442,
         "NIJ": 0.0025712773198215,
         "NIC": 0.001436890266959,
         "Duration": 13223,
         "Mean Pressure": 527.163909170396,
         "Median Pressure": 540.5963043716347,
         "Peak Pressure": 654.7376983460745,
         "Pressure Std": 115.6872889222521,
         "Rate of Inversion in Pressure": 0.0190577024880889,
         "_deepnote_index_column": 13
        },
        {
         "Subject ID": "C15",
         "Category": 0,
         "Mean Velocity": 0.7500846720591714,
         "Velocity Std": 0.1424532326169982,
         "Peak Velocity": 1.1355457156975914,
         "NVV": 0.0005148377729298,
         "NIV": 0.0008122157244964,
         "Mean Acceleration": 0.0063277858554534,
         "Acceleration Std": 0.0028927257284834,
         "Peak Acceleration": 0.0143456819960566,
         "NIA": 0.0014619883040935,
         "Mean Jerk": 0.0002177486821644,
         "Jerk Std": 0.0001312950346391,
         "Max Jerk": 0.0007182313977825,
         "NIJ": 0.0023283517435564,
         "NIC": 0.0010829542993285,
         "Duration": 18468,
         "Mean Pressure": 487.3485644534404,
         "Median Pressure": 490.5727267224047,
         "Peak Pressure": 537.4796469087212,
         "Pressure Std": 30.19443647453467,
         "Rate of Inversion in Pressure": 0.0114251678579163,
         "_deepnote_index_column": 14
        },
        {
         "Subject ID": "H_P000-0003",
         "Category": 1,
         "Mean Velocity": 0.8323098512606546,
         "Velocity Std": 0.2597141442639165,
         "Peak Velocity": 1.9484580181502984,
         "NVV": 0.0009311443845546,
         "NIV": 0.0014381867341655,
         "Mean Acceleration": 0.0130381052720322,
         "Acceleration Std": 0.0148079716434157,
         "Peak Acceleration": 0.1131433381149837,
         "NIA": 0.0025312086521313,
         "Mean Jerk": 0.0012747188567576,
         "Jerk Std": 0.0027257510813768,
         "Max Jerk": 0.0313794341855945,
         "NIJ": 0.0033365932232641,
         "NIC": 0.0015532416728988,
         "Duration": 17383,
         "Mean Pressure": 783.8780451134465,
         "Median Pressure": 791.5170205193074,
         "Peak Pressure": 890.5631802101933,
         "Pressure Std": 51.80030240834743,
         "Rate of Inversion in Pressure": 0.0113904389345912,
         "_deepnote_index_column": 15
        },
        {
         "Subject ID": "H_P000-0004",
         "Category": 1,
         "Mean Velocity": 1.1355031007411618,
         "Velocity Std": 0.433569282794937,
         "Peak Velocity": 2.9999556331704413,
         "NVV": 0.0011131970346257,
         "NIV": 0.001098901098901,
         "Mean Acceleration": 0.0191509298467132,
         "Acceleration Std": 0.0128663126928139,
         "Peak Acceleration": 0.0837751436320361,
         "NIA": 0.0019917582417582,
         "Mean Jerk": 0.0012628801288837,
         "Jerk Std": 0.0014417845915924,
         "Max Jerk": 0.0104229335371206,
         "NIJ": 0.0026098901098901,
         "NIC": 0.001510989010989,
         "Duration": 14560,
         "Mean Pressure": 769.8153796921648,
         "Median Pressure": 775.6585744221251,
         "Peak Pressure": 838.5767519795123,
         "Pressure Std": 52.96590277257396,
         "Rate of Inversion in Pressure": 0.0139423076923076,
         "_deepnote_index_column": 16
        },
        {
         "Subject ID": "P_30100002",
         "Category": 1,
         "Mean Velocity": 0.7239490847196568,
         "Velocity Std": 0.2160368094508036,
         "Peak Velocity": 1.1718567882961746,
         "NVV": 0.0002966661875345,
         "NIV": 0.0007079089157195,
         "Mean Acceleration": 0.0054279147560084,
         "Acceleration Std": 0.0025864925503697,
         "Peak Acceleration": 0.014558066469666,
         "NIA": 0.0011011916466747,
         "Mean Jerk": 0.0001642463888354,
         "Jerk Std": 0.0001337234165699,
         "Max Jerk": 0.0008108568187486,
         "NIJ": 0.0016124591969166,
         "NIC": 0.0007865654619105,
         "Duration": 25427,
         "Mean Pressure": 496.3232703563806,
         "Median Pressure": 513.5205602943289,
         "Peak Pressure": 577.0176462274214,
         "Pressure Std": 69.36095470075406,
         "Rate of Inversion in Pressure": 0.0064498367876666,
         "_deepnote_index_column": 17
        },
        {
         "Subject ID": "P_09100001",
         "Category": 1,
         "Mean Velocity": 0.5206853177544708,
         "Velocity Std": 0.3069349431232181,
         "Peak Velocity": 1.2051209572966923,
         "NVV": 0.0002819527328618,
         "NIV": 0.0004295993985608,
         "Mean Acceleration": 0.003650989155053,
         "Acceleration Std": 0.0030551232592075,
         "Peak Acceleration": 0.0170919654716635,
         "NIA": 0.0008054988723015,
         "Mean Jerk": 0.00008602173093011695,
         "Jerk Std": 0.0001180319510624,
         "Max Jerk": 0.0010215661359209,
         "NIJ": 0.001047148533992,
         "NIC": 0.000536999248201,
         "Duration": 37244,
         "Mean Pressure": 646.7809610937455,
         "Median Pressure": 674.4029898482893,
         "Peak Pressure": 742.6203243048633,
         "Pressure Std": 83.6542153285489,
         "Rate of Inversion in Pressure": 0.0049403930834496,
         "_deepnote_index_column": 18
        },
        {
         "Subject ID": "P_26060003",
         "Category": 1,
         "Mean Velocity": 1.0877385177293524,
         "Velocity Std": 0.2243251274332571,
         "Peak Velocity": 1.727740340891113,
         "NVV": 0.0005030816607642,
         "NIV": 0.0008097165991902,
         "Mean Acceleration": 0.0132909228898436,
         "Acceleration Std": 0.0068021640355368,
         "Peak Acceleration": 0.0320793499382532,
         "NIA": 0.0015744489428699,
         "Mean Jerk": 0.0006028582936122,
         "Jerk Std": 0.0003922559796242,
         "Max Jerk": 0.0020933864051883,
         "NIJ": 0.0019343229869545,
         "NIC": 0.0009896536212325,
         "Duration": 22230,
         "Mean Pressure": 632.9041645040863,
         "Median Pressure": 650.4633301929728,
         "Peak Pressure": 687.6795050540833,
         "Pressure Std": 44.02105546741889,
         "Rate of Inversion in Pressure": 0.0084570400359874,
         "_deepnote_index_column": 19
        },
        {
         "Subject ID": "H_P000-0031",
         "Category": 1,
         "Mean Velocity": 1.1913255741471145,
         "Velocity Std": 0.2376406510101484,
         "Peak Velocity": 2.0575060202668287,
         "NVV": 0.0005342333649319,
         "NIV": 0.0009634684865515,
         "Mean Acceleration": 0.0149674936390605,
         "Acceleration Std": 0.0075224387155497,
         "Peak Acceleration": 0.0605659872151295,
         "NIA": 0.0015254917703733,
         "Mean Jerk": 0.0005605629211567,
         "Jerk Std": 0.0007897493052418,
         "Max Jerk": 0.0052712004865953,
         "NIJ": 0.0020875150541951,
         "NIC": 0.0011240465676435,
         "Duration": 12455,
         "Mean Pressure": 611.0350168139208,
         "Median Pressure": 616.6821202111935,
         "Peak Pressure": 679.7461414139045,
         "Pressure Std": 37.58530059059981,
         "Rate of Inversion in Pressure": 0.0086712163789642,
         "_deepnote_index_column": 20
        },
        {
         "Subject ID": "H_P000-0036",
         "Category": 1,
         "Mean Velocity": 1.2790089587917186,
         "Velocity Std": 0.4643097086619441,
         "Peak Velocity": 2.373884547010076,
         "NVV": 0.0009632971059633,
         "NIV": 0.0014618814414151,
         "Mean Acceleration": 0.0236309502483519,
         "Acceleration Std": 0.0209070177747624,
         "Peak Acceleration": 0.1672395699106371,
         "NIA": 0.0024851984504056,
         "Mean Jerk": 0.0014338071257611,
         "Jerk Std": 0.0021520784608681,
         "Max Jerk": 0.0209772356689291,
         "NIJ": 0.0028506688107594,
         "NIC": 0.0015349755134858,
         "Duration": 13681,
         "Mean Pressure": 552.1421440156156,
         "Median Pressure": 562.59132399331,
         "Peak Pressure": 616.067393104334,
         "Pressure Std": 52.26069832167683,
         "Rate of Inversion in Pressure": 0.004751114684599,
         "_deepnote_index_column": 21
        }
       ],
       "rows_bottom": [
        {
         "Subject ID": "P_26060006",
         "Category": 1,
         "Mean Velocity": 1.1687824092513883,
         "Velocity Std": 0.3926967356145088,
         "Peak Velocity": 2.302347473772953,
         "NVV": 0.0018438340120142,
         "NIV": 0.0022007042253521,
         "Mean Acceleration": 0.0356630371416681,
         "Acceleration Std": 0.0294211793977868,
         "Peak Acceleration": 0.1894282156440714,
         "NIA": 0.0037411971830985,
         "Mean Jerk": 0.0051581788967695,
         "Jerk Std": 0.0061267661177795,
         "Max Jerk": 0.0423610322822336,
         "NIJ": 0.0048965669014084,
         "NIC": 0.0024757922535211,
         "Duration": 18176,
         "Mean Pressure": 419.7223061404216,
         "Median Pressure": 444.5002135574134,
         "Peak Pressure": 477.50176374229,
         "Pressure Std": 62.42620590263141,
         "Rate of Inversion in Pressure": 0.0034661091549295,
         "_deepnote_index_column": 53
        },
        {
         "Subject ID": "P_26060001",
         "Category": 1,
         "Mean Velocity": 3.298458502273437,
         "Velocity Std": 1.5319520513411164,
         "Peak Velocity": 8.061789193293208,
         "NVV": 0.0007657035390972,
         "NIV": 0.0011920727164357,
         "Mean Acceleration": 0.0906068902589149,
         "Acceleration Std": 0.0520838399063544,
         "Peak Acceleration": 0.2486901986448867,
         "NIA": 0.0014900908955446,
         "Mean Jerk": 0.0034663741271146,
         "Jerk Std": 0.0026639150027286,
         "Max Jerk": 0.0151496511605616,
         "NIJ": 0.0023841454328714,
         "NIC": 0.0013410818059901,
         "Duration": 6711,
         "Mean Pressure": 715.812656591677,
         "Median Pressure": 725.2419987000671,
         "Peak Pressure": 777.8075220798104,
         "Pressure Std": 49.19564803604367,
         "Rate of Inversion in Pressure": 0.0241394725078229,
         "_deepnote_index_column": 54
        },
        {
         "Subject ID": "H_P000-0008",
         "Category": 1,
         "Mean Velocity": 1.468108485777747,
         "Velocity Std": 0.4420701475374697,
         "Peak Velocity": 2.20733906319945,
         "NVV": 0.0006351951648371,
         "NIV": 0.0010449320794148,
         "Mean Acceleration": 0.0220665410617166,
         "Acceleration Std": 0.0106004855152295,
         "Peak Acceleration": 0.0482795820995293,
         "NIA": 0.0018808777429467,
         "Mean Jerk": 0.0008864484549208,
         "Jerk Std": 0.0007056004938167,
         "Max Jerk": 0.004165517580934,
         "NIJ": 0.0029258098223615,
         "NIC": 0.0015673981191222,
         "Duration": 9570,
         "Mean Pressure": 829.3954834865107,
         "Median Pressure": 834.8029394872135,
         "Peak Pressure": 902.9344073406378,
         "Pressure Std": 39.56779131137563,
         "Rate of Inversion in Pressure": 0.0132706374085684,
         "_deepnote_index_column": 55
        },
        {
         "Subject ID": "P_09100003",
         "Category": 1,
         "Mean Velocity": 0.327179249061591,
         "Velocity Std": 0.1465620525706488,
         "Peak Velocity": 0.835450432859931,
         "NVV": 0.0014851438943679,
         "NIV": 0.0009638394044137,
         "Mean Acceleration": 0.006824760561963,
         "Acceleration Std": 0.0061405532355442,
         "Peak Acceleration": 0.0338728046311307,
         "NIA": 0.0017781175219356,
         "Mean Jerk": 0.0004756280768756,
         "Jerk Std": 0.0005365991436385,
         "Max Jerk": 0.0044718385004209,
         "NIJ": 0.0020772400957192,
         "NIC": 0.0010635469290082,
         "Duration": 60176,
         "Mean Pressure": 755.6823362736679,
         "Median Pressure": 756.202559444308,
         "Peak Pressure": 797.9775666101149,
         "Pressure Std": 19.225570931969507,
         "Rate of Inversion in Pressure": 0.0045366923690507,
         "_deepnote_index_column": 56
        },
        {
         "Subject ID": "H_P000-0001",
         "Category": 1,
         "Mean Velocity": 0.4600531495266613,
         "Velocity Std": 0.17796017633557,
         "Peak Velocity": 1.0565884438760706,
         "NVV": 0.0005955241791288,
         "NIV": 0.0008184794470716,
         "Mean Acceleration": 0.0040854007111417,
         "Acceleration Std": 0.003169113370605,
         "Peak Acceleration": 0.0215781926304325,
         "NIA": 0.0016975870013338,
         "Mean Jerk": 0.0001920249714658,
         "Jerk Std": 0.0002692304291518,
         "Max Jerk": 0.0023289365388966,
         "NIJ": 0.0020007275372862,
         "NIC": 0.0010003637686431,
         "Duration": 32988,
         "Mean Pressure": 761.0712320317181,
         "Median Pressure": 797.1540736771096,
         "Peak Pressure": 929.602980880944,
         "Pressure Std": 107.95949759578085,
         "Rate of Inversion in Pressure": 0.0050624469504062,
         "_deepnote_index_column": 57
        },
        {
         "Subject ID": "P_02100002",
         "Category": 1,
         "Mean Velocity": 0.7359041942824035,
         "Velocity Std": 0.2132301097007724,
         "Peak Velocity": 1.231828608768874,
         "NVV": 0.0008766255586579,
         "NIV": 0.00100781053162,
         "Mean Acceleration": 0.0105709741437138,
         "Acceleration Std": 0.006366579079312,
         "Peak Acceleration": 0.0385180026876987,
         "NIA": 0.0018896447467876,
         "Mean Jerk": 0.0006481631893876,
         "Jerk Std": 0.0005842432874261,
         "Max Jerk": 0.0048082732108847,
         "NIJ": 0.0023935500125976,
         "NIC": 0.0010917947425883,
         "Duration": 23814,
         "Mean Pressure": 678.6003573645997,
         "Median Pressure": 694.9179750458236,
         "Peak Pressure": 772.2587241434261,
         "Pressure Std": 82.35094525368504,
         "Rate of Inversion in Pressure": 0.0089023263626438,
         "_deepnote_index_column": 58
        },
        {
         "Subject ID": "H_P000-0023",
         "Category": 1,
         "Mean Velocity": 1.7499881581717331,
         "Velocity Std": 0.5432900956817861,
         "Peak Velocity": 3.0424069730136343,
         "NVV": 0.0016207469446073,
         "NIV": 0.0016727344288103,
         "Mean Acceleration": 0.0450551551071222,
         "Acceleration Std": 0.0239519104637604,
         "Peak Acceleration": 0.1236866414779762,
         "NIA": 0.0027550920003935,
         "Mean Jerk": 0.0032461920466749,
         "Jerk Std": 0.0021617312092511,
         "Max Jerk": 0.0140269546250407,
         "NIJ": 0.0037390534291055,
         "NIC": 0.0016727344288103,
         "Duration": 10163,
         "Mean Pressure": 824.5144986177017,
         "Median Pressure": 829.8811868988496,
         "Peak Pressure": 968.1655656882408,
         "Pressure Std": 90.98598683805167,
         "Rate of Inversion in Pressure": 0.0180064941454295,
         "_deepnote_index_column": 59
        },
        {
         "Subject ID": "H_P000-0024",
         "Category": 1,
         "Mean Velocity": 0.9274318794812476,
         "Velocity Std": 0.175653110289798,
         "Peak Velocity": 1.2754344368159445,
         "NVV": 0.000250127537471,
         "NIV": 0.0008357978655008,
         "Mean Acceleration": 0.0075264540768539,
         "Acceleration Std": 0.003106734522114,
         "Peak Acceleration": 0.0168625654211364,
         "NIA": 0.0011572585830011,
         "Mean Jerk": 0.0001614749514703,
         "Jerk Std": 0.000109776054051,
         "Max Jerk": 0.000777453666255,
         "NIJ": 0.0019930564485019,
         "NIC": 0.001092966439501,
         "Duration": 15554,
         "Mean Pressure": 336.0640812036748,
         "Median Pressure": 347.95517751073515,
         "Peak Pressure": 434.0054390279221,
         "Pressure Std": 68.18496255388862,
         "Rate of Inversion in Pressure": 0.002057348592002,
         "_deepnote_index_column": 60
        },
        {
         "Subject ID": "P_12060002",
         "Category": 1,
         "Mean Velocity": 0.8289168442275261,
         "Velocity Std": 0.4535121815273435,
         "Peak Velocity": 3.8989879031473302,
         "NVV": 0.0030365717645228,
         "NIV": 0.0017584035331643,
         "Mean Acceleration": 0.0366036052785913,
         "Acceleration Std": 0.0423330006014768,
         "Peak Acceleration": 0.4329835411622406,
         "NIA": 0.0036394863825958,
         "Mean Jerk": 0.0053817296021551,
         "Jerk Std": 0.0100016143816394,
         "Max Jerk": 0.1285584762549978,
         "NIJ": 0.0042937760693547,
         "NIC": 0.0023309070090782,
         "Duration": 24454,
         "Mean Pressure": 602.5213996356116,
         "Median Pressure": 617.5151330437152,
         "Peak Pressure": 671.4375036499999,
         "Pressure Std": 51.367430968954565,
         "Rate of Inversion in Pressure": 0.0072789727651917,
         "_deepnote_index_column": 61
        },
        {
         "Subject ID": "P_11120004",
         "Category": 1,
         "Mean Velocity": 0.874408732869968,
         "Velocity Std": 0.2711420750594858,
         "Peak Velocity": 1.666981156745098,
         "NVV": 0.0008120859882827,
         "NIV": 0.0010781186828983,
         "Mean Acceleration": 0.0132845614417478,
         "Acceleration Std": 0.009949033441959,
         "Peak Acceleration": 0.0657595384617759,
         "NIA": 0.0020214725304343,
         "Mean Jerk": 0.0010369483589966,
         "Jerk Std": 0.0013687749595009,
         "Max Jerk": 0.0108332443595182,
         "NIJ": 0.0024706886483087,
         "NIC": 0.001257805130048,
         "Duration": 22261,
         "Mean Pressure": 650.5903732464286,
         "Median Pressure": 645.305769730874,
         "Peak Pressure": 745.8844766611597,
         "Pressure Std": 71.24095706474877,
         "Rate of Inversion in Pressure": 0.008130811733525,
         "_deepnote_index_column": 62
        },
        {
         "Subject ID": "H_P000-0011",
         "Category": 1,
         "Mean Velocity": 2.000283291554619,
         "Velocity Std": 1.0489107781390643,
         "Peak Velocity": 5.893614675744319,
         "NVV": 0.003228009726691,
         "NIV": 0.0028916143184764,
         "Mean Acceleration": 0.0758230528473385,
         "Acceleration Std": 0.0709504267170827,
         "Peak Acceleration": 0.4130162470072835,
         "NIA": 0.0059826503140891,
         "Mean Jerk": 0.013589113874835,
         "Jerk Std": 0.0194623299647875,
         "Max Jerk": 0.1352476509412998,
         "NIJ": 0.006580915345498,
         "NIC": 0.0034898793498853,
         "Duration": 10029,
         "Mean Pressure": 652.6819080755926,
         "Median Pressure": 643.4753016241721,
         "Peak Pressure": 714.7397819538312,
         "Pressure Std": 38.97370929911071,
         "Rate of Inversion in Pressure": 0.0116661681124738,
         "_deepnote_index_column": 63
        },
        {
         "Subject ID": "P_11120003",
         "Category": 1,
         "Mean Velocity": 0.4367146653895083,
         "Velocity Std": 0.1041567618963944,
         "Peak Velocity": 0.8309653297318604,
         "NVV": 0.0002603260666302,
         "NIV": 0.0003639363354037,
         "Mean Acceleration": 0.002385531370592,
         "Acceleration Std": 0.0013060681849893,
         "Peak Acceleration": 0.0080733218026677,
         "NIA": 0.0007278726708074,
         "Mean Jerk": 0.00004900371129019264,
         "Jerk Std": 0.00004097604208815196,
         "Max Jerk": 0.000240844386367,
         "NIJ": 0.0009462344720496,
         "NIC": 0.0005337732919254,
         "Duration": 41216,
         "Mean Pressure": 491.5481897095867,
         "Median Pressure": 529.688334573047,
         "Peak Pressure": 601.4606468594167,
         "Pressure Std": 81.21230804535763,
         "Rate of Inversion in Pressure": 0.0037606754658385,
         "_deepnote_index_column": 64
        },
        {
         "Subject ID": "H_P000-0016",
         "Category": 1,
         "Mean Velocity": 2.878011527698799,
         "Velocity Std": 1.7118193652915523,
         "Peak Velocity": 7.627852384542709,
         "NVV": 0.0019249187786667,
         "NIV": 0.0021839671120246,
         "Mean Acceleration": 0.0757692199173075,
         "Acceleration Std": 0.0614781982368071,
         "Peak Acceleration": 0.4542307792929794,
         "NIA": 0.0044964028776978,
         "Mean Jerk": 0.0081232827928647,
         "Jerk Std": 0.0151676033492698,
         "Max Jerk": 0.2113773815242428,
         "NIJ": 0.0061664953751284,
         "NIC": 0.0028263103802672,
         "Duration": 7784,
         "Mean Pressure": 726.4199186674025,
         "Median Pressure": 714.1104589832,
         "Peak Pressure": 810.847422752297,
         "Pressure Std": 60.53065979940393,
         "Rate of Inversion in Pressure": 0.0134892086330935,
         "_deepnote_index_column": 65
        },
        {
         "Subject ID": "P_27110003",
         "Category": 1,
         "Mean Velocity": 0.1969569826090075,
         "Velocity Std": 0.1147519624343309,
         "Peak Velocity": 0.6016051348877081,
         "NVV": 0.000345882321032,
         "NIV": 0.0002539135810646,
         "Mean Acceleration": 0.0011789640256753,
         "Acceleration Std": 0.0011323100957002,
         "Peak Acceleration": 0.0058942724484097,
         "NIA": 0.0005188668830451,
         "Mean Jerk": 0.000026633875855886347,
         "Jerk Std": 0.00003518873264393699,
         "Max Jerk": 0.0002740784801658,
         "NIJ": 0.0006182243712878,
         "NIC": 0.0003422313483915,
         "Duration": 90582,
         "Mean Pressure": 644.1188700763698,
         "Median Pressure": 651.4385392933353,
         "Peak Pressure": 747.2140334184893,
         "Pressure Std": 49.93127770847007,
         "Rate of Inversion in Pressure": 0.0023183413923296,
         "_deepnote_index_column": 66
        },
        {
         "Subject ID": "H_P000-0007",
         "Category": 1,
         "Mean Velocity": 0.4295527575697039,
         "Velocity Std": 0.1833723613616082,
         "Peak Velocity": 1.2433358518791875,
         "NVV": 0.0013109658161656,
         "NIV": 0.0011986301369863,
         "Mean Acceleration": 0.0068107601546837,
         "Acceleration Std": 0.0063261627410786,
         "Peak Acceleration": 0.0417507089175384,
         "NIA": 0.0021404109589041,
         "Mean Jerk": 0.0004646149809177,
         "Jerk Std": 0.0006112588365561,
         "Max Jerk": 0.0051343934972479,
         "NIJ": 0.0025399543378995,
         "NIC": 0.0013127853881278,
         "Duration": 35040,
         "Mean Pressure": 805.4797217518261,
         "Median Pressure": 814.4301773537595,
         "Peak Pressure": 952.3906175100672,
         "Pressure Std": 83.61112540784342,
         "Rate of Inversion in Pressure": 0.0057648401826484,
         "_deepnote_index_column": 67
        },
        {
         "Subject ID": "P_09100005",
         "Category": 1,
         "Mean Velocity": 0.4595825578120374,
         "Velocity Std": 0.3783305240196322,
         "Peak Velocity": 1.881801411299196,
         "NVV": 0.0010532769407647,
         "NIV": 0.0006296348118091,
         "Mean Acceleration": 0.0075444537470983,
         "Acceleration Std": 0.0085290270203311,
         "Peak Acceleration": 0.0546365798545706,
         "NIA": 0.0011893102000839,
         "Mean Jerk": 0.0003577765812641,
         "Jerk Std": 0.0005482734620104,
         "Max Jerk": 0.005524787811887,
         "NIJ": 0.0014691478942213,
         "NIC": 0.000746233851033,
         "Duration": 42882,
         "Mean Pressure": 659.2826781118354,
         "Median Pressure": 657.119824953332,
         "Peak Pressure": 901.0797283430232,
         "Pressure Std": 124.94975735668584,
         "Rate of Inversion in Pressure": 0.0039177277179236,
         "_deepnote_index_column": 68
        },
        {
         "Subject ID": "P_30100001",
         "Category": 1,
         "Mean Velocity": 0.9554624607734036,
         "Velocity Std": 0.1857340075743087,
         "Peak Velocity": 1.5073116051731272,
         "NVV": 0.0003946850796293,
         "NIV": 0.0008114171161281,
         "Mean Acceleration": 0.0097448630359112,
         "Acceleration Std": 0.004504534985155,
         "Peak Acceleration": 0.0235819521978103,
         "NIA": 0.0013364517206815,
         "Mean Jerk": 0.0003724480980482,
         "Jerk Std": 0.0002688427439719,
         "Max Jerk": 0.0015815483133794,
         "NIJ": 0.0020524079996181,
         "NIC": 0.0009546083719154,
         "Duration": 20951,
         "Mean Pressure": 833.4056043833064,
         "Median Pressure": 835.2625313186516,
         "Peak Pressure": 904.1216958498862,
         "Pressure Std": 60.60663910734375,
         "Rate of Inversion in Pressure": 0.0106916137654527,
         "_deepnote_index_column": 69
        },
        {
         "Subject ID": "H_P000-0040",
         "Category": 1,
         "Mean Velocity": 3.753486681266351,
         "Velocity Std": 1.203468836766972,
         "Peak Velocity": 7.96124083458433,
         "NVV": 0.0063411577894787,
         "NIV": 0.0066831683168316,
         "Mean Acceleration": 0.3470167743170698,
         "Acceleration Std": 0.2768880778587601,
         "Peak Acceleration": 1.5570938169013244,
         "NIA": 0.0111386138613861,
         "Mean Jerk": 0.1138330292875546,
         "Jerk Std": 0.1082286186025223,
         "Max Jerk": 0.6346523050410683,
         "NIJ": 0.0141089108910891,
         "NIC": 0.0066831683168316,
         "Duration": 4040,
         "Mean Pressure": 753.2193469613671,
         "Median Pressure": 755.7224990143447,
         "Peak Pressure": 838.438088070925,
         "Pressure Std": 43.51078629576136,
         "Rate of Inversion in Pressure": 0.0212871287128712,
         "_deepnote_index_column": 70
        },
        {
         "Subject ID": "P_26060007",
         "Category": 1,
         "Mean Velocity": 0.7668785175252377,
         "Velocity Std": 0.3945792175288371,
         "Peak Velocity": 2.521991283683523,
         "NVV": 0.0006547492999588,
         "NIV": 0.0007485029940119,
         "Mean Acceleration": 0.0081579978532382,
         "Acceleration Std": 0.0065508226594577,
         "Peak Acceleration": 0.0486347141653068,
         "NIA": 0.0013544339891645,
         "Mean Jerk": 0.0004210654606464,
         "Jerk Std": 0.0005914797392018,
         "Max Jerk": 0.0054850123232823,
         "NIJ": 0.0017821499857428,
         "NIC": 0.0009623609923011,
         "Duration": 28056,
         "Mean Pressure": 433.6661270529621,
         "Median Pressure": 453.8355931930405,
         "Peak Pressure": 496.43941596583727,
         "Pressure Std": 60.84957779196996,
         "Rate of Inversion in Pressure": 0.001710863986313,
         "_deepnote_index_column": 71
        },
        {
         "Subject ID": "H_P000-0035",
         "Category": 1,
         "Mean Velocity": 2.4744401016569406,
         "Velocity Std": 2.008779755660483,
         "Peak Velocity": 17.906847382496743,
         "NVV": 0.0196594683492199,
         "NIV": 0.0091400083090984,
         "Mean Acceleration": 0.6923065135798377,
         "Acceleration Std": 1.0315369369995373,
         "Peak Acceleration": 12.584663605314129,
         "NIA": 0.0104556155657111,
         "Mean Jerk": 0.3171896022230402,
         "Jerk Std": 0.9320457292316,
         "Max Jerk": 12.82186169144372,
         "NIJ": 0.0112865254119928,
         "NIC": 0.006439551308683,
         "Duration": 14442,
         "Mean Pressure": 747.6640640376874,
         "Median Pressure": 768.4848421964818,
         "Peak Pressure": 953.098470046336,
         "Pressure Std": 110.2983278723714,
         "Rate of Inversion in Pressure": 0.0100401606425702,
         "_deepnote_index_column": 72
        },
        {
         "Subject ID": "H_p000-0018",
         "Category": 1,
         "Mean Velocity": 0.4517694263424279,
         "Velocity Std": 0.1665244889188225,
         "Peak Velocity": 0.826702821282887,
         "NVV": 0.0009524875848213,
         "NIV": 0.0008749453159177,
         "Mean Acceleration": 0.0056358273523519,
         "Acceleration Std": 0.0053407470904271,
         "Peak Acceleration": 0.0392334048460808,
         "NIA": 0.0017498906318355,
         "Mean Jerk": 0.0002752370097613,
         "Jerk Std": 0.0003311832349704,
         "Max Jerk": 0.0025108551956576,
         "NIJ": 0.0023123554777826,
         "NIC": 0.0010936816448971,
         "Duration": 32002,
         "Mean Pressure": 676.0008054340003,
         "Median Pressure": 672.2985279923586,
         "Peak Pressure": 747.8806975886446,
         "Pressure Std": 31.140067837819075,
         "Rate of Inversion in Pressure": 0.0075620273732891,
         "_deepnote_index_column": 73
        },
        {
         "Subject ID": "P_23100002",
         "Category": 1,
         "Mean Velocity": 0.6406084803513735,
         "Velocity Std": 0.1791105926254659,
         "Peak Velocity": 1.188470430861301,
         "NVV": 0.000339550446843,
         "NIV": 0.0005141564406663,
         "Mean Acceleration": 0.0045991898958142,
         "Acceleration Std": 0.0026376343732471,
         "Peak Acceleration": 0.0126678651598034,
         "NIA": 0.0010283128813326,
         "Mean Jerk": 0.0001420576042295,
         "Jerk Std": 0.0001377420548002,
         "Max Jerk": 0.0008292322694611,
         "NIJ": 0.0014739151299101,
         "NIC": 0.0007540961129773,
         "Duration": 29174,
         "Mean Pressure": 959.257872955432,
         "Median Pressure": 971.0419484808374,
         "Peak Pressure": 1009.1069432673604,
         "Pressure Std": 38.32573998276555,
         "Rate of Inversion in Pressure": 0.0075752382258175,
         "_deepnote_index_column": 74
        },
        {
         "Subject ID": "H_P000-0032",
         "Category": 1,
         "Mean Velocity": 1.6079491445541618,
         "Velocity Std": 0.405464922582526,
         "Peak Velocity": 2.7117097614098453,
         "NVV": 0.0019390544360301,
         "NIV": 0.0023346303501945,
         "Mean Acceleration": 0.0424069956549243,
         "Acceleration Std": 0.0226106601037903,
         "Peak Acceleration": 0.1111812129837171,
         "NIA": 0.0042245692051139,
         "Mean Jerk": 0.0043715039271318,
         "Jerk Std": 0.0036212577820861,
         "Max Jerk": 0.0176479550737425,
         "NIJ": 0.0051139521956642,
         "NIC": 0.0027793218454697,
         "Duration": 8995,
         "Mean Pressure": 815.7670348049813,
         "Median Pressure": 810.2879537640142,
         "Peak Pressure": 901.40897575586,
         "Pressure Std": 48.747048965878,
         "Rate of Inversion in Pressure": 0.0157865480822679,
         "_deepnote_index_column": 75
        }
       ]
      },
      "text/plain": "     Subject ID  Category  Mean Velocity  Velocity Std  Peak Velocity  \\\n0            C1         0       0.741703      0.213953       1.376681   \n1            C2         0       0.561856      0.135978       1.030646   \n2            C3         0       0.576393      0.123113       0.880655   \n3            C4         0       0.614640      0.132637       1.006097   \n4            C5         0       0.977548      0.294737       1.715694   \n..          ...       ...            ...           ...            ...   \n71   P_26060007         1       0.766879      0.394579       2.521991   \n72  H_P000-0035         1       2.474440      2.008780      17.906847   \n73  H_p000-0018         1       0.451769      0.166524       0.826703   \n74   P_23100002         1       0.640608      0.179111       1.188470   \n75  H_P000-0032         1       1.607949      0.405465       2.711710   \n\n         NVV       NIV  Mean Acceleration  Acceleration Std  \\\n0   0.000600  0.000772           0.006822          0.004925   \n1   0.000326  0.000449           0.003585          0.001899   \n2   0.000291  0.000422           0.003696          0.002393   \n3   0.000365  0.000518           0.004139          0.002284   \n4   0.000417  0.000720           0.009541          0.004476   \n..       ...       ...                ...               ...   \n71  0.000655  0.000749           0.008158          0.006551   \n72  0.019659  0.009140           0.692307          1.031537   \n73  0.000952  0.000875           0.005636          0.005341   \n74  0.000340  0.000514           0.004599          0.002638   \n75  0.001939  0.002335           0.042407          0.022611   \n\n    Peak Acceleration  ...  Jerk Std   Max Jerk       NIJ       NIC  Duration  \\\n0            0.034819  ...  0.000398   0.003017  0.001654  0.000937     18137   \n1            0.014263  ...  0.000080   0.000622  0.001264  0.000693     24521   \n2            0.019992  ...  0.000206   0.001958  0.001209  0.000591     35559   \n3            0.016273  ...  0.000117   0.001339  0.001649  0.000848     21219   \n4            0.032076  ...  0.000244   0.002570  0.002232  0.001152     13886   \n..                ...  ...       ...        ...       ...       ...       ...   \n71           0.048635  ...  0.000591   0.005485  0.001782  0.000962     28056   \n72          12.584664  ...  0.932046  12.821862  0.011287  0.006440     14442   \n73           0.039233  ...  0.000331   0.002511  0.002312  0.001094     32002   \n74           0.012668  ...  0.000138   0.000829  0.001474  0.000754     29174   \n75           0.111181  ...  0.003621   0.017648  0.005114  0.002779      8995   \n\n    Mean Pressure  Median Pressure  Peak Pressure  Pressure Std  \\\n0      900.403990       906.619046     936.988374     32.218438   \n1      797.728963       797.026365     827.263664     17.249718   \n2      856.772596       855.861037     881.170685     14.345989   \n3      908.361163       914.190886     930.836925     15.640649   \n4      935.546798       937.903803    1012.068821     44.730827   \n..            ...              ...            ...           ...   \n71     433.666127       453.835593     496.439416     60.849578   \n72     747.664064       768.484842     953.098470    110.298328   \n73     676.000805       672.298528     747.880698     31.140068   \n74     959.257873       971.041948    1009.106943     38.325740   \n75     815.767035       810.287954     901.408976     48.747049   \n\n    Rate of Inversion in Pressure  \n0                        0.012792  \n1                        0.009951  \n2                        0.006806  \n3                        0.011641  \n4                        0.016059  \n..                            ...  \n71                       0.001711  \n72                       0.010040  \n73                       0.007562  \n74                       0.007575  \n75                       0.015787  \n\n[76 rows x 22 columns]",
      "text/html": "<div>\n<style scoped>\n    .dataframe tbody tr th:only-of-type {\n        vertical-align: middle;\n    }\n\n    .dataframe tbody tr th {\n        vertical-align: top;\n    }\n\n    .dataframe thead th {\n        text-align: right;\n    }\n</style>\n<table border=\"1\" class=\"dataframe\">\n  <thead>\n    <tr style=\"text-align: right;\">\n      <th></th>\n      <th>Subject ID</th>\n      <th>Category</th>\n      <th>Mean Velocity</th>\n      <th>Velocity Std</th>\n      <th>Peak Velocity</th>\n      <th>NVV</th>\n      <th>NIV</th>\n      <th>Mean Acceleration</th>\n      <th>Acceleration Std</th>\n      <th>Peak Acceleration</th>\n      <th>...</th>\n      <th>Jerk Std</th>\n      <th>Max Jerk</th>\n      <th>NIJ</th>\n      <th>NIC</th>\n      <th>Duration</th>\n      <th>Mean Pressure</th>\n      <th>Median Pressure</th>\n      <th>Peak Pressure</th>\n      <th>Pressure Std</th>\n      <th>Rate of Inversion in Pressure</th>\n    </tr>\n  </thead>\n  <tbody>\n    <tr>\n      <th>0</th>\n      <td>C1</td>\n      <td>0</td>\n      <td>0.741703</td>\n      <td>0.213953</td>\n      <td>1.376681</td>\n      <td>0.000600</td>\n      <td>0.000772</td>\n      <td>0.006822</td>\n      <td>0.004925</td>\n      <td>0.034819</td>\n      <td>...</td>\n      <td>0.000398</td>\n      <td>0.003017</td>\n      <td>0.001654</td>\n      <td>0.000937</td>\n      <td>18137</td>\n      <td>900.403990</td>\n      <td>906.619046</td>\n      <td>936.988374</td>\n      <td>32.218438</td>\n      <td>0.012792</td>\n    </tr>\n    <tr>\n      <th>1</th>\n      <td>C2</td>\n      <td>0</td>\n      <td>0.561856</td>\n      <td>0.135978</td>\n      <td>1.030646</td>\n      <td>0.000326</td>\n      <td>0.000449</td>\n      <td>0.003585</td>\n      <td>0.001899</td>\n      <td>0.014263</td>\n      <td>...</td>\n      <td>0.000080</td>\n      <td>0.000622</td>\n      <td>0.001264</td>\n      <td>0.000693</td>\n      <td>24521</td>\n      <td>797.728963</td>\n      <td>797.026365</td>\n      <td>827.263664</td>\n      <td>17.249718</td>\n      <td>0.009951</td>\n    </tr>\n    <tr>\n      <th>2</th>\n      <td>C3</td>\n      <td>0</td>\n      <td>0.576393</td>\n      <td>0.123113</td>\n      <td>0.880655</td>\n      <td>0.000291</td>\n      <td>0.000422</td>\n      <td>0.003696</td>\n      <td>0.002393</td>\n      <td>0.019992</td>\n      <td>...</td>\n      <td>0.000206</td>\n      <td>0.001958</td>\n      <td>0.001209</td>\n      <td>0.000591</td>\n      <td>35559</td>\n      <td>856.772596</td>\n      <td>855.861037</td>\n      <td>881.170685</td>\n      <td>14.345989</td>\n      <td>0.006806</td>\n    </tr>\n    <tr>\n      <th>3</th>\n      <td>C4</td>\n      <td>0</td>\n      <td>0.614640</td>\n      <td>0.132637</td>\n      <td>1.006097</td>\n      <td>0.000365</td>\n      <td>0.000518</td>\n      <td>0.004139</td>\n      <td>0.002284</td>\n      <td>0.016273</td>\n      <td>...</td>\n      <td>0.000117</td>\n      <td>0.001339</td>\n      <td>0.001649</td>\n      <td>0.000848</td>\n      <td>21219</td>\n      <td>908.361163</td>\n      <td>914.190886</td>\n      <td>930.836925</td>\n      <td>15.640649</td>\n      <td>0.011641</td>\n    </tr>\n    <tr>\n      <th>4</th>\n      <td>C5</td>\n      <td>0</td>\n      <td>0.977548</td>\n      <td>0.294737</td>\n      <td>1.715694</td>\n      <td>0.000417</td>\n      <td>0.000720</td>\n      <td>0.009541</td>\n      <td>0.004476</td>\n      <td>0.032076</td>\n      <td>...</td>\n      <td>0.000244</td>\n      <td>0.002570</td>\n      <td>0.002232</td>\n      <td>0.001152</td>\n      <td>13886</td>\n      <td>935.546798</td>\n      <td>937.903803</td>\n      <td>1012.068821</td>\n      <td>44.730827</td>\n      <td>0.016059</td>\n    </tr>\n    <tr>\n      <th>...</th>\n      <td>...</td>\n      <td>...</td>\n      <td>...</td>\n      <td>...</td>\n      <td>...</td>\n      <td>...</td>\n      <td>...</td>\n      <td>...</td>\n      <td>...</td>\n      <td>...</td>\n      <td>...</td>\n      <td>...</td>\n      <td>...</td>\n      <td>...</td>\n      <td>...</td>\n      <td>...</td>\n      <td>...</td>\n      <td>...</td>\n      <td>...</td>\n      <td>...</td>\n      <td>...</td>\n    </tr>\n    <tr>\n      <th>71</th>\n      <td>P_26060007</td>\n      <td>1</td>\n      <td>0.766879</td>\n      <td>0.394579</td>\n      <td>2.521991</td>\n      <td>0.000655</td>\n      <td>0.000749</td>\n      <td>0.008158</td>\n      <td>0.006551</td>\n      <td>0.048635</td>\n      <td>...</td>\n      <td>0.000591</td>\n      <td>0.005485</td>\n      <td>0.001782</td>\n      <td>0.000962</td>\n      <td>28056</td>\n      <td>433.666127</td>\n      <td>453.835593</td>\n      <td>496.439416</td>\n      <td>60.849578</td>\n      <td>0.001711</td>\n    </tr>\n    <tr>\n      <th>72</th>\n      <td>H_P000-0035</td>\n      <td>1</td>\n      <td>2.474440</td>\n      <td>2.008780</td>\n      <td>17.906847</td>\n      <td>0.019659</td>\n      <td>0.009140</td>\n      <td>0.692307</td>\n      <td>1.031537</td>\n      <td>12.584664</td>\n      <td>...</td>\n      <td>0.932046</td>\n      <td>12.821862</td>\n      <td>0.011287</td>\n      <td>0.006440</td>\n      <td>14442</td>\n      <td>747.664064</td>\n      <td>768.484842</td>\n      <td>953.098470</td>\n      <td>110.298328</td>\n      <td>0.010040</td>\n    </tr>\n    <tr>\n      <th>73</th>\n      <td>H_p000-0018</td>\n      <td>1</td>\n      <td>0.451769</td>\n      <td>0.166524</td>\n      <td>0.826703</td>\n      <td>0.000952</td>\n      <td>0.000875</td>\n      <td>0.005636</td>\n      <td>0.005341</td>\n      <td>0.039233</td>\n      <td>...</td>\n      <td>0.000331</td>\n      <td>0.002511</td>\n      <td>0.002312</td>\n      <td>0.001094</td>\n      <td>32002</td>\n      <td>676.000805</td>\n      <td>672.298528</td>\n      <td>747.880698</td>\n      <td>31.140068</td>\n      <td>0.007562</td>\n    </tr>\n    <tr>\n      <th>74</th>\n      <td>P_23100002</td>\n      <td>1</td>\n      <td>0.640608</td>\n      <td>0.179111</td>\n      <td>1.188470</td>\n      <td>0.000340</td>\n      <td>0.000514</td>\n      <td>0.004599</td>\n      <td>0.002638</td>\n      <td>0.012668</td>\n      <td>...</td>\n      <td>0.000138</td>\n      <td>0.000829</td>\n      <td>0.001474</td>\n      <td>0.000754</td>\n      <td>29174</td>\n      <td>959.257873</td>\n      <td>971.041948</td>\n      <td>1009.106943</td>\n      <td>38.325740</td>\n      <td>0.007575</td>\n    </tr>\n    <tr>\n      <th>75</th>\n      <td>H_P000-0032</td>\n      <td>1</td>\n      <td>1.607949</td>\n      <td>0.405465</td>\n      <td>2.711710</td>\n      <td>0.001939</td>\n      <td>0.002335</td>\n      <td>0.042407</td>\n      <td>0.022611</td>\n      <td>0.111181</td>\n      <td>...</td>\n      <td>0.003621</td>\n      <td>0.017648</td>\n      <td>0.005114</td>\n      <td>0.002779</td>\n      <td>8995</td>\n      <td>815.767035</td>\n      <td>810.287954</td>\n      <td>901.408976</td>\n      <td>48.747049</td>\n      <td>0.015787</td>\n    </tr>\n  </tbody>\n</table>\n<p>76 rows × 22 columns</p>\n</div>"
     },
     "metadata": {}
    }
   ]
  },
  {
   "cell_type": "code",
   "metadata": {
    "tags": [],
    "cell_id": "00002-0f5c435f-5b20-4e50-93e2-69ef19ed6ce9",
    "deepnote_to_be_reexecuted": false,
    "source_hash": "c8e58f75",
    "execution_millis": 30,
    "execution_start": 1617145141837,
    "deepnote_cell_type": "code"
   },
   "source": "#61 PD, 15 control\nprint(parkinsonhw_df.Category.value_counts())",
   "execution_count": null,
   "outputs": [
    {
     "name": "stdout",
     "text": "1    61\n0    15\nName: Category, dtype: int64\n",
     "output_type": "stream"
    }
   ]
  },
  {
   "cell_type": "code",
   "metadata": {
    "tags": [],
    "cell_id": "00003-21af4959-4143-4785-80d7-bf8b1f7fb79b",
    "deepnote_to_be_reexecuted": false,
    "source_hash": "5c2ebd54",
    "execution_millis": 29486,
    "execution_start": 1617145146292,
    "deepnote_cell_type": "code"
   },
   "source": "#we can analyze the pairplots to find subsets of features that may allow umap to classify with more accuracy\nsns.pairplot(parkinsonhw_df, hue='Category')",
   "execution_count": null,
   "outputs": [
    {
     "output_type": "error",
     "ename": "KeyboardInterrupt",
     "evalue": "",
     "traceback": [
      "\u001b[0;31m---------------------------------------------------------------------------\u001b[0m",
      "\u001b[0;31mKeyboardInterrupt\u001b[0m                         Traceback (most recent call last)",
      "\u001b[0;32m<ipython-input-6-249d82a7432e>\u001b[0m in \u001b[0;36m<module>\u001b[0;34m\u001b[0m\n\u001b[1;32m      1\u001b[0m \u001b[0;31m#we can analyze the pairplots to find subsets of features that may allow umap to classify with more accuracy\u001b[0m\u001b[0;34m\u001b[0m\u001b[0;34m\u001b[0m\u001b[0;34m\u001b[0m\u001b[0m\n\u001b[0;32m----> 2\u001b[0;31m \u001b[0msns\u001b[0m\u001b[0;34m.\u001b[0m\u001b[0mpairplot\u001b[0m\u001b[0;34m(\u001b[0m\u001b[0mparkinsonhw_df\u001b[0m\u001b[0;34m,\u001b[0m \u001b[0mhue\u001b[0m\u001b[0;34m=\u001b[0m\u001b[0;34m'Category'\u001b[0m\u001b[0;34m)\u001b[0m\u001b[0;34m\u001b[0m\u001b[0;34m\u001b[0m\u001b[0m\n\u001b[0m",
      "\u001b[0;32m/shared-libs/python3.7/py/lib/python3.7/site-packages/seaborn/_decorators.py\u001b[0m in \u001b[0;36minner_f\u001b[0;34m(*args, **kwargs)\u001b[0m\n\u001b[1;32m     44\u001b[0m             )\n\u001b[1;32m     45\u001b[0m         \u001b[0mkwargs\u001b[0m\u001b[0;34m.\u001b[0m\u001b[0mupdate\u001b[0m\u001b[0;34m(\u001b[0m\u001b[0;34m{\u001b[0m\u001b[0mk\u001b[0m\u001b[0;34m:\u001b[0m \u001b[0marg\u001b[0m \u001b[0;32mfor\u001b[0m \u001b[0mk\u001b[0m\u001b[0;34m,\u001b[0m \u001b[0marg\u001b[0m \u001b[0;32min\u001b[0m \u001b[0mzip\u001b[0m\u001b[0;34m(\u001b[0m\u001b[0msig\u001b[0m\u001b[0;34m.\u001b[0m\u001b[0mparameters\u001b[0m\u001b[0;34m,\u001b[0m \u001b[0margs\u001b[0m\u001b[0;34m)\u001b[0m\u001b[0;34m}\u001b[0m\u001b[0;34m)\u001b[0m\u001b[0;34m\u001b[0m\u001b[0;34m\u001b[0m\u001b[0m\n\u001b[0;32m---> 46\u001b[0;31m         \u001b[0;32mreturn\u001b[0m \u001b[0mf\u001b[0m\u001b[0;34m(\u001b[0m\u001b[0;34m**\u001b[0m\u001b[0mkwargs\u001b[0m\u001b[0;34m)\u001b[0m\u001b[0;34m\u001b[0m\u001b[0;34m\u001b[0m\u001b[0m\n\u001b[0m\u001b[1;32m     47\u001b[0m     \u001b[0;32mreturn\u001b[0m \u001b[0minner_f\u001b[0m\u001b[0;34m\u001b[0m\u001b[0;34m\u001b[0m\u001b[0m\n\u001b[1;32m     48\u001b[0m \u001b[0;34m\u001b[0m\u001b[0m\n",
      "\u001b[0;32m/shared-libs/python3.7/py/lib/python3.7/site-packages/seaborn/axisgrid.py\u001b[0m in \u001b[0;36mpairplot\u001b[0;34m(data, hue, hue_order, palette, vars, x_vars, y_vars, kind, diag_kind, markers, height, aspect, corner, dropna, plot_kws, diag_kws, grid_kws, size)\u001b[0m\n\u001b[1;32m   1989\u001b[0m     grid = PairGrid(data, vars=vars, x_vars=x_vars, y_vars=y_vars, hue=hue,\n\u001b[1;32m   1990\u001b[0m                     \u001b[0mhue_order\u001b[0m\u001b[0;34m=\u001b[0m\u001b[0mhue_order\u001b[0m\u001b[0;34m,\u001b[0m \u001b[0mpalette\u001b[0m\u001b[0;34m=\u001b[0m\u001b[0mpalette\u001b[0m\u001b[0;34m,\u001b[0m \u001b[0mcorner\u001b[0m\u001b[0;34m=\u001b[0m\u001b[0mcorner\u001b[0m\u001b[0;34m,\u001b[0m\u001b[0;34m\u001b[0m\u001b[0;34m\u001b[0m\u001b[0m\n\u001b[0;32m-> 1991\u001b[0;31m                     height=height, aspect=aspect, dropna=dropna, **grid_kws)\n\u001b[0m\u001b[1;32m   1992\u001b[0m \u001b[0;34m\u001b[0m\u001b[0m\n\u001b[1;32m   1993\u001b[0m     \u001b[0;31m# Add the markers here as PairGrid has figured out how many levels of the\u001b[0m\u001b[0;34m\u001b[0m\u001b[0;34m\u001b[0m\u001b[0;34m\u001b[0m\u001b[0m\n",
      "\u001b[0;32m/shared-libs/python3.7/py/lib/python3.7/site-packages/seaborn/_decorators.py\u001b[0m in \u001b[0;36minner_f\u001b[0;34m(*args, **kwargs)\u001b[0m\n\u001b[1;32m     44\u001b[0m             )\n\u001b[1;32m     45\u001b[0m         \u001b[0mkwargs\u001b[0m\u001b[0;34m.\u001b[0m\u001b[0mupdate\u001b[0m\u001b[0;34m(\u001b[0m\u001b[0;34m{\u001b[0m\u001b[0mk\u001b[0m\u001b[0;34m:\u001b[0m \u001b[0marg\u001b[0m \u001b[0;32mfor\u001b[0m \u001b[0mk\u001b[0m\u001b[0;34m,\u001b[0m \u001b[0marg\u001b[0m \u001b[0;32min\u001b[0m \u001b[0mzip\u001b[0m\u001b[0;34m(\u001b[0m\u001b[0msig\u001b[0m\u001b[0;34m.\u001b[0m\u001b[0mparameters\u001b[0m\u001b[0;34m,\u001b[0m \u001b[0margs\u001b[0m\u001b[0;34m)\u001b[0m\u001b[0;34m}\u001b[0m\u001b[0;34m)\u001b[0m\u001b[0;34m\u001b[0m\u001b[0;34m\u001b[0m\u001b[0m\n\u001b[0;32m---> 46\u001b[0;31m         \u001b[0;32mreturn\u001b[0m \u001b[0mf\u001b[0m\u001b[0;34m(\u001b[0m\u001b[0;34m**\u001b[0m\u001b[0mkwargs\u001b[0m\u001b[0;34m)\u001b[0m\u001b[0;34m\u001b[0m\u001b[0;34m\u001b[0m\u001b[0m\n\u001b[0m\u001b[1;32m     47\u001b[0m     \u001b[0;32mreturn\u001b[0m \u001b[0minner_f\u001b[0m\u001b[0;34m\u001b[0m\u001b[0;34m\u001b[0m\u001b[0m\n\u001b[1;32m     48\u001b[0m \u001b[0;34m\u001b[0m\u001b[0m\n",
      "\u001b[0;32m/shared-libs/python3.7/py/lib/python3.7/site-packages/seaborn/axisgrid.py\u001b[0m in \u001b[0;36m__init__\u001b[0;34m(self, data, hue, hue_order, palette, hue_kws, vars, x_vars, y_vars, corner, diag_sharey, height, aspect, layout_pad, despine, dropna, size)\u001b[0m\n\u001b[1;32m   1184\u001b[0m                                  \u001b[0mfigsize\u001b[0m\u001b[0;34m=\u001b[0m\u001b[0mfigsize\u001b[0m\u001b[0;34m,\u001b[0m\u001b[0;34m\u001b[0m\u001b[0;34m\u001b[0m\u001b[0m\n\u001b[1;32m   1185\u001b[0m                                  \u001b[0msharex\u001b[0m\u001b[0;34m=\u001b[0m\u001b[0;34m\"col\"\u001b[0m\u001b[0;34m,\u001b[0m \u001b[0msharey\u001b[0m\u001b[0;34m=\u001b[0m\u001b[0;34m\"row\"\u001b[0m\u001b[0;34m,\u001b[0m\u001b[0;34m\u001b[0m\u001b[0;34m\u001b[0m\u001b[0m\n\u001b[0;32m-> 1186\u001b[0;31m                                  squeeze=False)\n\u001b[0m\u001b[1;32m   1187\u001b[0m \u001b[0;34m\u001b[0m\u001b[0m\n\u001b[1;32m   1188\u001b[0m         \u001b[0;31m# Possibly remove upper axes to make a corner grid\u001b[0m\u001b[0;34m\u001b[0m\u001b[0;34m\u001b[0m\u001b[0;34m\u001b[0m\u001b[0m\n",
      "\u001b[0;32m/shared-libs/python3.7/py/lib/python3.7/site-packages/matplotlib/cbook/deprecation.py\u001b[0m in \u001b[0;36mwrapper\u001b[0;34m(*args, **kwargs)\u001b[0m\n\u001b[1;32m    449\u001b[0m                 \u001b[0;34m\"parameter will become keyword-only %(removal)s.\"\u001b[0m\u001b[0;34m,\u001b[0m\u001b[0;34m\u001b[0m\u001b[0;34m\u001b[0m\u001b[0m\n\u001b[1;32m    450\u001b[0m                 name=name, obj_type=f\"parameter of {func.__name__}()\")\n\u001b[0;32m--> 451\u001b[0;31m         \u001b[0;32mreturn\u001b[0m \u001b[0mfunc\u001b[0m\u001b[0;34m(\u001b[0m\u001b[0;34m*\u001b[0m\u001b[0margs\u001b[0m\u001b[0;34m,\u001b[0m \u001b[0;34m**\u001b[0m\u001b[0mkwargs\u001b[0m\u001b[0;34m)\u001b[0m\u001b[0;34m\u001b[0m\u001b[0;34m\u001b[0m\u001b[0m\n\u001b[0m\u001b[1;32m    452\u001b[0m \u001b[0;34m\u001b[0m\u001b[0m\n\u001b[1;32m    453\u001b[0m     \u001b[0;32mreturn\u001b[0m \u001b[0mwrapper\u001b[0m\u001b[0;34m\u001b[0m\u001b[0;34m\u001b[0m\u001b[0m\n",
      "\u001b[0;32m/shared-libs/python3.7/py/lib/python3.7/site-packages/matplotlib/pyplot.py\u001b[0m in \u001b[0;36msubplots\u001b[0;34m(nrows, ncols, sharex, sharey, squeeze, subplot_kw, gridspec_kw, **fig_kw)\u001b[0m\n\u001b[1;32m   1288\u001b[0m     axs = fig.subplots(nrows=nrows, ncols=ncols, sharex=sharex, sharey=sharey,\n\u001b[1;32m   1289\u001b[0m                        \u001b[0msqueeze\u001b[0m\u001b[0;34m=\u001b[0m\u001b[0msqueeze\u001b[0m\u001b[0;34m,\u001b[0m \u001b[0msubplot_kw\u001b[0m\u001b[0;34m=\u001b[0m\u001b[0msubplot_kw\u001b[0m\u001b[0;34m,\u001b[0m\u001b[0;34m\u001b[0m\u001b[0;34m\u001b[0m\u001b[0m\n\u001b[0;32m-> 1290\u001b[0;31m                        gridspec_kw=gridspec_kw)\n\u001b[0m\u001b[1;32m   1291\u001b[0m     \u001b[0;32mreturn\u001b[0m \u001b[0mfig\u001b[0m\u001b[0;34m,\u001b[0m \u001b[0maxs\u001b[0m\u001b[0;34m\u001b[0m\u001b[0;34m\u001b[0m\u001b[0m\n\u001b[1;32m   1292\u001b[0m \u001b[0;34m\u001b[0m\u001b[0m\n",
      "\u001b[0;32m/shared-libs/python3.7/py/lib/python3.7/site-packages/matplotlib/cbook/deprecation.py\u001b[0m in \u001b[0;36mwrapper\u001b[0;34m(*args, **kwargs)\u001b[0m\n\u001b[1;32m    449\u001b[0m                 \u001b[0;34m\"parameter will become keyword-only %(removal)s.\"\u001b[0m\u001b[0;34m,\u001b[0m\u001b[0;34m\u001b[0m\u001b[0;34m\u001b[0m\u001b[0m\n\u001b[1;32m    450\u001b[0m                 name=name, obj_type=f\"parameter of {func.__name__}()\")\n\u001b[0;32m--> 451\u001b[0;31m         \u001b[0;32mreturn\u001b[0m \u001b[0mfunc\u001b[0m\u001b[0;34m(\u001b[0m\u001b[0;34m*\u001b[0m\u001b[0margs\u001b[0m\u001b[0;34m,\u001b[0m \u001b[0;34m**\u001b[0m\u001b[0mkwargs\u001b[0m\u001b[0;34m)\u001b[0m\u001b[0;34m\u001b[0m\u001b[0;34m\u001b[0m\u001b[0m\n\u001b[0m\u001b[1;32m    452\u001b[0m \u001b[0;34m\u001b[0m\u001b[0m\n\u001b[1;32m    453\u001b[0m     \u001b[0;32mreturn\u001b[0m \u001b[0mwrapper\u001b[0m\u001b[0;34m\u001b[0m\u001b[0;34m\u001b[0m\u001b[0m\n",
      "\u001b[0;32m/shared-libs/python3.7/py/lib/python3.7/site-packages/matplotlib/figure.py\u001b[0m in \u001b[0;36msubplots\u001b[0;34m(self, nrows, ncols, sharex, sharey, squeeze, subplot_kw, gridspec_kw)\u001b[0m\n\u001b[1;32m   1522\u001b[0m         return (self.add_gridspec(nrows, ncols, figure=self, **gridspec_kw)\n\u001b[1;32m   1523\u001b[0m                 .subplots(sharex=sharex, sharey=sharey, squeeze=squeeze,\n\u001b[0;32m-> 1524\u001b[0;31m                           subplot_kw=subplot_kw))\n\u001b[0m\u001b[1;32m   1525\u001b[0m \u001b[0;34m\u001b[0m\u001b[0m\n\u001b[1;32m   1526\u001b[0m     \u001b[0;34m@\u001b[0m\u001b[0mstaticmethod\u001b[0m\u001b[0;34m\u001b[0m\u001b[0;34m\u001b[0m\u001b[0m\n",
      "\u001b[0;32m/shared-libs/python3.7/py/lib/python3.7/site-packages/matplotlib/gridspec.py\u001b[0m in \u001b[0;36msubplots\u001b[0;34m(self, sharex, sharey, squeeze, subplot_kw)\u001b[0m\n\u001b[1;32m    335\u001b[0m                 \u001b[0msubplot_kw\u001b[0m\u001b[0;34m[\u001b[0m\u001b[0;34m\"sharey\"\u001b[0m\u001b[0;34m]\u001b[0m \u001b[0;34m=\u001b[0m \u001b[0mshared_with\u001b[0m\u001b[0;34m[\u001b[0m\u001b[0msharey\u001b[0m\u001b[0;34m]\u001b[0m\u001b[0;34m\u001b[0m\u001b[0;34m\u001b[0m\u001b[0m\n\u001b[1;32m    336\u001b[0m                 axarr[row, col] = figure.add_subplot(\n\u001b[0;32m--> 337\u001b[0;31m                     self[row, col], **subplot_kw)\n\u001b[0m\u001b[1;32m    338\u001b[0m \u001b[0;34m\u001b[0m\u001b[0m\n\u001b[1;32m    339\u001b[0m         \u001b[0;31m# turn off redundant tick labeling\u001b[0m\u001b[0;34m\u001b[0m\u001b[0;34m\u001b[0m\u001b[0;34m\u001b[0m\u001b[0m\n",
      "\u001b[0;32m/shared-libs/python3.7/py/lib/python3.7/site-packages/matplotlib/figure.py\u001b[0m in \u001b[0;36madd_subplot\u001b[0;34m(self, *args, **kwargs)\u001b[0m\n\u001b[1;32m   1402\u001b[0m             \u001b[0max\u001b[0m \u001b[0;34m=\u001b[0m \u001b[0msubplot_class_factory\u001b[0m\u001b[0;34m(\u001b[0m\u001b[0mprojection_class\u001b[0m\u001b[0;34m)\u001b[0m\u001b[0;34m(\u001b[0m\u001b[0mself\u001b[0m\u001b[0;34m,\u001b[0m \u001b[0;34m*\u001b[0m\u001b[0margs\u001b[0m\u001b[0;34m,\u001b[0m \u001b[0;34m**\u001b[0m\u001b[0mkwargs\u001b[0m\u001b[0;34m)\u001b[0m\u001b[0;34m\u001b[0m\u001b[0;34m\u001b[0m\u001b[0m\n\u001b[1;32m   1403\u001b[0m \u001b[0;34m\u001b[0m\u001b[0m\n\u001b[0;32m-> 1404\u001b[0;31m         \u001b[0;32mreturn\u001b[0m \u001b[0mself\u001b[0m\u001b[0;34m.\u001b[0m\u001b[0m_add_axes_internal\u001b[0m\u001b[0;34m(\u001b[0m\u001b[0mkey\u001b[0m\u001b[0;34m,\u001b[0m \u001b[0max\u001b[0m\u001b[0;34m)\u001b[0m\u001b[0;34m\u001b[0m\u001b[0;34m\u001b[0m\u001b[0m\n\u001b[0m\u001b[1;32m   1405\u001b[0m \u001b[0;34m\u001b[0m\u001b[0m\n\u001b[1;32m   1406\u001b[0m     \u001b[0;32mdef\u001b[0m \u001b[0m_add_axes_internal\u001b[0m\u001b[0;34m(\u001b[0m\u001b[0mself\u001b[0m\u001b[0;34m,\u001b[0m \u001b[0mkey\u001b[0m\u001b[0;34m,\u001b[0m \u001b[0max\u001b[0m\u001b[0;34m)\u001b[0m\u001b[0;34m:\u001b[0m\u001b[0;34m\u001b[0m\u001b[0;34m\u001b[0m\u001b[0m\n",
      "\u001b[0;32m/shared-libs/python3.7/py/lib/python3.7/site-packages/matplotlib/figure.py\u001b[0m in \u001b[0;36m_add_axes_internal\u001b[0;34m(self, key, ax)\u001b[0m\n\u001b[1;32m   1407\u001b[0m         \u001b[0;34m\"\"\"Private helper for `add_axes` and `add_subplot`.\"\"\"\u001b[0m\u001b[0;34m\u001b[0m\u001b[0;34m\u001b[0m\u001b[0m\n\u001b[1;32m   1408\u001b[0m         \u001b[0mself\u001b[0m\u001b[0;34m.\u001b[0m\u001b[0m_axstack\u001b[0m\u001b[0;34m.\u001b[0m\u001b[0madd\u001b[0m\u001b[0;34m(\u001b[0m\u001b[0mkey\u001b[0m\u001b[0;34m,\u001b[0m \u001b[0max\u001b[0m\u001b[0;34m)\u001b[0m\u001b[0;34m\u001b[0m\u001b[0;34m\u001b[0m\u001b[0m\n\u001b[0;32m-> 1409\u001b[0;31m         \u001b[0mself\u001b[0m\u001b[0;34m.\u001b[0m\u001b[0msca\u001b[0m\u001b[0;34m(\u001b[0m\u001b[0max\u001b[0m\u001b[0;34m)\u001b[0m\u001b[0;34m\u001b[0m\u001b[0;34m\u001b[0m\u001b[0m\n\u001b[0m\u001b[1;32m   1410\u001b[0m         \u001b[0max\u001b[0m\u001b[0;34m.\u001b[0m\u001b[0m_remove_method\u001b[0m \u001b[0;34m=\u001b[0m \u001b[0mself\u001b[0m\u001b[0;34m.\u001b[0m\u001b[0mdelaxes\u001b[0m\u001b[0;34m\u001b[0m\u001b[0;34m\u001b[0m\u001b[0m\n\u001b[1;32m   1411\u001b[0m         \u001b[0mself\u001b[0m\u001b[0;34m.\u001b[0m\u001b[0mstale\u001b[0m \u001b[0;34m=\u001b[0m \u001b[0;32mTrue\u001b[0m\u001b[0;34m\u001b[0m\u001b[0;34m\u001b[0m\u001b[0m\n",
      "\u001b[0;32m/shared-libs/python3.7/py/lib/python3.7/site-packages/matplotlib/figure.py\u001b[0m in \u001b[0;36msca\u001b[0;34m(self, a)\u001b[0m\n\u001b[1;32m   2067\u001b[0m     \u001b[0;32mdef\u001b[0m \u001b[0msca\u001b[0m\u001b[0;34m(\u001b[0m\u001b[0mself\u001b[0m\u001b[0;34m,\u001b[0m \u001b[0ma\u001b[0m\u001b[0;34m)\u001b[0m\u001b[0;34m:\u001b[0m\u001b[0;34m\u001b[0m\u001b[0;34m\u001b[0m\u001b[0m\n\u001b[1;32m   2068\u001b[0m         \u001b[0;34m\"\"\"Set the current axes to be *a* and return *a*.\"\"\"\u001b[0m\u001b[0;34m\u001b[0m\u001b[0;34m\u001b[0m\u001b[0m\n\u001b[0;32m-> 2069\u001b[0;31m         \u001b[0mself\u001b[0m\u001b[0;34m.\u001b[0m\u001b[0m_axstack\u001b[0m\u001b[0;34m.\u001b[0m\u001b[0mbubble\u001b[0m\u001b[0;34m(\u001b[0m\u001b[0ma\u001b[0m\u001b[0;34m)\u001b[0m\u001b[0;34m\u001b[0m\u001b[0;34m\u001b[0m\u001b[0m\n\u001b[0m\u001b[1;32m   2070\u001b[0m         \u001b[0mself\u001b[0m\u001b[0;34m.\u001b[0m\u001b[0m_axobservers\u001b[0m\u001b[0;34m.\u001b[0m\u001b[0mprocess\u001b[0m\u001b[0;34m(\u001b[0m\u001b[0;34m\"_axes_change_event\"\u001b[0m\u001b[0;34m,\u001b[0m \u001b[0mself\u001b[0m\u001b[0;34m)\u001b[0m\u001b[0;34m\u001b[0m\u001b[0;34m\u001b[0m\u001b[0m\n\u001b[1;32m   2071\u001b[0m         \u001b[0;32mreturn\u001b[0m \u001b[0ma\u001b[0m\u001b[0;34m\u001b[0m\u001b[0;34m\u001b[0m\u001b[0m\n",
      "\u001b[0;32m/shared-libs/python3.7/py/lib/python3.7/site-packages/matplotlib/figure.py\u001b[0m in \u001b[0;36mbubble\u001b[0;34m(self, a)\u001b[0m\n\u001b[1;32m    102\u001b[0m         \u001b[0mstack\u001b[0m\u001b[0;34m,\u001b[0m \u001b[0mto\u001b[0m \u001b[0mthe\u001b[0m \u001b[0mtop\u001b[0m\u001b[0;34m.\u001b[0m\u001b[0;34m\u001b[0m\u001b[0;34m\u001b[0m\u001b[0m\n\u001b[1;32m    103\u001b[0m         \"\"\"\n\u001b[0;32m--> 104\u001b[0;31m         \u001b[0;32mreturn\u001b[0m \u001b[0msuper\u001b[0m\u001b[0;34m(\u001b[0m\u001b[0;34m)\u001b[0m\u001b[0;34m.\u001b[0m\u001b[0mbubble\u001b[0m\u001b[0;34m(\u001b[0m\u001b[0mself\u001b[0m\u001b[0;34m.\u001b[0m\u001b[0m_entry_from_axes\u001b[0m\u001b[0;34m(\u001b[0m\u001b[0ma\u001b[0m\u001b[0;34m)\u001b[0m\u001b[0;34m)\u001b[0m\u001b[0;34m\u001b[0m\u001b[0;34m\u001b[0m\u001b[0m\n\u001b[0m\u001b[1;32m    105\u001b[0m \u001b[0;34m\u001b[0m\u001b[0m\n\u001b[1;32m    106\u001b[0m     \u001b[0;32mdef\u001b[0m \u001b[0madd\u001b[0m\u001b[0;34m(\u001b[0m\u001b[0mself\u001b[0m\u001b[0;34m,\u001b[0m \u001b[0mkey\u001b[0m\u001b[0;34m,\u001b[0m \u001b[0ma\u001b[0m\u001b[0;34m)\u001b[0m\u001b[0;34m:\u001b[0m\u001b[0;34m\u001b[0m\u001b[0;34m\u001b[0m\u001b[0m\n",
      "\u001b[0;32m/shared-libs/python3.7/py/lib/python3.7/site-packages/matplotlib/figure.py\u001b[0m in \u001b[0;36m_entry_from_axes\u001b[0;34m(self, e)\u001b[0m\n\u001b[1;32m     90\u001b[0m \u001b[0;34m\u001b[0m\u001b[0m\n\u001b[1;32m     91\u001b[0m     \u001b[0;32mdef\u001b[0m \u001b[0m_entry_from_axes\u001b[0m\u001b[0;34m(\u001b[0m\u001b[0mself\u001b[0m\u001b[0;34m,\u001b[0m \u001b[0me\u001b[0m\u001b[0;34m)\u001b[0m\u001b[0;34m:\u001b[0m\u001b[0;34m\u001b[0m\u001b[0;34m\u001b[0m\u001b[0m\n\u001b[0;32m---> 92\u001b[0;31m         \u001b[0mind\u001b[0m\u001b[0;34m,\u001b[0m \u001b[0mk\u001b[0m \u001b[0;34m=\u001b[0m \u001b[0;34m{\u001b[0m\u001b[0ma\u001b[0m\u001b[0;34m:\u001b[0m \u001b[0;34m(\u001b[0m\u001b[0mind\u001b[0m\u001b[0;34m,\u001b[0m \u001b[0mk\u001b[0m\u001b[0;34m)\u001b[0m \u001b[0;32mfor\u001b[0m \u001b[0mk\u001b[0m\u001b[0;34m,\u001b[0m \u001b[0;34m(\u001b[0m\u001b[0mind\u001b[0m\u001b[0;34m,\u001b[0m \u001b[0ma\u001b[0m\u001b[0;34m)\u001b[0m \u001b[0;32min\u001b[0m \u001b[0mself\u001b[0m\u001b[0;34m.\u001b[0m\u001b[0m_elements\u001b[0m\u001b[0;34m}\u001b[0m\u001b[0;34m[\u001b[0m\u001b[0me\u001b[0m\u001b[0;34m]\u001b[0m\u001b[0;34m\u001b[0m\u001b[0;34m\u001b[0m\u001b[0m\n\u001b[0m\u001b[1;32m     93\u001b[0m         \u001b[0;32mreturn\u001b[0m \u001b[0;34m(\u001b[0m\u001b[0mk\u001b[0m\u001b[0;34m,\u001b[0m \u001b[0;34m(\u001b[0m\u001b[0mind\u001b[0m\u001b[0;34m,\u001b[0m \u001b[0me\u001b[0m\u001b[0;34m)\u001b[0m\u001b[0;34m)\u001b[0m\u001b[0;34m\u001b[0m\u001b[0;34m\u001b[0m\u001b[0m\n\u001b[1;32m     94\u001b[0m \u001b[0;34m\u001b[0m\u001b[0m\n",
      "\u001b[0;32m/shared-libs/python3.7/py/lib/python3.7/site-packages/matplotlib/figure.py\u001b[0m in \u001b[0;36m<dictcomp>\u001b[0;34m(.0)\u001b[0m\n\u001b[1;32m     90\u001b[0m \u001b[0;34m\u001b[0m\u001b[0m\n\u001b[1;32m     91\u001b[0m     \u001b[0;32mdef\u001b[0m \u001b[0m_entry_from_axes\u001b[0m\u001b[0;34m(\u001b[0m\u001b[0mself\u001b[0m\u001b[0;34m,\u001b[0m \u001b[0me\u001b[0m\u001b[0;34m)\u001b[0m\u001b[0;34m:\u001b[0m\u001b[0;34m\u001b[0m\u001b[0;34m\u001b[0m\u001b[0m\n\u001b[0;32m---> 92\u001b[0;31m         \u001b[0mind\u001b[0m\u001b[0;34m,\u001b[0m \u001b[0mk\u001b[0m \u001b[0;34m=\u001b[0m \u001b[0;34m{\u001b[0m\u001b[0ma\u001b[0m\u001b[0;34m:\u001b[0m \u001b[0;34m(\u001b[0m\u001b[0mind\u001b[0m\u001b[0;34m,\u001b[0m \u001b[0mk\u001b[0m\u001b[0;34m)\u001b[0m \u001b[0;32mfor\u001b[0m \u001b[0mk\u001b[0m\u001b[0;34m,\u001b[0m \u001b[0;34m(\u001b[0m\u001b[0mind\u001b[0m\u001b[0;34m,\u001b[0m \u001b[0ma\u001b[0m\u001b[0;34m)\u001b[0m \u001b[0;32min\u001b[0m \u001b[0mself\u001b[0m\u001b[0;34m.\u001b[0m\u001b[0m_elements\u001b[0m\u001b[0;34m}\u001b[0m\u001b[0;34m[\u001b[0m\u001b[0me\u001b[0m\u001b[0;34m]\u001b[0m\u001b[0;34m\u001b[0m\u001b[0;34m\u001b[0m\u001b[0m\n\u001b[0m\u001b[1;32m     93\u001b[0m         \u001b[0;32mreturn\u001b[0m \u001b[0;34m(\u001b[0m\u001b[0mk\u001b[0m\u001b[0;34m,\u001b[0m \u001b[0;34m(\u001b[0m\u001b[0mind\u001b[0m\u001b[0;34m,\u001b[0m \u001b[0me\u001b[0m\u001b[0;34m)\u001b[0m\u001b[0;34m)\u001b[0m\u001b[0;34m\u001b[0m\u001b[0;34m\u001b[0m\u001b[0m\n\u001b[1;32m     94\u001b[0m \u001b[0;34m\u001b[0m\u001b[0m\n",
      "\u001b[0;31mKeyboardInterrupt\u001b[0m: "
     ]
    },
    {
     "data": {
      "text/plain": "<Figure size 3600x3600 with 362 Axes>",
      "image/png": "[encoded data removed]"
     },
     "metadata": {
      "needs_background": "light",
      "image/png": {
       "width": 2835,
       "height": 2616
      }
     },
     "output_type": "display_data"
    }
   ]
  },
  {
   "cell_type": "code",
   "metadata": {
    "tags": [],
    "cell_id": "00004-75a701c6-7110-4dc8-a13a-31cf90f7c9de",
    "deepnote_to_be_reexecuted": false,
    "source_hash": "8f7af724",
    "execution_millis": 1,
    "execution_start": 1617145194307,
    "deepnote_cell_type": "code"
   },
   "source": "#for higher dimensions change n_components\nreducer = umap.UMAP(n_components=3)",
   "execution_count": null,
   "outputs": []
  },
  {
   "cell_type": "code",
   "metadata": {
    "tags": [],
    "cell_id": "00005-963e50c6-35e3-4f74-992d-5107c99f0a28",
    "deepnote_to_be_reexecuted": false,
    "source_hash": "efd9430a",
    "execution_millis": 1,
    "execution_start": 1617145194311,
    "deepnote_cell_type": "code"
   },
   "source": "feature_columns = parkinsonhw_df.columns.tolist()[2:]",
   "execution_count": null,
   "outputs": []
  },
  {
   "cell_type": "code",
   "metadata": {
    "tags": [],
    "cell_id": "00006-9624d308-3029-4877-9ef4-a362637ef1c8",
    "deepnote_to_be_reexecuted": false,
    "source_hash": "cbfb535b",
    "execution_millis": 17745,
    "execution_start": 1617145209588,
    "deepnote_cell_type": "code"
   },
   "source": "feature_data = parkinsonhw_df[feature_columns].values\nprint(feature_data)",
   "execution_count": null,
   "outputs": [
    {
     "name": "stdout",
     "text": "[[7.41703385e-01 2.13952943e-01 1.37668120e+00 ... 9.36988374e+02\n  3.22184383e+01 1.27915311e-02]\n [5.61855990e-01 1.35977920e-01 1.03064628e+00 ... 8.27263664e+02\n  1.72497178e+01 9.95065454e-03]\n [5.76393041e-01 1.23113152e-01 8.80654684e-01 ... 8.81170685e+02\n  1.43459886e+01 6.80559071e-03]\n ...\n [4.51769426e-01 1.66524489e-01 8.26702821e-01 ... 7.47880698e+02\n  3.11400678e+01 7.56202737e-03]\n [6.40608480e-01 1.79110593e-01 1.18847043e+00 ... 1.00910694e+03\n  3.83257400e+01 7.57523823e-03]\n [1.60794914e+00 4.05464923e-01 2.71170976e+00 ... 9.01408976e+02\n  4.87470490e+01 1.57865481e-02]]\n",
     "output_type": "stream"
    }
   ]
  },
  {
   "cell_type": "code",
   "metadata": {
    "tags": [],
    "cell_id": "00007-dc7172c5-9c23-4a54-9040-a969acbbf3e6",
    "deepnote_to_be_reexecuted": false,
    "source_hash": "7f16b26d",
    "execution_millis": 82,
    "execution_start": 1616953639069,
    "deepnote_cell_type": "code"
   },
   "source": "scaled_feature_data = StandardScaler().fit_transform(feature_data)\nprint(scaled_feature_data)",
   "execution_count": null,
   "outputs": [
    {
     "name": "stdout",
     "text": "[[-0.49802695 -0.54616495 -0.52269112 ...  1.02381718 -1.07692974\n   0.44133737]\n [-0.71329154 -0.72592059 -0.64037612 ...  0.32723339 -1.64140277\n   0.01451746]\n [-0.69589172 -0.75557771 -0.69138762 ...  0.66946038 -1.75090289\n  -0.45800426]\n ...\n [-0.84505736 -0.65550166 -0.70973641 ... -0.17672682 -1.11759528\n  -0.34435545]\n [-0.61903039 -0.62648694 -0.5867008  ...  1.4816596  -0.84662235\n  -0.34237062]\n [ 0.53880788 -0.10467282 -0.06865362 ...  0.79794251 -0.45363299\n   0.89131569]]\n",
     "output_type": "stream"
    }
   ]
  },
  {
   "cell_type": "code",
   "metadata": {
    "tags": [],
    "cell_id": "00008-680bb85d-7335-40d4-938e-bc04a334ebcc",
    "deepnote_to_be_reexecuted": false,
    "source_hash": "a48b9ddc",
    "execution_millis": 9755,
    "execution_start": 1616953639070,
    "deepnote_cell_type": "code"
   },
   "source": "embedding = reducer.fit_transform(scaled_feature_data)\nembedding.shape",
   "execution_count": null,
   "outputs": [
    {
     "output_type": "execute_result",
     "execution_count": 9,
     "data": {
      "text/plain": "(76, 3)"
     },
     "metadata": {}
    }
   ]
  },
  {
   "cell_type": "code",
   "metadata": {
    "tags": [],
    "cell_id": "00009-f3b7991f-4c3c-4474-a833-68f2943e9608",
    "deepnote_to_be_reexecuted": false,
    "source_hash": "2328b183",
    "execution_millis": 13,
    "execution_start": 1616953648832,
    "deepnote_cell_type": "code"
   },
   "source": "embedding",
   "execution_count": null,
   "outputs": [
    {
     "output_type": "execute_result",
     "execution_count": 10,
     "data": {
      "text/plain": "array([[ 4.5049324 , 10.238499  , -0.19343896],\n       [ 4.02268   , 10.551652  , -0.6203116 ],\n       [ 3.9519775 , 10.900537  , -0.49030462],\n       [ 4.3768687 , 10.720594  , -0.3916064 ],\n       [ 4.502901  , 10.239127  ,  0.2028644 ],\n       [ 4.136195  , 10.413878  , -0.3449816 ],\n       [ 4.3572617 , 10.423089  , -0.10627788],\n       [ 2.2968986 , 12.7756815 ,  1.4666514 ],\n       [ 2.3697362 , 12.599061  ,  1.0326782 ],\n       [ 4.0354247 , 11.307234  , -0.30748135],\n       [ 4.0646124 , 11.519184  , -0.12449427],\n       [ 4.449006  , 10.724182  ,  0.14665802],\n       [ 3.6706533 , 11.337058  ,  2.9640982 ],\n       [ 3.8384986 , 12.017983  ,  3.0515988 ],\n       [ 2.0048869 , 12.414169  ,  2.9909003 ],\n       [ 4.076607  , 10.665728  ,  0.94927466],\n       [ 4.010317  , 10.522976  ,  1.2324001 ],\n       [ 2.1549516 , 12.918842  ,  2.776589  ],\n       [ 3.0826101 , 13.016814  ,  1.7218858 ],\n       [ 2.6685326 , 12.170691  ,  2.4577692 ],\n       [ 2.612626  , 12.083392  ,  2.7679675 ],\n       [ 2.6216369 , 12.229616  ,  3.5123587 ],\n       [ 2.315438  , 12.334439  ,  3.7354817 ],\n       [ 1.7459663 , 12.724476  ,  2.9480178 ],\n       [ 4.522663  , 10.128722  ,  1.1549819 ],\n       [ 2.612622  , 12.702651  ,  2.0265074 ],\n       [ 3.5680912 , 11.631058  ,  2.6414843 ],\n       [ 3.9974146 , 12.657239  ,  1.7593542 ],\n       [ 5.1229157 , 10.791127  ,  2.6100314 ],\n       [ 4.536361  , 11.0376425 ,  1.2406541 ],\n       [ 2.0258796 , 12.306734  ,  3.6051733 ],\n       [ 2.9638171 , 13.215506  ,  1.5359105 ],\n       [ 2.7596526 , 11.629148  ,  2.719038  ],\n       [ 3.49097   , 11.179774  ,  2.6405225 ],\n       [ 4.394826  , 11.316153  ,  0.1524323 ],\n       [ 3.7311747 , 11.602833  ,  3.0866187 ],\n       [ 3.7348328 , 12.233777  ,  2.2722626 ],\n       [ 4.5715194 , 10.081828  ,  0.7767278 ],\n       [ 3.8799736 , 12.652424  ,  2.1849763 ],\n       [ 1.9296072 , 12.513527  ,  3.5988605 ],\n       [ 4.133557  , 10.638364  ,  2.6950023 ],\n       [ 4.117918  , 10.965853  ,  2.4086094 ],\n       [ 2.7298856 , 12.192176  ,  3.7316315 ],\n       [ 3.0170538 , 12.561296  ,  3.0667012 ],\n       [ 3.0844364 , 11.28745   ,  2.693635  ],\n       [ 3.6569932 , 12.039631  ,  2.5928884 ],\n       [ 4.206749  , 11.800624  ,  1.6519923 ],\n       [ 2.9499552 , 13.085672  ,  1.1279011 ],\n       [ 2.6628034 , 12.840107  ,  1.1834366 ],\n       [ 3.5230613 , 12.429076  ,  2.834607  ],\n       [ 1.6873722 , 12.869363  ,  3.2661655 ],\n       [ 5.170518  , 10.64715   ,  2.6951349 ],\n       [ 3.9985614 , 10.453752  ,  2.3069606 ],\n       [ 2.2859693 , 12.673882  ,  3.62567   ],\n       [ 4.333025  , 10.717295  ,  2.4507842 ],\n       [ 4.248228  , 10.267464  ,  0.7914211 ],\n       [ 2.5146346 , 12.497105  ,  0.81855583],\n       [ 3.6866508 , 12.735322  ,  1.301093  ],\n       [ 3.5309374 , 12.786215  ,  2.2179174 ],\n       [ 4.487443  , 10.317883  ,  1.4858315 ],\n       [ 1.6756343 , 12.677165  ,  3.3231242 ],\n       [ 3.0344334 , 11.847671  ,  3.4547558 ],\n       [ 3.3146937 , 12.600841  ,  2.47007   ],\n       [ 4.426164  , 10.379732  ,  2.7149913 ],\n       [ 2.359984  , 13.087419  ,  2.1879466 ],\n       [ 4.397177  , 10.499577  ,  2.55244   ],\n       [ 2.6092536 , 12.800714  ,  1.0160179 ],\n       [ 3.9152267 , 12.24727   ,  0.92799175],\n       [ 3.4662516 , 13.034241  ,  1.4371027 ],\n       [ 4.3911114 , 10.67613   ,  0.51138884],\n       [ 4.913932  , 10.435027  ,  2.499277  ],\n       [ 1.758273  , 12.988206  ,  2.9936159 ],\n       [ 5.059222  , 10.885797  ,  2.4083712 ],\n       [ 2.379887  , 12.521526  ,  1.6740389 ],\n       [ 4.343937  , 11.196771  , -0.17986535],\n       [ 4.3072987 , 10.452842  ,  1.7319453 ]], dtype=float32)"
     },
     "metadata": {}
    }
   ]
  },
  {
   "cell_type": "code",
   "metadata": {
    "tags": [],
    "cell_id": "00009-03216b30-31b6-4d9e-880f-165bfc742262",
    "deepnote_to_be_reexecuted": false,
    "source_hash": "1262033a",
    "execution_millis": 224,
    "execution_start": 1616953648836,
    "deepnote_cell_type": "code"
   },
   "source": "plt.scatter(\n    embedding[:, 0],\n    embedding[:, 1],\n    c=[sns.color_palette()[x] for x in parkinsonhw_df.Category.map({0:0, 1:1})])\nplt.gca().set_aspect('equal', 'datalim')\nplt.title('UMAP projection of the features_df_static dataset', fontsize=24)",
   "execution_count": null,
   "outputs": [
    {
     "output_type": "execute_result",
     "execution_count": 11,
     "data": {
      "text/plain": "Text(0.5, 1.0, 'UMAP projection of the features_df_static dataset')"
     },
     "metadata": {}
    },
    {
     "data": {
      "text/plain": "<Figure size 432x288 with 1 Axes>",
      "image/png": "[encoded data removed]"
     },
     "metadata": {
      "needs_background": "light",
      "image/png": {
       "width": 608,
       "height": 273
      }
     },
     "output_type": "display_data"
    }
   ]
  },
  {
   "cell_type": "code",
   "metadata": {
    "tags": [],
    "cell_id": "00010-a02af3d1-aab9-4528-aa11-3212c6b239f8",
    "deepnote_to_be_reexecuted": false,
    "source_hash": "364ba944",
    "execution_millis": 5,
    "execution_start": 1616953649036,
    "deepnote_cell_type": "code"
   },
   "source": "#umap - 2-d reduction plotted above\n#note - since umap is a stochastic algorithm, it will give different plots each time it is performed",
   "execution_count": null,
   "outputs": []
  },
  {
   "cell_type": "code",
   "metadata": {
    "tags": [],
    "cell_id": "00011-90322b30-fadc-4ac0-8d37-371977ee4258",
    "deepnote_to_be_reexecuted": false,
    "source_hash": "552c3aa6",
    "execution_millis": 164,
    "execution_start": 1616953649080,
    "deepnote_cell_type": "code"
   },
   "source": "fig = plt.figure()\nax = fig.add_subplot(111, projection='3d')\nax.scatter(-embedding[:,0], embedding[:,1], -embedding[:,2],c=[sns.color_palette()[x] for x in parkinsonhw_df.Category.map({0:0, 1:1})])\nax.view_init(10, -10)\n",
   "execution_count": null,
   "outputs": [
    {
     "data": {
      "text/plain": "<Figure size 432x288 with 1 Axes>",
      "image/png": "[encoded data removed]"
     },
     "metadata": {
      "needs_background": "light",
      "image/png": {
       "width": 237,
       "height": 231
      }
     },
     "output_type": "display_data"
    }
   ]
  },
  {
   "cell_type": "code",
   "metadata": {
    "tags": [],
    "cell_id": "00013-f548b9c3-1a2d-41a9-8941-b4669567111e",
    "deepnote_to_be_reexecuted": false,
    "source_hash": "69d3bd24",
    "execution_millis": 0,
    "execution_start": 1616953649209,
    "deepnote_cell_type": "code"
   },
   "source": "#umap - 3-d reduction plotted above\n#note - look at different subsets of data?",
   "execution_count": null,
   "outputs": []
  },
  {
   "cell_type": "code",
   "metadata": {
    "tags": [],
    "cell_id": "00013-2cb97098-1c9c-4461-bbaf-f128d75f170e",
    "deepnote_to_be_reexecuted": false,
    "source_hash": "74d6f75e",
    "execution_millis": 191,
    "execution_start": 1616953649210,
    "deepnote_cell_type": "code"
   },
   "source": "for i in range(0, 100, 30):\n    for j in range(0, 100, 30):\n        ax.view_init(i, j)\n        plt.draw()\n        plt.pause(.001)",
   "execution_count": null,
   "outputs": [
    {
     "data": {
      "text/plain": "<Figure size 432x288 with 0 Axes>"
     },
     "metadata": {},
     "output_type": "display_data"
    },
    {
     "data": {
      "text/plain": "<Figure size 432x288 with 0 Axes>"
     },
     "metadata": {},
     "output_type": "display_data"
    },
    {
     "data": {
      "text/plain": "<Figure size 432x288 with 0 Axes>"
     },
     "metadata": {},
     "output_type": "display_data"
    },
    {
     "data": {
      "text/plain": "<Figure size 432x288 with 0 Axes>"
     },
     "metadata": {},
     "output_type": "display_data"
    },
    {
     "data": {
      "text/plain": "<Figure size 432x288 with 0 Axes>"
     },
     "metadata": {},
     "output_type": "display_data"
    },
    {
     "data": {
      "text/plain": "<Figure size 432x288 with 0 Axes>"
     },
     "metadata": {},
     "output_type": "display_data"
    },
    {
     "data": {
      "text/plain": "<Figure size 432x288 with 0 Axes>"
     },
     "metadata": {},
     "output_type": "display_data"
    },
    {
     "data": {
      "text/plain": "<Figure size 432x288 with 0 Axes>"
     },
     "metadata": {},
     "output_type": "display_data"
    },
    {
     "data": {
      "text/plain": "<Figure size 432x288 with 0 Axes>"
     },
     "metadata": {},
     "output_type": "display_data"
    },
    {
     "data": {
      "text/plain": "<Figure size 432x288 with 0 Axes>"
     },
     "metadata": {},
     "output_type": "display_data"
    },
    {
     "data": {
      "text/plain": "<Figure size 432x288 with 0 Axes>"
     },
     "metadata": {},
     "output_type": "display_data"
    },
    {
     "data": {
      "text/plain": "<Figure size 432x288 with 0 Axes>"
     },
     "metadata": {},
     "output_type": "display_data"
    },
    {
     "data": {
      "text/plain": "<Figure size 432x288 with 0 Axes>"
     },
     "metadata": {},
     "output_type": "display_data"
    },
    {
     "data": {
      "text/plain": "<Figure size 432x288 with 0 Axes>"
     },
     "metadata": {},
     "output_type": "display_data"
    },
    {
     "data": {
      "text/plain": "<Figure size 432x288 with 0 Axes>"
     },
     "metadata": {},
     "output_type": "display_data"
    },
    {
     "data": {
      "text/plain": "<Figure size 432x288 with 0 Axes>"
     },
     "metadata": {},
     "output_type": "display_data"
    }
   ]
  },
  {
   "cell_type": "markdown",
   "source": "## Static Features PCA",
   "metadata": {
    "tags": [],
    "cell_id": "00016-48129c82-eb60-4b4c-89b0-57a29ec617a0",
    "deepnote_cell_type": "markdown"
   }
  },
  {
   "cell_type": "code",
   "metadata": {
    "tags": [],
    "cell_id": "00014-3b48918f-66a3-4b3d-8b4c-f6476c7ed9d6",
    "deepnote_to_be_reexecuted": false,
    "source_hash": "72884653",
    "execution_millis": 17,
    "execution_start": 1617145706854,
    "deepnote_cell_type": "code"
   },
   "source": "from sklearn.decomposition import PCA\npca = PCA(n_components = 2)\nprojected_data = pca.fit_transform(feature_data)\n    #feature_data defined above\n    #fit_transform fits and then does dimensionality reduction\nprint(projected_data[:10])",
   "execution_count": null,
   "outputs": [
    {
     "name": "stdout",
     "text": "[[-5166.1944487   -340.97694056]\n [ 1217.50881128  -145.39776608]\n [12255.64606734  -227.68546799]\n [-2084.19550518  -341.8449617 ]\n [-9417.05208003  -428.86461031]\n [-4364.31718159  -260.1132458 ]\n [-6222.17332973  -351.20535887]\n [16031.08422094   150.34541207]\n [25124.38031925   -37.74384161]\n [15771.80001209  -309.54043315]]\n",
     "output_type": "stream"
    }
   ]
  },
  {
   "cell_type": "code",
   "metadata": {
    "tags": [],
    "cell_id": "00018-b245a919-dbd9-4b24-9787-691cc14342d9",
    "deepnote_to_be_reexecuted": false,
    "source_hash": "377223e6",
    "execution_millis": 250,
    "execution_start": 1617145795598,
    "deepnote_cell_type": "code"
   },
   "source": "#make PCA plot\nfig, ax = plt.subplots()\ncolormap = ['xkcd:orange', 'xkcd:olive',     'xkcd:azure',    'xkcd:rose', 'xkcd:mustard', \n            'xkcd:peach',  'xkcd:turquoise', 'xkcd:lavender', 'xkcd:rust', 'xkcd:red']\ngroupAssignments = parkinsonhw_df[\"Category\"].tolist()\nfor i in range(len(projected_data)):\n    edgecolor = colormap[groupAssignments[i]]\n    fillcolor = 'w'\n    shape     = 'o'\n    ax.plot(projected_data[i,0], projected_data[i,1], marker=shape,mec = edgecolor, mfc=fillcolor, mew=1.5)\nax.set_xlabel('PC1')\nax.set_ylabel('PC2')\nax.set_title('PC1 vs. PC2')\nplt.tight_layout()",
   "execution_count": null,
   "outputs": [
    {
     "data": {
      "text/plain": "<Figure size 432x288 with 1 Axes>",
      "image/png": "[encoded data removed]"
     },
     "metadata": {
      "needs_background": "light",
      "image/png": {
       "width": 424,
       "height": 280
      }
     },
     "output_type": "display_data"
    }
   ]
  },
  {
   "cell_type": "code",
   "metadata": {
    "tags": [],
    "cell_id": "00019-0ed519cc-a111-47ca-a8bd-46ec35229e97",
    "deepnote_to_be_reexecuted": false,
    "source_hash": "2ae8748c",
    "execution_millis": 222,
    "execution_start": 1616953649731,
    "deepnote_cell_type": "code"
   },
   "source": "#plot pca loadings\nloadings = pd.DataFrame(pca.components_.T, columns=['PC1', 'PC2']).to_numpy()\n\nfig, ax = plt.subplots()\nfor i in range(20):\n    fillcolor = 'w'\n    shape     = 'o'\n    ax.plot(loadings[i,0], loadings[i,1], marker=shape,mec = 'xkcd:black', mfc=fillcolor, mew=1.5)\nax.set_xlabel('PC1 loading')\nax.set_ylabel('PC2 loading')\nax.set_title('PCA loadings')\nplt.tight_layout()\n\n#loadings dispersed away from the origin are \"significant\"",
   "execution_count": null,
   "outputs": [
    {
     "data": {
      "text/plain": "<Figure size 432x288 with 1 Axes>",
      "image/png": "[encoded data removed]"
     },
     "metadata": {
      "needs_background": "light",
      "image/png": {
       "width": 424,
       "height": 280
      }
     },
     "output_type": "display_data"
    }
   ]
  },
  {
   "cell_type": "code",
   "metadata": {
    "tags": [],
    "cell_id": "00020-110339f9-1539-4d1c-8fda-f5c3bb6bc0ae",
    "deepnote_to_be_reexecuted": false,
    "source_hash": "c54bc07f",
    "execution_millis": 1,
    "execution_start": 1617145851490,
    "deepnote_cell_type": "code"
   },
   "source": "#0,1,2,3,4,5,6,8,12,13,15,16,17,18,19\ntruncated_data = feature_data[:,np.r_[0,1,2,3,4,5,6,8,12,13,15,16,17,18,19]] #picked some subset of features\npca = PCA(n_components = 2)\nprojected_Tdata = pca.fit_transform(truncated_data)",
   "execution_count": null,
   "outputs": []
  },
  {
   "cell_type": "code",
   "metadata": {
    "tags": [],
    "cell_id": "00021-1b3ca0ff-9c2a-438d-9cb8-40b3f47c4bbe",
    "deepnote_to_be_reexecuted": false,
    "source_hash": "65fa733",
    "execution_millis": 218,
    "execution_start": 1617145900111,
    "deepnote_cell_type": "code"
   },
   "source": "#make PCA plot\nfig, ax = plt.subplots()\nfor i in range(len(projected_Tdata)):\n    edgecolor = colormap[groupAssignments[i]]\n    fillcolor = 'w'\n    shape     = 'o'\n    ax.plot(projected_Tdata[i,0], projected_Tdata[i,1], marker=shape,mec = edgecolor, mfc=fillcolor, mew=1.5)\nax.set_xlabel('PC1')\nax.set_ylabel('PC2')\nax.set_title('PC1 vs. PC2 (Truncated Data)')\nplt.tight_layout()",
   "execution_count": null,
   "outputs": [
    {
     "data": {
      "text/plain": "<Figure size 432x288 with 1 Axes>",
      "image/png": "[encoded data removed]"
     },
     "metadata": {
      "needs_background": "light",
      "image/png": {
       "width": 424,
       "height": 280
      }
     },
     "output_type": "display_data"
    }
   ]
  },
  {
   "cell_type": "markdown",
   "source": "## 4/11/21 Static/Dynamic Features",
   "metadata": {
    "tags": [],
    "cell_id": "00022-9ee4537f-e5a4-4233-a592-9ec817aaed99",
    "deepnote_cell_type": "markdown"
   }
  },
  {
   "cell_type": "code",
   "metadata": {
    "tags": [],
    "cell_id": "00023-f8b6d90a-4650-422c-9265-2575f77fbdbb",
    "deepnote_to_be_reexecuted": false,
    "source_hash": "1ccdcf26",
    "execution_millis": 22,
    "execution_start": 1618165726191,
    "deepnote_cell_type": "code"
   },
   "source": "static_df = pd.read_csv('/work/Static_HW_features.csv')\ndynamic_df = pd.read_csv('/work/Dynamic_HW_features.csv')",
   "execution_count": null,
   "outputs": []
  },
  {
   "cell_type": "code",
   "metadata": {
    "tags": [],
    "cell_id": "00024-f4a1992e-1aa7-4153-b5bc-608e9e5ad01f",
    "deepnote_to_be_reexecuted": false,
    "source_hash": "260056d5",
    "execution_millis": 1,
    "execution_start": 1618166112175,
    "deepnote_cell_type": "code"
   },
   "source": "static_feature_columns = static_df.columns.tolist()[2:]\nstatic_data = static_df[static_feature_columns].values\ndynamic_feature_columns = dynamic_df.columns.tolist()[2:]\ndynamic_data = dynamic_df[dynamic_feature_columns].values",
   "execution_count": null,
   "outputs": []
  },
  {
   "cell_type": "code",
   "metadata": {
    "tags": [],
    "cell_id": "00025-c4f6cb26-c7b3-42cb-9798-1de85c09f317",
    "deepnote_to_be_reexecuted": false,
    "source_hash": "79bc0698",
    "execution_millis": 53,
    "execution_start": 1618166693742,
    "deepnote_cell_type": "code"
   },
   "source": "from sklearn.decomposition import PCA\npca = PCA()\nprojected_static_data = pca.fit_transform(static_data)\npca2 = PCA()\nprojected_dynamic_data = pca2.fit_transform(dynamic_data)",
   "execution_count": null,
   "outputs": []
  },
  {
   "cell_type": "code",
   "metadata": {
    "tags": [],
    "cell_id": "00026-30f2f742-ef12-45a6-8560-937c84ec22ed",
    "deepnote_to_be_reexecuted": false,
    "source_hash": "8efe1933",
    "execution_millis": 398,
    "execution_start": 1618166696544,
    "deepnote_cell_type": "code"
   },
   "source": "fig, ax = plt.subplots()\ncolormap = ['xkcd:orange', 'xkcd:olive',     'xkcd:azure',    'xkcd:rose', 'xkcd:mustard', \n            'xkcd:peach',  'xkcd:turquoise', 'xkcd:lavender', 'xkcd:rust', 'xkcd:red']\ngroupAssignments = static_df[\"Category\"].tolist()\nfor i in range(len(projected_static_data)):\n    edgecolor = colormap[groupAssignments[i]]\n    fillcolor = 'w'\n    shape     = 'o'\n    ax.plot(projected_static_data[i,0], projected_static_data[i,1], marker=shape,mec = edgecolor, mfc=fillcolor, mew=1.5)\nax.set_xlabel('PC1')\nax.set_ylabel('PC2')\nax.set_title('PC1 vs. PC2 (Static, All Features)')\nplt.tight_layout()",
   "execution_count": null,
   "outputs": [
    {
     "data": {
      "text/plain": "<Figure size 432x288 with 1 Axes>",
      "image/png": "[encoded data removed]"
     },
     "metadata": {
      "needs_background": "light",
      "image/png": {
       "width": 424,
       "height": 280
      }
     },
     "output_type": "display_data"
    }
   ]
  },
  {
   "cell_type": "code",
   "metadata": {
    "tags": [],
    "cell_id": "00027-cf1814c3-541a-4274-9d87-68ab9d0f84f4",
    "deepnote_to_be_reexecuted": false,
    "source_hash": "a205d221",
    "execution_millis": 445,
    "execution_start": 1618166699138,
    "deepnote_cell_type": "code"
   },
   "source": "fig, ax = plt.subplots()\ngroupAssignments = dynamic_df[\"Category\"].tolist()\nfor i in range(len(projected_dynamic_data)):\n    edgecolor = colormap[groupAssignments[i]]\n    fillcolor = 'w'\n    shape     = 'o'\n    ax.plot(projected_dynamic_data[i,0], projected_dynamic_data[i,1], marker=shape,mec = edgecolor, mfc=fillcolor, mew=1.5)\nax.set_xlabel('PC1')\nax.set_ylabel('PC2')\nax.set_title('PC1 vs. PC2 (Dynamic, All Features)')\nplt.tight_layout()",
   "execution_count": null,
   "outputs": [
    {
     "data": {
      "text/plain": "<Figure size 432x288 with 1 Axes>",
      "image/png": "[encoded data removed]"
     },
     "metadata": {
      "needs_background": "light",
      "image/png": {
       "width": 424,
       "height": 280
      }
     },
     "output_type": "display_data"
    }
   ]
  },
  {
   "cell_type": "code",
   "metadata": {
    "tags": [],
    "cell_id": "00028-9e38b546-f57f-47cd-8d6f-8fd5e3c32475",
    "deepnote_to_be_reexecuted": false,
    "source_hash": "13efec0f",
    "execution_millis": 23,
    "execution_start": 1618166704911,
    "deepnote_cell_type": "code"
   },
   "source": "print(static_data[:5])\nprint(dynamic_data[:5])\nprint(projected_static_data[:5])\nprint(projected_dynamic_data[:5])",
   "execution_count": null,
   "outputs": [
    {
     "name": "stdout",
     "text": "[[ 7.63352698e-01  1.50814740e+00  2.56846779e-01  1.99008842e-04\n   3.85951370e-04  5.35788719e-03  1.28158397e-02  2.13641480e-03\n   6.61630920e-04  5.51218012e-05  1.82140035e-04  3.37188863e-05\n   1.26812593e-03  1.81370000e+04  3.30815460e-04  8.84200931e+02\n   9.41000000e+02  7.42284857e+01  3.78232343e-02  6.79307738e+01\n   7.00182123e+01  1.47278327e-01  1.22220172e-01 -7.15792054e-01\n  -7.71275490e-01  3.28632838e-02  9.99567282e-01  1.17599768e-01\n   9.92040547e-01  6.37744810e-01  8.20932577e+02  5.63854961e-02\n   5.63975750e+04  6.46653801e-01 -2.00397750e-02  2.14137887e-05\n   2.15747863e+00  7.17803537e-01  3.86861351e-01  8.37578081e-04\n   9.03727776e+01  3.87000000e+02  6.33000000e+02  5.00000000e+01\n   8.22000000e+02]\n [ 5.59823205e-01  1.00181224e+00  1.37362891e-01  2.38464940e-04\n   2.85469597e-04  3.09073795e-03  6.72999579e-03  1.06630327e-03\n   5.70939195e-04  3.11718013e-05  1.14923001e-04  2.07870764e-05\n   1.06031565e-03  2.45210000e+04  2.85469597e-04  7.88450502e+02\n   8.27000000e+02  4.22784671e+01  3.77227682e-02  8.91194529e+01\n   9.21977440e+01  1.10681462e-01  8.08693568e-02 -7.54416173e-01\n  -8.70380958e-01  5.98839396e-02  9.97969290e-01  7.90607535e-02\n   9.96195307e-01  1.78669256e-01  7.73765501e+02  1.08233504e-02\n   6.33542505e+04  7.20693457e-01 -1.90056595e-02  2.01663682e-05\n   1.98275931e+00  3.62199973e-01  4.16794993e-01  3.18194019e-04\n   7.65590440e+01  3.87000000e+02  5.61000000e+02  4.30000000e+01\n   7.13000000e+02]\n [ 5.77474153e-01  8.08142853e-01  1.19064875e-01  1.41995161e-04\n   2.53100481e-04  2.88816015e-03  6.15237205e-03  1.09148153e-03\n   4.21834135e-04  2.56988262e-05  7.94936875e-05  1.81061125e-05\n   7.87423718e-04  3.55590000e+04  2.24978205e-04  8.43550013e+02\n   8.96000000e+02  5.89602906e+01  1.94043702e-02  9.12606250e+01\n   9.72210599e+01  1.30451935e-01  5.29483354e-02 -8.91451237e-01\n  -7.88701748e-01  3.56773960e-02  9.99416546e-01  8.23946509e-02\n   9.95774436e-01  3.92066184e-01  8.10860029e+02  1.99004365e-02\n   8.02123701e+04  6.49381828e-01 -1.55210716e-02  1.60297313e-05\n   1.87809812e+00  2.60176979e-01  4.72399934e-01  2.33757995e-04\n   7.03621963e+01  6.30000000e+02  6.36000000e+02  5.40000000e+01\n   6.82000000e+02]\n [ 6.45112077e-01  1.13366078e+00  1.51133908e-01  2.50543724e-04\n   3.29893020e-04  4.08313197e-03  1.22963341e-02  2.31781399e-03\n   7.06913615e-04  4.86139106e-05  2.65587370e-04  4.51886991e-05\n   1.22531693e-03  2.12190000e+04  3.29893020e-04  8.94425729e+02\n   9.32000000e+02  5.67731577e+01  3.78905698e-02  7.51207218e+01\n   7.67544832e+01  1.57889547e-01  1.62420184e-02 -8.81694436e-01\n  -1.00630584e+00  7.11113147e-02  9.97331435e-01  9.05197678e-02\n   9.94894068e-01  2.40972057e-02  9.08578179e+02 -4.30323846e-03\n   4.76642278e+04  6.69133750e-01 -1.54149497e-02  1.47480042e-05\n   1.57207663e+00  1.02571237e-02  6.18629954e-01  5.89146214e-05\n   1.00656538e+02  6.26000000e+02  7.33000000e+02  4.20000000e+01\n   8.02000000e+02]\n [ 9.95901267e-01  1.97617946e+00  3.44574467e-01  2.03367683e-04\n   3.60074896e-04  9.01779258e-03  1.88442215e-02  3.19997257e-03\n   5.76119833e-04  9.38191129e-05  3.55035049e-04  5.52236048e-05\n   9.36194729e-04  1.38860000e+04  3.60074896e-04  9.17348531e+02\n   1.01300000e+03  8.42009832e+01  3.74477891e-02  5.21798569e+01\n   5.30763239e+01  1.74441995e-01  1.06568605e-01 -5.77316676e-01\n  -6.93119599e-01  3.11276399e-02  9.99441581e-01  1.26706168e-01\n   9.90358408e-01  4.20899747e-01  8.66572344e+02  6.70055173e-02\n   6.78797827e+04  6.49377681e-01 -2.23832344e-02  2.51169816e-05\n   2.69337031e+00  7.65944038e-01  4.74154592e-01  1.16072675e-03\n   1.13926763e+02  5.84000000e+02  6.52000000e+02  5.00000000e+01\n   7.33000000e+02]]\n[[ 7.63352698e-01  1.50814740e+00  2.56846779e-01  1.99008842e-04\n   3.85951370e-04  5.35788719e-03  1.28158397e-02  2.13641480e-03\n   6.61630920e-04  5.51218012e-05  1.82140035e-04  3.37188863e-05\n   1.26812593e-03  1.81370000e+04  3.30815460e-04  8.84200931e+02\n   9.41000000e+02  7.42284857e+01  3.78232343e-02  6.79307738e+01\n   7.00182123e+01  1.47278327e-01  1.22220172e-01 -7.15792054e-01\n  -7.71275490e-01  3.28632838e-02  9.99567282e-01  1.17599768e-01\n   9.92040547e-01  6.37744810e-01  8.20932577e+02  5.63854961e-02\n   5.63975750e+04  6.46653801e-01 -2.00397750e-02  2.14137887e-05\n   2.15747863e+00  7.17803537e-01  3.86861351e-01  8.37578081e-04\n   9.03727776e+01  3.87000000e+02  6.33000000e+02  5.00000000e+01\n   8.22000000e+02]\n [ 5.59823205e-01  1.00181224e+00  1.37362891e-01  2.38464940e-04\n   2.85469597e-04  3.09073795e-03  6.72999579e-03  1.06630327e-03\n   5.70939195e-04  3.11718013e-05  1.14923001e-04  2.07870764e-05\n   1.06031565e-03  2.45210000e+04  2.85469597e-04  7.88450502e+02\n   8.27000000e+02  4.22784671e+01  3.77227682e-02  8.91194529e+01\n   9.21977440e+01  1.10681462e-01  8.08693568e-02 -7.54416173e-01\n  -8.70380958e-01  5.98839396e-02  9.97969290e-01  7.90607535e-02\n   9.96195307e-01  1.78669256e-01  7.73765501e+02  1.08233504e-02\n   6.33542505e+04  7.20693457e-01 -1.90056595e-02  2.01663682e-05\n   1.98275931e+00  3.62199973e-01  4.16794993e-01  3.18194019e-04\n   7.65590440e+01  3.87000000e+02  5.61000000e+02  4.30000000e+01\n   7.13000000e+02]\n [ 5.77474153e-01  8.08142853e-01  1.19064875e-01  1.41995161e-04\n   2.53100481e-04  2.88816015e-03  6.15237205e-03  1.09148153e-03\n   4.21834135e-04  2.56988262e-05  7.94936875e-05  1.81061125e-05\n   7.87423718e-04  3.55590000e+04  2.24978205e-04  8.43550013e+02\n   8.96000000e+02  5.89602906e+01  1.94043702e-02  9.12606250e+01\n   9.72210599e+01  1.30451935e-01  5.29483354e-02 -8.91451237e-01\n  -7.88701748e-01  3.56773960e-02  9.99416546e-01  8.23946509e-02\n   9.95774436e-01  3.92066184e-01  8.10860029e+02  1.99004365e-02\n   8.02123701e+04  6.49381828e-01 -1.55210716e-02  1.60297313e-05\n   1.87809812e+00  2.60176979e-01  4.72399934e-01  2.33757995e-04\n   7.03621963e+01  6.30000000e+02  6.36000000e+02  5.40000000e+01\n   6.82000000e+02]\n [ 6.45112077e-01  1.13366078e+00  1.51133908e-01  2.50543724e-04\n   3.29893020e-04  4.08313197e-03  1.22963341e-02  2.31781399e-03\n   7.06913615e-04  4.86139106e-05  2.65587370e-04  4.51886991e-05\n   1.22531693e-03  2.12190000e+04  3.29893020e-04  8.94425729e+02\n   9.32000000e+02  5.67731577e+01  3.78905698e-02  7.51207218e+01\n   7.67544832e+01  1.57889547e-01  1.62420184e-02 -8.81694436e-01\n  -1.00630584e+00  7.11113147e-02  9.97331435e-01  9.05197678e-02\n   9.94894068e-01  2.40972057e-02  9.08578179e+02 -4.30323846e-03\n   4.76642278e+04  6.69133750e-01 -1.54149497e-02  1.47480042e-05\n   1.57207663e+00  1.02571237e-02  6.18629954e-01  5.89146214e-05\n   1.00656538e+02  6.26000000e+02  7.33000000e+02  4.20000000e+01\n   8.02000000e+02]\n [ 9.95901267e-01  1.97617946e+00  3.44574467e-01  2.03367683e-04\n   3.60074896e-04  9.01779258e-03  1.88442215e-02  3.19997257e-03\n   5.76119833e-04  9.38191129e-05  3.55035049e-04  5.52236048e-05\n   9.36194729e-04  1.38860000e+04  3.60074896e-04  9.17348531e+02\n   1.01300000e+03  8.42009832e+01  3.74477891e-02  5.21798569e+01\n   5.30763239e+01  1.74441995e-01  1.06568605e-01 -5.77316676e-01\n  -6.93119599e-01  3.11276399e-02  9.99441581e-01  1.26706168e-01\n   9.90358408e-01  4.20899747e-01  8.66572344e+02  6.70055173e-02\n   6.78797827e+04  6.49377681e-01 -2.23832344e-02  2.51169816e-05\n   2.69337031e+00  7.65944038e-01  4.74154592e-01  1.16072675e-03\n   1.13926763e+02  5.84000000e+02  6.52000000e+02  5.00000000e+01\n   7.33000000e+02]]\n[[-4.45433469e+04  2.14145436e+01  4.77599221e+02 -6.18205475e+02\n  -4.49413149e+02 -1.65798051e+02  2.50146174e+01 -2.31218956e+01\n  -1.52506654e+01  9.58235351e+00 -1.58131026e+01 -5.11778614e-01\n  -6.62208041e+00 -1.97174476e+00  4.05293502e-02 -2.70965722e-01\n  -1.98863690e-01 -1.18305213e-01  7.51382447e-02  2.53703560e-02\n   1.26434745e-01  3.27590524e-03 -3.96643782e-02  5.33235070e-02\n  -1.27750462e-01  1.99777999e-02 -4.85564418e-03 -2.47339282e-03\n  -1.02397731e-03 -2.46430936e-03 -5.32887118e-03  2.83729056e-03\n   2.77037614e-03 -1.85036248e-04  1.15557726e-03  1.84898195e-03\n   1.63868195e-04  1.14860596e-04 -7.99633974e-05  9.40101293e-05\n  -4.11563316e-05 -1.07577267e-05  4.60601962e-05 -3.58899597e-06\n   8.35512748e-12]\n [-3.68880441e+04  5.54232329e+03  4.32118226e+02 -8.52427389e+02\n  -2.29276748e+02 -1.39483971e+02 -4.44877091e-01 -2.99942752e+01\n  -7.32436503e+01  1.65210128e+01 -1.38001325e+01 -1.31450780e+01\n  -6.67146195e+00 -1.23708999e+00 -9.58248104e-02 -2.26076755e-01\n  -7.02846510e-02  5.71022455e-02  4.22167912e-02  2.84620862e-02\n  -9.25302739e-02 -3.00980908e-02  3.62306401e-02 -1.31874044e-01\n   7.47165276e-02  8.84952333e-02 -2.45716536e-02  7.86584039e-03\n   1.04464146e-03  6.73020108e-03 -9.34366221e-03  7.21812273e-03\n   1.79507675e-03 -6.77959332e-04 -4.01030586e-04  7.16929904e-04\n   1.25693440e-05 -3.62681119e-04 -6.25748401e-05  5.71620348e-05\n   1.32337236e-05  3.70511573e-05 -2.58090985e-06  1.66952454e-06\n   5.83806422e-11]\n [-1.88553829e+04  1.45335017e+04  2.51963644e+02 -1.04329485e+03\n  -2.91660470e+02 -5.39271493e+01 -8.41179267e+01 -3.72831507e+01\n  -3.19654181e+01  9.43242346e+00  1.48559393e+01  1.74322727e+01\n  -1.48701968e+01 -6.43830228e+00 -3.85978000e-01 -9.48453597e-02\n  -2.60934212e-01 -2.14338518e-02  8.66374130e-02  9.02235307e-02\n   7.32159936e-02  1.50959681e-01 -1.21476773e-02 -1.77551958e-02\n   2.67998830e-02  1.68586529e-02 -1.94439691e-02  6.13298971e-03\n   4.38854563e-03 -1.53435057e-02  6.98961387e-04 -2.71576890e-02\n  -7.41217670e-03  1.37742620e-03  1.49356191e-03 -2.29623541e-03\n  -4.81096888e-05 -2.37625358e-04 -5.74747374e-05  2.57511457e-05\n   8.10455244e-08 -3.32253913e-05  2.23958849e-06  1.01111456e-05\n  -8.82847984e-11]\n [-5.28538403e+04  4.10963378e+03  6.79229642e+02 -5.40141543e+02\n  -5.30576080e+02 -1.31085461e+02 -5.84242942e+01 -8.99895434e+01\n  -5.64983760e+01  1.99852151e+01  4.92288036e-01 -6.87977269e+00\n   3.43215527e+00 -4.73116813e+00 -8.37002877e-01 -1.97362404e-01\n   2.28995171e-01  1.64285096e-01 -1.21241880e-01  3.25706804e-02\n  -1.60340474e-01 -4.97403033e-02  1.31160924e-01 -1.80462781e-01\n   1.63731779e-01  1.17242391e-03 -1.64563404e-03  8.89578731e-03\n  -2.59496156e-03  2.25910451e-03  3.34398222e-03  6.24319334e-03\n   3.59234943e-03 -3.46673502e-04  3.16467078e-04  1.17435434e-03\n  -1.07336256e-04 -4.82290929e-04  9.14532699e-06  8.39263284e-05\n   3.91941524e-05  3.95651232e-05  4.65530603e-05  1.06730523e-06\n   8.41580196e-12]\n [-3.36401197e+04 -5.52917170e+03  1.51937419e+02 -2.22888448e+02\n  -5.14319194e+02 -1.49763635e+02 -8.24105331e+01 -2.31129500e+00\n   5.37694741e+00  6.82006323e+00 -7.48245267e+00 -6.96333361e+00\n  -1.38965528e+01 -1.98617272e+00  1.82295557e-01 -1.64970744e-01\n  -2.79272924e-01  3.70852068e-02  8.80795775e-02  2.40456762e-02\n  -6.32262193e-03  6.56949412e-02  6.24249452e-02  3.96178935e-03\n  -8.60894168e-02  3.68393625e-02 -1.26099773e-03 -2.11016124e-03\n   1.80892521e-03  5.27096160e-03 -4.59264803e-03 -1.96610827e-03\n   8.00762318e-03  6.94881974e-04  1.22943264e-03  6.39086965e-04\n  -3.00142095e-05 -8.30634208e-05  5.77653263e-05 -9.83690332e-05\n  -2.13802454e-05  6.09093937e-05 -3.17493183e-05 -4.51275190e-06\n   6.29642139e-11]]\n[[-4.45433469e+04  2.14145436e+01  4.77599221e+02 -6.18205475e+02\n  -4.49413149e+02 -1.65798051e+02  2.50146174e+01 -2.31218956e+01\n  -1.52506654e+01  9.58235351e+00 -1.58131026e+01 -5.11778614e-01\n  -6.62208041e+00 -1.97174476e+00  4.05293502e-02 -2.70965722e-01\n  -1.98863690e-01 -1.18305213e-01  7.51382447e-02  2.53703560e-02\n   1.26434745e-01  3.27590524e-03 -3.96643782e-02  5.33235070e-02\n  -1.27750462e-01  1.99777999e-02 -4.85564418e-03 -2.47339282e-03\n  -1.02397731e-03 -2.46430936e-03 -5.32887118e-03  2.83729056e-03\n   2.77037614e-03 -1.85036248e-04  1.15557726e-03  1.84898195e-03\n   1.63868195e-04  1.14860596e-04 -7.99633974e-05  9.40101293e-05\n  -4.11563316e-05 -1.07577267e-05  4.60601962e-05 -3.58899597e-06\n   8.35512748e-12]\n [-3.68880441e+04  5.54232329e+03  4.32118226e+02 -8.52427389e+02\n  -2.29276748e+02 -1.39483971e+02 -4.44877091e-01 -2.99942752e+01\n  -7.32436503e+01  1.65210128e+01 -1.38001325e+01 -1.31450780e+01\n  -6.67146195e+00 -1.23708999e+00 -9.58248104e-02 -2.26076755e-01\n  -7.02846510e-02  5.71022455e-02  4.22167912e-02  2.84620862e-02\n  -9.25302739e-02 -3.00980908e-02  3.62306401e-02 -1.31874044e-01\n   7.47165276e-02  8.84952333e-02 -2.45716536e-02  7.86584039e-03\n   1.04464146e-03  6.73020108e-03 -9.34366221e-03  7.21812273e-03\n   1.79507675e-03 -6.77959332e-04 -4.01030586e-04  7.16929904e-04\n   1.25693440e-05 -3.62681119e-04 -6.25748401e-05  5.71620348e-05\n   1.32337236e-05  3.70511573e-05 -2.58090985e-06  1.66952454e-06\n   5.83806422e-11]\n [-1.88553829e+04  1.45335017e+04  2.51963644e+02 -1.04329485e+03\n  -2.91660470e+02 -5.39271493e+01 -8.41179267e+01 -3.72831507e+01\n  -3.19654181e+01  9.43242346e+00  1.48559393e+01  1.74322727e+01\n  -1.48701968e+01 -6.43830228e+00 -3.85978000e-01 -9.48453597e-02\n  -2.60934212e-01 -2.14338518e-02  8.66374130e-02  9.02235307e-02\n   7.32159936e-02  1.50959681e-01 -1.21476773e-02 -1.77551958e-02\n   2.67998830e-02  1.68586529e-02 -1.94439691e-02  6.13298971e-03\n   4.38854563e-03 -1.53435057e-02  6.98961387e-04 -2.71576890e-02\n  -7.41217670e-03  1.37742620e-03  1.49356191e-03 -2.29623541e-03\n  -4.81096888e-05 -2.37625358e-04 -5.74747374e-05  2.57511457e-05\n   8.10455244e-08 -3.32253913e-05  2.23958849e-06  1.01111456e-05\n  -8.82847984e-11]\n [-5.28538403e+04  4.10963378e+03  6.79229642e+02 -5.40141543e+02\n  -5.30576080e+02 -1.31085461e+02 -5.84242942e+01 -8.99895434e+01\n  -5.64983760e+01  1.99852151e+01  4.92288036e-01 -6.87977269e+00\n   3.43215527e+00 -4.73116813e+00 -8.37002877e-01 -1.97362404e-01\n   2.28995171e-01  1.64285096e-01 -1.21241880e-01  3.25706804e-02\n  -1.60340474e-01 -4.97403033e-02  1.31160924e-01 -1.80462781e-01\n   1.63731779e-01  1.17242391e-03 -1.64563404e-03  8.89578731e-03\n  -2.59496156e-03  2.25910451e-03  3.34398222e-03  6.24319334e-03\n   3.59234943e-03 -3.46673502e-04  3.16467078e-04  1.17435434e-03\n  -1.07336256e-04 -4.82290929e-04  9.14532699e-06  8.39263284e-05\n   3.91941524e-05  3.95651232e-05  4.65530603e-05  1.06730523e-06\n   8.41580196e-12]\n [-3.36401197e+04 -5.52917170e+03  1.51937419e+02 -2.22888448e+02\n  -5.14319194e+02 -1.49763635e+02 -8.24105331e+01 -2.31129500e+00\n   5.37694741e+00  6.82006323e+00 -7.48245267e+00 -6.96333361e+00\n  -1.38965528e+01 -1.98617272e+00  1.82295557e-01 -1.64970744e-01\n  -2.79272924e-01  3.70852068e-02  8.80795775e-02  2.40456762e-02\n  -6.32262193e-03  6.56949412e-02  6.24249452e-02  3.96178935e-03\n  -8.60894168e-02  3.68393625e-02 -1.26099773e-03 -2.11016124e-03\n   1.80892521e-03  5.27096160e-03 -4.59264803e-03 -1.96610827e-03\n   8.00762318e-03  6.94881974e-04  1.22943264e-03  6.39086965e-04\n  -3.00142095e-05 -8.30634208e-05  5.77653263e-05 -9.83690332e-05\n  -2.13802454e-05  6.09093937e-05 -3.17493183e-05 -4.51275190e-06\n   6.29642139e-11]]\n",
     "output_type": "stream"
    }
   ]
  },
  {
   "cell_type": "code",
   "metadata": {
    "tags": [],
    "cell_id": "00030-af1bf32f-a4df-4e67-ba01-0dfb51cd2c05",
    "deepnote_to_be_reexecuted": false,
    "source_hash": "beb7f5e9",
    "execution_millis": 22,
    "execution_start": 1618167275399,
    "deepnote_cell_type": "code"
   },
   "source": "#'Rate of Inversion in Pressure'\n#'Pressure Reg x0'\n#'Pressure Std'\ntruncated_dynamic_df = dynamic_df[['Rate of Inversion in Pressure','Pressure Reg x0', 'Pressure Std']]",
   "execution_count": null,
   "outputs": [
    {
     "name": "stdout",
     "text": "    Rate of Inversion in Pressure  Pressure Reg x0  Pressure Std\n0                        0.037823       820.932577     74.228486\n1                        0.037723       773.765501     42.278467\n2                        0.019404       810.860029     58.960291\n3                        0.037891       908.578179     56.773158\n4                        0.037448       866.572344     84.200983\n..                            ...              ...           ...\n71                       0.006416       405.883127    109.392847\n72                       0.026658       683.409011    127.856692\n73                       0.029498       608.920676     65.254108\n74                       0.032872       886.472140     90.992836\n75                       0.021568       718.066481    107.423860\n\n[76 rows x 3 columns]\n",
     "output_type": "stream"
    }
   ]
  },
  {
   "cell_type": "code",
   "metadata": {
    "tags": [],
    "cell_id": "00031-706b8afc-702c-438b-a513-4a2362f26be6",
    "deepnote_to_be_reexecuted": false,
    "source_hash": "c69926b0",
    "execution_millis": 211,
    "execution_start": 1618167474900,
    "deepnote_cell_type": "code"
   },
   "source": "from mpl_toolkits import mplot3d\nfig = plt.figure()\nax = plt.axes(projection='3d')\nax.scatter3D(truncated_dynamic_df['Rate of Inversion in Pressure'], \ntruncated_dynamic_df['Pressure Reg x0'], truncated_dynamic_df['Pressure Std'], c = groupAssignments);\n",
   "execution_count": null,
   "outputs": [
    {
     "data": {
      "text/plain": "<Figure size 432x288 with 1 Axes>",
      "image/png": "[encoded data removed]"
     },
     "metadata": {
      "needs_background": "light",
      "image/png": {
       "width": 249,
       "height": 239
      }
     },
     "output_type": "display_data"
    }
   ]
  },
  {
   "cell_type": "markdown",
   "source": "### April 24, 2021 PCA on Subsets of All Compiled Features",
   "metadata": {
    "tags": [],
    "cell_id": "00032-93b5bbf5-7743-4daf-b874-73658956fc6b",
    "deepnote_cell_type": "markdown"
   }
  },
  {
   "cell_type": "code",
   "metadata": {
    "tags": [],
    "cell_id": "00033-5ddc66e2-5683-4e5d-9ebc-28fe33ee89c1",
    "deepnote_to_be_reexecuted": false,
    "source_hash": "c571705e",
    "execution_millis": 212,
    "execution_start": 1619296636564,
    "deepnote_cell_type": "code"
   },
   "source": "#~85 features total\n#select informative subsets, run PCA\n# pressure rising & falling duration/\n\nstatic_features_df = pd.read_csv('/work/Static_HW_features.csv')\ndynamic_features_df = pd.read_csv('/work/Dynamic_HW_features.csv')\nstatic_features_df\ndynamic_features_df",
   "execution_count": null,
   "outputs": [
    {
     "output_type": "execute_result",
     "execution_count": 8,
     "data": {
      "application/vnd.deepnote.dataframe.v2+json": {
       "row_count": 76,
       "column_count": 81,
       "columns": [
        {
         "name": "dynamic Subject ID",
         "dtype": "object",
         "stats": {
          "unique_count": 76,
          "nan_count": 0,
          "categories": [
           {
            "name": "/work/ParkinsonHW/C_0001.txt",
            "count": 1
           },
           {
            "name": "/work/ParkinsonHW/C_0002.txt",
            "count": 1
           },
           {
            "name": "74 others",
            "count": 74
           }
          ]
         }
        },
        {
         "name": "Category",
         "dtype": "int64",
         "stats": {
          "unique_count": 2,
          "nan_count": 0,
          "min": "0",
          "max": "1",
          "histogram": [
           {
            "bin_start": 0,
            "bin_end": 0.1,
            "count": 15
           },
           {
            "bin_start": 0.1,
            "bin_end": 0.2,
            "count": 0
           },
           {
            "bin_start": 0.2,
            "bin_end": 0.30000000000000004,
            "count": 0
           },
           {
            "bin_start": 0.30000000000000004,
            "bin_end": 0.4,
            "count": 0
           },
           {
            "bin_start": 0.4,
            "bin_end": 0.5,
            "count": 0
           },
           {
            "bin_start": 0.5,
            "bin_end": 0.6000000000000001,
            "count": 0
           },
           {
            "bin_start": 0.6000000000000001,
            "bin_end": 0.7000000000000001,
            "count": 0
           },
           {
            "bin_start": 0.7000000000000001,
            "bin_end": 0.8,
            "count": 0
           },
           {
            "bin_start": 0.8,
            "bin_end": 0.9,
            "count": 0
           },
           {
            "bin_start": 0.9,
            "bin_end": 1,
            "count": 61
           }
          ]
         }
        },
        {
         "name": "Mean Velocity",
         "dtype": "float64",
         "stats": {
          "unique_count": 76,
          "nan_count": 0,
          "min": "0.1826976083544594",
          "max": "4.108092536557582",
          "histogram": [
           {
            "bin_start": 0.1826976083544594,
            "bin_end": 0.5752371011747717,
            "count": 17
           },
           {
            "bin_start": 0.5752371011747717,
            "bin_end": 0.967776593995084,
            "count": 25
           },
           {
            "bin_start": 0.967776593995084,
            "bin_end": 1.3603160868153963,
            "count": 14
           },
           {
            "bin_start": 1.3603160868153963,
            "bin_end": 1.7528555796357086,
            "count": 8
           },
           {
            "bin_start": 1.7528555796357086,
            "bin_end": 2.145395072456021,
            "count": 5
           },
           {
            "bin_start": 2.145395072456021,
            "bin_end": 2.537934565276333,
            "count": 3
           },
           {
            "bin_start": 2.537934565276333,
            "bin_end": 2.9304740580966455,
            "count": 1
           },
           {
            "bin_start": 2.9304740580966455,
            "bin_end": 3.323013550916958,
            "count": 1
           },
           {
            "bin_start": 3.323013550916958,
            "bin_end": 3.71555304373727,
            "count": 1
           },
           {
            "bin_start": 3.71555304373727,
            "bin_end": 4.108092536557582,
            "count": 1
           }
          ]
         }
        },
        {
         "name": "Max Velocity",
         "dtype": "float64",
         "stats": {
          "unique_count": 76,
          "nan_count": 0,
          "min": "0.417406087705885",
          "max": "9.3735997899092",
          "histogram": [
           {
            "bin_start": 0.417406087705885,
            "bin_end": 1.3130254579262164,
            "count": 25
           },
           {
            "bin_start": 1.3130254579262164,
            "bin_end": 2.208644828146548,
            "count": 25
           },
           {
            "bin_start": 2.208644828146548,
            "bin_end": 3.104264198366879,
            "count": 13
           },
           {
            "bin_start": 3.104264198366879,
            "bin_end": 3.9998835685872107,
            "count": 3
           },
           {
            "bin_start": 3.9998835685872107,
            "bin_end": 4.895502938807542,
            "count": 1
           },
           {
            "bin_start": 4.895502938807542,
            "bin_end": 5.791122309027873,
            "count": 3
           },
           {
            "bin_start": 5.791122309027873,
            "bin_end": 6.686741679248205,
            "count": 0
           },
           {
            "bin_start": 6.686741679248205,
            "bin_end": 7.5823610494685365,
            "count": 4
           },
           {
            "bin_start": 7.5823610494685365,
            "bin_end": 8.477980419688867,
            "count": 0
           },
           {
            "bin_start": 8.477980419688867,
            "bin_end": 9.3735997899092,
            "count": 2
           }
          ]
         }
        },
        {
         "name": "Velocity Std",
         "dtype": "float64",
         "stats": {
          "unique_count": 76,
          "nan_count": 0,
          "min": "0.0655689525625218",
          "max": "1.6542774383996122",
          "histogram": [
           {
            "bin_start": 0.0655689525625218,
            "bin_end": 0.22443980114623086,
            "count": 30
           },
           {
            "bin_start": 0.22443980114623086,
            "bin_end": 0.3833106497299399,
            "count": 18
           },
           {
            "bin_start": 0.3833106497299399,
            "bin_end": 0.5421814983136489,
            "count": 12
           },
           {
            "bin_start": 0.5421814983136489,
            "bin_end": 0.701052346897358,
            "count": 4
           },
           {
            "bin_start": 0.701052346897358,
            "bin_end": 0.859923195481067,
            "count": 2
           },
           {
            "bin_start": 0.859923195481067,
            "bin_end": 1.018794044064776,
            "count": 1
           },
           {
            "bin_start": 1.018794044064776,
            "bin_end": 1.1776648926484852,
            "count": 2
           },
           {
            "bin_start": 1.1776648926484852,
            "bin_end": 1.336535741232194,
            "count": 3
           },
           {
            "bin_start": 1.336535741232194,
            "bin_end": 1.495406589815903,
            "count": 1
           },
           {
            "bin_start": 1.495406589815903,
            "bin_end": 1.6542774383996122,
            "count": 3
           }
          ]
         }
        },
        {
         "name": "NVV",
         "dtype": "float64",
         "stats": {
          "unique_count": 76,
          "nan_count": 0,
          "min": "7.734198401667034e-05",
          "max": "0.0208681331825495",
          "histogram": [
           {
            "bin_start": 0.00007734198401667034,
            "bin_end": 0.0021564211038699534,
            "count": 72
           },
           {
            "bin_start": 0.0021564211038699534,
            "bin_end": 0.004235500223723236,
            "count": 2
           },
           {
            "bin_start": 0.004235500223723236,
            "bin_end": 0.006314579343576519,
            "count": 0
           },
           {
            "bin_start": 0.006314579343576519,
            "bin_end": 0.008393658463429802,
            "count": 0
           },
           {
            "bin_start": 0.008393658463429802,
            "bin_end": 0.010472737583283084,
            "count": 0
           },
           {
            "bin_start": 0.010472737583283084,
            "bin_end": 0.012551816703136367,
            "count": 0
           },
           {
            "bin_start": 0.012551816703136367,
            "bin_end": 0.01463089582298965,
            "count": 0
           },
           {
            "bin_start": 0.01463089582298965,
            "bin_end": 0.016709974942842935,
            "count": 0
           },
           {
            "bin_start": 0.016709974942842935,
            "bin_end": 0.01878905406269622,
            "count": 1
           },
           {
            "bin_start": 0.01878905406269622,
            "bin_end": 0.0208681331825495,
            "count": 1
           }
          ]
         }
        },
        {
         "name": "NIV",
         "dtype": "float64",
         "stats": {
          "unique_count": 76,
          "nan_count": 0,
          "min": "0.0001858429008011",
          "max": "0.0095821551994973",
          "histogram": [
           {
            "bin_start": 0.0001858429008011,
            "bin_end": 0.00112547413067072,
            "count": 61
           },
           {
            "bin_start": 0.00112547413067072,
            "bin_end": 0.00206510536054034,
            "count": 10
           },
           {
            "bin_start": 0.00206510536054034,
            "bin_end": 0.0030047365904099597,
            "count": 2
           },
           {
            "bin_start": 0.0030047365904099597,
            "bin_end": 0.00394436782027958,
            "count": 0
           },
           {
            "bin_start": 0.00394436782027958,
            "bin_end": 0.0048839990501492,
            "count": 0
           },
           {
            "bin_start": 0.0048839990501492,
            "bin_end": 0.0058236302800188195,
            "count": 0
           },
           {
            "bin_start": 0.0058236302800188195,
            "bin_end": 0.00676326150988844,
            "count": 0
           },
           {
            "bin_start": 0.00676326150988844,
            "bin_end": 0.00770289273975806,
            "count": 1
           },
           {
            "bin_start": 0.00770289273975806,
            "bin_end": 0.008642523969627681,
            "count": 0
           },
           {
            "bin_start": 0.008642523969627681,
            "bin_end": 0.0095821551994973,
            "count": 2
           }
          ]
         }
        },
        {
         "name": "Mean Acceleration",
         "dtype": "float64",
         "stats": {
          "unique_count": 76,
          "nan_count": 0,
          "min": "0.0007853255857845",
          "max": "0.49846574544517",
          "histogram": [
           {
            "bin_start": 0.0007853255857845,
            "bin_end": 0.05055336757172305,
            "count": 69
           },
           {
            "bin_start": 0.05055336757172305,
            "bin_end": 0.1003214095576616,
            "count": 3
           },
           {
            "bin_start": 0.1003214095576616,
            "bin_end": 0.15008945154360018,
            "count": 1
           },
           {
            "bin_start": 0.15008945154360018,
            "bin_end": 0.19985749352953872,
            "count": 0
           },
           {
            "bin_start": 0.19985749352953872,
            "bin_end": 0.24962553551547725,
            "count": 0
           },
           {
            "bin_start": 0.24962553551547725,
            "bin_end": 0.2993935775014158,
            "count": 1
           },
           {
            "bin_start": 0.2993935775014158,
            "bin_end": 0.34916161948735436,
            "count": 0
           },
           {
            "bin_start": 0.34916161948735436,
            "bin_end": 0.3989296614732929,
            "count": 0
           },
           {
            "bin_start": 0.3989296614732929,
            "bin_end": 0.44869770345923143,
            "count": 1
           },
           {
            "bin_start": 0.44869770345923143,
            "bin_end": 0.49846574544517,
            "count": 1
           }
          ]
         }
        },
        {
         "name": "Max Acceleration",
         "dtype": "float64",
         "stats": {
          "unique_count": 76,
          "nan_count": 0,
          "min": "0.0015427804946267",
          "max": "2.685502796748421",
          "histogram": [
           {
            "bin_start": 0.0015427804946267,
            "bin_end": 0.2699387821200061,
            "count": 71
           },
           {
            "bin_start": 0.2699387821200061,
            "bin_end": 0.5383347837453856,
            "count": 2
           },
           {
            "bin_start": 0.5383347837453856,
            "bin_end": 0.8067307853707649,
            "count": 0
           },
           {
            "bin_start": 0.8067307853707649,
            "bin_end": 1.0751267869961443,
            "count": 1
           },
           {
            "bin_start": 1.0751267869961443,
            "bin_end": 1.3435227886215237,
            "count": 0
           },
           {
            "bin_start": 1.3435227886215237,
            "bin_end": 1.611918790246903,
            "count": 0
           },
           {
            "bin_start": 1.611918790246903,
            "bin_end": 1.8803147918722825,
            "count": 1
           },
           {
            "bin_start": 1.8803147918722825,
            "bin_end": 2.148710793497662,
            "count": 0
           },
           {
            "bin_start": 2.148710793497662,
            "bin_end": 2.4171067951230416,
            "count": 0
           },
           {
            "bin_start": 2.4171067951230416,
            "bin_end": 2.685502796748421,
            "count": 1
           }
          ]
         }
        },
        {
         "name": "Accleration Std",
         "dtype": "float64",
         "stats": {
          "unique_count": 76,
          "nan_count": 0,
          "min": "0.0002398160776695",
          "max": "0.4164233969460588",
          "histogram": [
           {
            "bin_start": 0.0002398160776695,
            "bin_end": 0.04185817416450843,
            "count": 71
           },
           {
            "bin_start": 0.04185817416450843,
            "bin_end": 0.08347653225134737,
            "count": 2
           },
           {
            "bin_start": 0.08347653225134737,
            "bin_end": 0.1250948903381863,
            "count": 0
           },
           {
            "bin_start": 0.1250948903381863,
            "bin_end": 0.16671324842502525,
            "count": 1
           },
           {
            "bin_start": 0.16671324842502525,
            "bin_end": 0.2083316065118642,
            "count": 0
           },
           {
            "bin_start": 0.2083316065118642,
            "bin_end": 0.2499499645987031,
            "count": 0
           },
           {
            "bin_start": 0.2499499645987031,
            "bin_end": 0.291568322685542,
            "count": 0
           },
           {
            "bin_start": 0.291568322685542,
            "bin_end": 0.33318668077238095,
            "count": 0
           },
           {
            "bin_start": 0.33318668077238095,
            "bin_end": 0.3748050388592199,
            "count": 0
           },
           {
            "bin_start": 0.3748050388592199,
            "bin_end": 0.4164233969460588,
            "count": 2
           }
          ]
         }
        },
        {
         "name": "NIA",
         "dtype": "float64",
         "stats": {
          "unique_count": 76,
          "nan_count": 0,
          "min": "0.0003303873792021",
          "max": "0.0113667117726657",
          "histogram": [
           {
            "bin_start": 0.0003303873792021,
            "bin_end": 0.00143401981854846,
            "count": 58
           },
           {
            "bin_start": 0.00143401981854846,
            "bin_end": 0.00253765225789482,
            "count": 11
           },
           {
            "bin_start": 0.00253765225789482,
            "bin_end": 0.0036412846972411804,
            "count": 3
           },
           {
            "bin_start": 0.0036412846972411804,
            "bin_end": 0.00474491713658754,
            "count": 0
           },
           {
            "bin_start": 0.00474491713658754,
            "bin_end": 0.0058485495759339,
            "count": 1
           },
           {
            "bin_start": 0.0058485495759339,
            "bin_end": 0.006952182015280261,
            "count": 0
           },
           {
            "bin_start": 0.006952182015280261,
            "bin_end": 0.00805581445462662,
            "count": 0
           },
           {
            "bin_start": 0.00805581445462662,
            "bin_end": 0.00915944689397298,
            "count": 0
           },
           {
            "bin_start": 0.00915944689397298,
            "bin_end": 0.01026307933331934,
            "count": 0
           },
           {
            "bin_start": 0.01026307933331934,
            "bin_end": 0.0113667117726657,
            "count": 3
           }
          ]
         }
        },
        {
         "name": "Mean Jerk",
         "dtype": "float64",
         "stats": {
          "unique_count": 76,
          "nan_count": 0,
          "min": "3.4064052872000488e-06",
          "max": "0.1330525149855995",
          "histogram": [
           {
            "bin_start": 0.0000034064052872000488,
            "bin_end": 0.01330831726331843,
            "count": 73
           },
           {
            "bin_start": 0.01330831726331843,
            "bin_end": 0.02661322812134966,
            "count": 0
           },
           {
            "bin_start": 0.02661322812134966,
            "bin_end": 0.03991813897938088,
            "count": 0
           },
           {
            "bin_start": 0.03991813897938088,
            "bin_end": 0.05322304983741211,
            "count": 0
           },
           {
            "bin_start": 0.05322304983741211,
            "bin_end": 0.06652796069544335,
            "count": 1
           },
           {
            "bin_start": 0.06652796069544335,
            "bin_end": 0.07983287155347457,
            "count": 0
           },
           {
            "bin_start": 0.07983287155347457,
            "bin_end": 0.0931377824115058,
            "count": 0
           },
           {
            "bin_start": 0.0931377824115058,
            "bin_end": 0.10644269326953704,
            "count": 0
           },
           {
            "bin_start": 0.10644269326953704,
            "bin_end": 0.11974760412756827,
            "count": 0
           },
           {
            "bin_start": 0.11974760412756827,
            "bin_end": 0.1330525149855995,
            "count": 2
           }
          ]
         }
        },
        {
         "name": "Max Jerk",
         "dtype": "float64",
         "stats": {
          "unique_count": 76,
          "nan_count": 0,
          "min": "8.853772042313954e-06",
          "max": "0.9994131149279842",
          "histogram": [
           {
            "bin_start": 0.000008853772042313954,
            "bin_end": 0.09994927988763651,
            "count": 72
           },
           {
            "bin_start": 0.09994927988763651,
            "bin_end": 0.19988970600323072,
            "count": 1
           },
           {
            "bin_start": 0.19988970600323072,
            "bin_end": 0.2998301321188249,
            "count": 1
           },
           {
            "bin_start": 0.2998301321188249,
            "bin_end": 0.3997705582344191,
            "count": 0
           },
           {
            "bin_start": 0.3997705582344191,
            "bin_end": 0.49971098435001327,
            "count": 0
           },
           {
            "bin_start": 0.49971098435001327,
            "bin_end": 0.5996514104656075,
            "count": 1
           },
           {
            "bin_start": 0.5996514104656075,
            "bin_end": 0.6995918365812017,
            "count": 0
           },
           {
            "bin_start": 0.6995918365812017,
            "bin_end": 0.7995322626967959,
            "count": 0
           },
           {
            "bin_start": 0.7995322626967959,
            "bin_end": 0.8994726888123901,
            "count": 0
           },
           {
            "bin_start": 0.8994726888123901,
            "bin_end": 0.9994131149279842,
            "count": 1
           }
          ]
         }
        },
        {
         "name": "Jerk Std",
         "dtype": "float64",
         "stats": {
          "unique_count": 76,
          "nan_count": 0,
          "min": "1.7717003784577622e-06",
          "max": "0.1377734329803398",
          "histogram": [
           {
            "bin_start": 0.0000017717003784577622,
            "bin_end": 0.013778937828374593,
            "count": 73
           },
           {
            "bin_start": 0.013778937828374593,
            "bin_end": 0.027556103956370728,
            "count": 0
           },
           {
            "bin_start": 0.027556103956370728,
            "bin_end": 0.041333270084366866,
            "count": 0
           },
           {
            "bin_start": 0.041333270084366866,
            "bin_end": 0.055110436212363,
            "count": 1
           },
           {
            "bin_start": 0.055110436212363,
            "bin_end": 0.06888760234035914,
            "count": 0
           },
           {
            "bin_start": 0.06888760234035914,
            "bin_end": 0.08266476846835527,
            "count": 0
           },
           {
            "bin_start": 0.08266476846835527,
            "bin_end": 0.0964419345963514,
            "count": 0
           },
           {
            "bin_start": 0.0964419345963514,
            "bin_end": 0.11021910072434754,
            "count": 1
           },
           {
            "bin_start": 0.11021910072434754,
            "bin_end": 0.12399626685234368,
            "count": 0
           },
           {
            "bin_start": 0.12399626685234368,
            "bin_end": 0.1377734329803398,
            "count": 1
           }
          ]
         }
        },
        {
         "name": "NIJ",
         "dtype": "float64",
         "stats": {
          "unique_count": 76,
          "nan_count": 0,
          "min": "0.0005781779136037",
          "max": "0.0132611637347767",
          "histogram": [
           {
            "bin_start": 0.0005781779136037,
            "bin_end": 0.001846476495721,
            "count": 42
           },
           {
            "bin_start": 0.001846476495721,
            "bin_end": 0.0031147750778383002,
            "count": 25
           },
           {
            "bin_start": 0.0031147750778383002,
            "bin_end": 0.0043830736599556,
            "count": 4
           },
           {
            "bin_start": 0.0043830736599556,
            "bin_end": 0.0056513722420729,
            "count": 2
           },
           {
            "bin_start": 0.0056513722420729,
            "bin_end": 0.0069196708241902,
            "count": 0
           },
           {
            "bin_start": 0.0069196708241902,
            "bin_end": 0.008187969406307501,
            "count": 0
           },
           {
            "bin_start": 0.008187969406307501,
            "bin_end": 0.009456267988424801,
            "count": 0
           },
           {
            "bin_start": 0.009456267988424801,
            "bin_end": 0.010724566570542101,
            "count": 0
           },
           {
            "bin_start": 0.010724566570542101,
            "bin_end": 0.011992865152659401,
            "count": 1
           },
           {
            "bin_start": 0.011992865152659401,
            "bin_end": 0.0132611637347767,
            "count": 2
           }
          ]
         }
        },
        {
         "name": "Duration",
         "dtype": "int64",
         "stats": {
          "unique_count": 76,
          "nan_count": 0,
          "min": "3695",
          "max": "103445",
          "histogram": [
           {
            "bin_start": 3695,
            "bin_end": 13670,
            "count": 24
           },
           {
            "bin_start": 13670,
            "bin_end": 23645,
            "count": 23
           },
           {
            "bin_start": 23645,
            "bin_end": 33620,
            "count": 14
           },
           {
            "bin_start": 33620,
            "bin_end": 43595,
            "count": 9
           },
           {
            "bin_start": 43595,
            "bin_end": 53570,
            "count": 3
           },
           {
            "bin_start": 53570,
            "bin_end": 63545,
            "count": 1
           },
           {
            "bin_start": 63545,
            "bin_end": 73520,
            "count": 0
           },
           {
            "bin_start": 73520,
            "bin_end": 83495,
            "count": 0
           },
           {
            "bin_start": 83495,
            "bin_end": 93470,
            "count": 1
           },
           {
            "bin_start": 93470,
            "bin_end": 103445,
            "count": 1
           }
          ]
         }
        },
        {
         "name": "NIC",
         "dtype": "float64",
         "stats": {
          "unique_count": 76,
          "nan_count": 0,
          "min": "0.0001160036734496",
          "max": "0.0049481621112158",
          "histogram": [
           {
            "bin_start": 0.0001160036734496,
            "bin_end": 0.00059921951722622,
            "count": 55
           },
           {
            "bin_start": 0.00059921951722622,
            "bin_end": 0.0010824353610028401,
            "count": 16
           },
           {
            "bin_start": 0.0010824353610028401,
            "bin_end": 0.00156565120477946,
            "count": 1
           },
           {
            "bin_start": 0.00156565120477946,
            "bin_end": 0.00204886704855608,
            "count": 3
           },
           {
            "bin_start": 0.00204886704855608,
            "bin_end": 0.0025320828923327,
            "count": 0
           },
           {
            "bin_start": 0.0025320828923327,
            "bin_end": 0.00301529873610932,
            "count": 0
           },
           {
            "bin_start": 0.00301529873610932,
            "bin_end": 0.00349851457988594,
            "count": 0
           },
           {
            "bin_start": 0.00349851457988594,
            "bin_end": 0.00398173042366256,
            "count": 0
           },
           {
            "bin_start": 0.00398173042366256,
            "bin_end": 0.00446494626743918,
            "count": 0
           },
           {
            "bin_start": 0.00446494626743918,
            "bin_end": 0.0049481621112158,
            "count": 1
           }
          ]
         }
        },
        {
         "name": "Mean Pressure",
         "dtype": "float64",
         "stats": {
          "unique_count": 76,
          "nan_count": 0,
          "min": "319.5576662143826",
          "max": "956.6998083373264",
          "histogram": [
           {
            "bin_start": 319.5576662143826,
            "bin_end": 383.271880426677,
            "count": 3
           },
           {
            "bin_start": 383.271880426677,
            "bin_end": 446.9860946389714,
            "count": 5
           },
           {
            "bin_start": 446.9860946389714,
            "bin_end": 510.70030885126573,
            "count": 5
           },
           {
            "bin_start": 510.70030885126573,
            "bin_end": 574.4145230635602,
            "count": 4
           },
           {
            "bin_start": 574.4145230635602,
            "bin_end": 638.1287372758545,
            "count": 15
           },
           {
            "bin_start": 638.1287372758545,
            "bin_end": 701.8429514881489,
            "count": 11
           },
           {
            "bin_start": 701.8429514881489,
            "bin_end": 765.5571657004432,
            "count": 12
           },
           {
            "bin_start": 765.5571657004432,
            "bin_end": 829.2713799127376,
            "count": 7
           },
           {
            "bin_start": 829.2713799127376,
            "bin_end": 892.985594125032,
            "count": 7
           },
           {
            "bin_start": 892.985594125032,
            "bin_end": 956.6998083373264,
            "count": 7
           }
          ]
         }
        },
        {
         "name": "Max Pressure",
         "dtype": "int64",
         "stats": {
          "unique_count": 67,
          "nan_count": 0,
          "min": "416",
          "max": "1023",
          "histogram": [
           {
            "bin_start": 416,
            "bin_end": 476.7,
            "count": 3
           },
           {
            "bin_start": 476.7,
            "bin_end": 537.4,
            "count": 3
           },
           {
            "bin_start": 537.4,
            "bin_end": 598.1,
            "count": 3
           },
           {
            "bin_start": 598.1,
            "bin_end": 658.8,
            "count": 7
           },
           {
            "bin_start": 658.8,
            "bin_end": 719.5,
            "count": 8
           },
           {
            "bin_start": 719.5,
            "bin_end": 780.2,
            "count": 10
           },
           {
            "bin_start": 780.2,
            "bin_end": 840.9000000000001,
            "count": 10
           },
           {
            "bin_start": 840.9000000000001,
            "bin_end": 901.6,
            "count": 10
           },
           {
            "bin_start": 901.6,
            "bin_end": 962.3000000000001,
            "count": 13
           },
           {
            "bin_start": 962.3000000000001,
            "bin_end": 1023,
            "count": 9
           }
          ]
         }
        },
        {
         "name": "Pressure Std",
         "dtype": "float64",
         "stats": {
          "unique_count": 76,
          "nan_count": 0,
          "min": "42.278467141352806",
          "max": "166.7956720640007",
          "histogram": [
           {
            "bin_start": 42.278467141352806,
            "bin_end": 54.7301876336176,
            "count": 3
           },
           {
            "bin_start": 54.7301876336176,
            "bin_end": 67.18190812588239,
            "count": 9
           },
           {
            "bin_start": 67.18190812588239,
            "bin_end": 79.63362861814718,
            "count": 3
           },
           {
            "bin_start": 79.63362861814718,
            "bin_end": 92.08534911041197,
            "count": 6
           },
           {
            "bin_start": 92.08534911041197,
            "bin_end": 104.53706960267675,
            "count": 9
           },
           {
            "bin_start": 104.53706960267675,
            "bin_end": 116.98879009494155,
            "count": 13
           },
           {
            "bin_start": 116.98879009494155,
            "bin_end": 129.44051058720635,
            "count": 18
           },
           {
            "bin_start": 129.44051058720635,
            "bin_end": 141.89223107947112,
            "count": 7
           },
           {
            "bin_start": 141.89223107947112,
            "bin_end": 154.34395157173594,
            "count": 4
           },
           {
            "bin_start": 154.34395157173594,
            "bin_end": 166.7956720640007,
            "count": 4
           }
          ]
         }
        },
        {
         "name": "Rate of Inversion in Pressure",
         "dtype": "float64",
         "stats": {
          "unique_count": 76,
          "nan_count": 0,
          "min": "0.0043463908450704",
          "max": "0.0423676651620845",
          "histogram": [
           {
            "bin_start": 0.0043463908450704,
            "bin_end": 0.00814851827677181,
            "count": 6
           },
           {
            "bin_start": 0.00814851827677181,
            "bin_end": 0.01195064570847322,
            "count": 2
           },
           {
            "bin_start": 0.01195064570847322,
            "bin_end": 0.01575277314017463,
            "count": 5
           },
           {
            "bin_start": 0.01575277314017463,
            "bin_end": 0.01955490057187604,
            "count": 12
           },
           {
            "bin_start": 0.01955490057187604,
            "bin_end": 0.02335702800357745,
            "count": 18
           },
           {
            "bin_start": 0.02335702800357745,
            "bin_end": 0.02715915543527886,
            "count": 6
           },
           {
            "bin_start": 0.02715915543527886,
            "bin_end": 0.03096128286698027,
            "count": 5
           },
           {
            "bin_start": 0.03096128286698027,
            "bin_end": 0.03476341029868168,
            "count": 11
           },
           {
            "bin_start": 0.03476341029868168,
            "bin_end": 0.03856553773038309,
            "count": 7
           },
           {
            "bin_start": 0.03856553773038309,
            "bin_end": 0.0423676651620845,
            "count": 4
           }
          ]
         }
        },
        {
         "name": "X Entropy",
         "dtype": "float64",
         "stats": {
          "unique_count": 76,
          "nan_count": 0,
          "min": "13.737205687932056",
          "max": "285.0448873629172",
          "histogram": [
           {
            "bin_start": 13.737205687932056,
            "bin_end": 40.86797385543058,
            "count": 20
           },
           {
            "bin_start": 40.86797385543058,
            "bin_end": 67.9987420229291,
            "count": 26
           },
           {
            "bin_start": 67.9987420229291,
            "bin_end": 95.12951019042762,
            "count": 13
           },
           {
            "bin_start": 95.12951019042762,
            "bin_end": 122.26027835792614,
            "count": 5
           },
           {
            "bin_start": 122.26027835792614,
            "bin_end": 149.39104652542466,
            "count": 6
           },
           {
            "bin_start": 149.39104652542466,
            "bin_end": 176.5218146929232,
            "count": 4
           },
           {
            "bin_start": 176.5218146929232,
            "bin_end": 203.6525828604217,
            "count": 0
           },
           {
            "bin_start": 203.6525828604217,
            "bin_end": 230.78335102792022,
            "count": 0
           },
           {
            "bin_start": 230.78335102792022,
            "bin_end": 257.9141191954187,
            "count": 0
           },
           {
            "bin_start": 257.9141191954187,
            "bin_end": 285.0448873629172,
            "count": 2
           }
          ]
         }
        },
        {
         "name": "Y Entropy",
         "dtype": "float64",
         "stats": {
          "unique_count": 76,
          "nan_count": 0,
          "min": "14.992075170724462",
          "max": "329.5469600476162",
          "histogram": [
           {
            "bin_start": 14.992075170724462,
            "bin_end": 46.447563658413635,
            "count": 17
           },
           {
            "bin_start": 46.447563658413635,
            "bin_end": 77.90305214610281,
            "count": 29
           },
           {
            "bin_start": 77.90305214610281,
            "bin_end": 109.35854063379199,
            "count": 12
           },
           {
            "bin_start": 109.35854063379199,
            "bin_end": 140.81402912148116,
            "count": 7
           },
           {
            "bin_start": 140.81402912148116,
            "bin_end": 172.26951760917032,
            "count": 6
           },
           {
            "bin_start": 172.26951760917032,
            "bin_end": 203.72500609685952,
            "count": 3
           },
           {
            "bin_start": 203.72500609685952,
            "bin_end": 235.18049458454868,
            "count": 0
           },
           {
            "bin_start": 235.18049458454868,
            "bin_end": 266.6359830722379,
            "count": 0
           },
           {
            "bin_start": 266.6359830722379,
            "bin_end": 298.0914715599271,
            "count": 1
           },
           {
            "bin_start": 298.0914715599271,
            "bin_end": 329.5469600476162,
            "count": 1
           }
          ]
         }
        },
        {
         "name": "X Skewness",
         "dtype": "float64",
         "stats": {
          "unique_count": 76,
          "nan_count": 0,
          "min": "-0.2515850110920932",
          "max": "0.5714393117595659",
          "histogram": [
           {
            "bin_start": -0.2515850110920932,
            "bin_end": -0.1692825788069273,
            "count": 1
           },
           {
            "bin_start": -0.1692825788069273,
            "bin_end": -0.08698014652176139,
            "count": 0
           },
           {
            "bin_start": -0.08698014652176139,
            "bin_end": -0.004677714236595493,
            "count": 2
           },
           {
            "bin_start": -0.004677714236595493,
            "bin_end": 0.0776247180485704,
            "count": 8
           },
           {
            "bin_start": 0.0776247180485704,
            "bin_end": 0.15992715033373628,
            "count": 27
           },
           {
            "bin_start": 0.15992715033373628,
            "bin_end": 0.2422295826189022,
            "count": 23
           },
           {
            "bin_start": 0.2422295826189022,
            "bin_end": 0.32453201490406813,
            "count": 12
           },
           {
            "bin_start": 0.32453201490406813,
            "bin_end": 0.406834447189234,
            "count": 0
           },
           {
            "bin_start": 0.406834447189234,
            "bin_end": 0.4891368794743999,
            "count": 1
           },
           {
            "bin_start": 0.4891368794743999,
            "bin_end": 0.5714393117595659,
            "count": 2
           }
          ]
         }
        },
        {
         "name": "Y Skewness",
         "dtype": "float64",
         "stats": {
          "unique_count": 76,
          "nan_count": 0,
          "min": "-0.2933103108253273",
          "max": "0.525073855726762",
          "histogram": [
           {
            "bin_start": -0.2933103108253273,
            "bin_end": -0.21147189417011839,
            "count": 1
           },
           {
            "bin_start": -0.21147189417011839,
            "bin_end": -0.12963347751490945,
            "count": 5
           },
           {
            "bin_start": -0.12963347751490945,
            "bin_end": -0.047795060859700506,
            "count": 13
           },
           {
            "bin_start": -0.047795060859700506,
            "bin_end": 0.034043355795508434,
            "count": 20
           },
           {
            "bin_start": 0.034043355795508434,
            "bin_end": 0.1158817724507174,
            "count": 27
           },
           {
            "bin_start": 0.1158817724507174,
            "bin_end": 0.19772018910592631,
            "count": 6
           },
           {
            "bin_start": 0.19772018910592631,
            "bin_end": 0.2795586057611352,
            "count": 2
           },
           {
            "bin_start": 0.2795586057611352,
            "bin_end": 0.3613970224163442,
            "count": 0
           },
           {
            "bin_start": 0.3613970224163442,
            "bin_end": 0.44323543907155316,
            "count": 0
           },
           {
            "bin_start": 0.44323543907155316,
            "bin_end": 0.525073855726762,
            "count": 2
           }
          ]
         }
        },
        {
         "name": "X Kurtosis",
         "dtype": "float64",
         "stats": {
          "unique_count": 76,
          "nan_count": 0,
          "min": "-0.9915220357665148",
          "max": "0.2517595208620951",
          "histogram": [
           {
            "bin_start": -0.9915220357665148,
            "bin_end": -0.8671938801036537,
            "count": 11
           },
           {
            "bin_start": -0.8671938801036537,
            "bin_end": -0.7428657244407928,
            "count": 15
           },
           {
            "bin_start": -0.7428657244407928,
            "bin_end": -0.6185375687779318,
            "count": 20
           },
           {
            "bin_start": -0.6185375687779318,
            "bin_end": -0.4942094131150708,
            "count": 16
           },
           {
            "bin_start": -0.4942094131150708,
            "bin_end": -0.3698812574522098,
            "count": 7
           },
           {
            "bin_start": -0.3698812574522098,
            "bin_end": -0.24555310178934875,
            "count": 4
           },
           {
            "bin_start": -0.24555310178934875,
            "bin_end": -0.12122494612648782,
            "count": 1
           },
           {
            "bin_start": -0.12122494612648782,
            "bin_end": 0.0031032095363732193,
            "count": 1
           },
           {
            "bin_start": 0.0031032095363732193,
            "bin_end": 0.12743136519923415,
            "count": 0
           },
           {
            "bin_start": 0.12743136519923415,
            "bin_end": 0.2517595208620951,
            "count": 1
           }
          ]
         }
        },
        {
         "name": "Y Kurtosis",
         "dtype": "float64",
         "stats": {
          "unique_count": 76,
          "nan_count": 0,
          "min": "-1.1978618905024856",
          "max": "-0.0505312114689933",
          "histogram": [
           {
            "bin_start": -1.1978618905024856,
            "bin_end": -1.0831288225991365,
            "count": 2
           },
           {
            "bin_start": -1.0831288225991365,
            "bin_end": -0.9683957546957871,
            "count": 4
           },
           {
            "bin_start": -0.9683957546957871,
            "bin_end": -0.853662686792438,
            "count": 15
           },
           {
            "bin_start": -0.853662686792438,
            "bin_end": -0.7389296188890887,
            "count": 13
           },
           {
            "bin_start": -0.7389296188890887,
            "bin_end": -0.6241965509857395,
            "count": 20
           },
           {
            "bin_start": -0.6241965509857395,
            "bin_end": -0.5094634830823903,
            "count": 10
           },
           {
            "bin_start": -0.5094634830823903,
            "bin_end": -0.39473041517904106,
            "count": 7
           },
           {
            "bin_start": -0.39473041517904106,
            "bin_end": -0.2799973472756918,
            "count": 4
           },
           {
            "bin_start": -0.2799973472756918,
            "bin_end": -0.16526427937234267,
            "count": 0
           },
           {
            "bin_start": -0.16526427937234267,
            "bin_end": -0.0505312114689933,
            "count": 1
           }
          ]
         }
        },
        {
         "name": "Vel Skewness",
         "dtype": "float64",
         "stats": {
          "unique_count": 76,
          "nan_count": 0,
          "min": "-1.2989470210566236",
          "max": "7.6521505735098",
          "histogram": [
           {
            "bin_start": -1.2989470210566236,
            "bin_end": -0.40383726159998123,
            "count": 12
           },
           {
            "bin_start": -0.40383726159998123,
            "bin_end": 0.49127249785666116,
            "count": 40
           },
           {
            "bin_start": 0.49127249785666116,
            "bin_end": 1.3863822573133038,
            "count": 20
           },
           {
            "bin_start": 1.3863822573133038,
            "bin_end": 2.281492016769946,
            "count": 3
           },
           {
            "bin_start": 2.281492016769946,
            "bin_end": 3.176601776226588,
            "count": 0
           },
           {
            "bin_start": 3.176601776226588,
            "bin_end": 4.071711535683232,
            "count": 0
           },
           {
            "bin_start": 4.071711535683232,
            "bin_end": 4.966821295139873,
            "count": 0
           },
           {
            "bin_start": 4.966821295139873,
            "bin_end": 5.861931054596516,
            "count": 0
           },
           {
            "bin_start": 5.861931054596516,
            "bin_end": 6.757040814053159,
            "count": 0
           },
           {
            "bin_start": 6.757040814053159,
            "bin_end": 7.6521505735098,
            "count": 1
           }
          ]
         }
        },
        {
         "name": "Vel Kurtosis",
         "dtype": "float64",
         "stats": {
          "unique_count": 76,
          "nan_count": 0,
          "min": "-1.2617189594109075",
          "max": "85.08647381292556",
          "histogram": [
           {
            "bin_start": -1.2617189594109075,
            "bin_end": 7.373100317822741,
            "count": 74
           },
           {
            "bin_start": 7.373100317822741,
            "bin_end": 16.00791959505639,
            "count": 0
           },
           {
            "bin_start": 16.00791959505639,
            "bin_end": 24.64273887229004,
            "count": 1
           },
           {
            "bin_start": 24.64273887229004,
            "bin_end": 33.277558149523685,
            "count": 0
           },
           {
            "bin_start": 33.277558149523685,
            "bin_end": 41.91237742675733,
            "count": 0
           },
           {
            "bin_start": 41.91237742675733,
            "bin_end": 50.547196703990984,
            "count": 0
           },
           {
            "bin_start": 50.547196703990984,
            "bin_end": 59.18201598122463,
            "count": 0
           },
           {
            "bin_start": 59.18201598122463,
            "bin_end": 67.81683525845827,
            "count": 0
           },
           {
            "bin_start": 67.81683525845827,
            "bin_end": 76.45165453569192,
            "count": 0
           },
           {
            "bin_start": 76.45165453569192,
            "bin_end": 85.08647381292556,
            "count": 1
           }
          ]
         }
        },
        {
         "name": "Accel Skewness",
         "dtype": "float64",
         "stats": {
          "unique_count": 76,
          "nan_count": 0,
          "min": "-0.8107167980548835",
          "max": "12.68605723374493",
          "histogram": [
           {
            "bin_start": -0.8107167980548835,
            "bin_end": 0.5389606051250979,
            "count": 29
           },
           {
            "bin_start": 0.5389606051250979,
            "bin_end": 1.8886380083050793,
            "count": 38
           },
           {
            "bin_start": 1.8886380083050793,
            "bin_end": 3.2383154114850603,
            "count": 7
           },
           {
            "bin_start": 3.2383154114850603,
            "bin_end": 4.587992814665042,
            "count": 0
           },
           {
            "bin_start": 4.587992814665042,
            "bin_end": 5.937670217845024,
            "count": 0
           },
           {
            "bin_start": 5.937670217845024,
            "bin_end": 7.287347621025004,
            "count": 0
           },
           {
            "bin_start": 7.287347621025004,
            "bin_end": 8.637025024204986,
            "count": 0
           },
           {
            "bin_start": 8.637025024204986,
            "bin_end": 9.986702427384968,
            "count": 1
           },
           {
            "bin_start": 9.986702427384968,
            "bin_end": 11.33637983056495,
            "count": 0
           },
           {
            "bin_start": 11.33637983056495,
            "bin_end": 12.68605723374493,
            "count": 1
           }
          ]
         }
        },
        {
         "name": "Accel Kurtosis",
         "dtype": "float64",
         "stats": {
          "unique_count": 76,
          "nan_count": 0,
          "min": "-1.4709046088535345",
          "max": "194.82827979187763",
          "histogram": [
           {
            "bin_start": -1.4709046088535345,
            "bin_end": 18.159013831219585,
            "count": 74
           },
           {
            "bin_start": 18.159013831219585,
            "bin_end": 37.7889322712927,
            "count": 0
           },
           {
            "bin_start": 37.7889322712927,
            "bin_end": 57.41885071136582,
            "count": 0
           },
           {
            "bin_start": 57.41885071136582,
            "bin_end": 77.04876915143895,
            "count": 0
           },
           {
            "bin_start": 77.04876915143895,
            "bin_end": 96.67868759151206,
            "count": 0
           },
           {
            "bin_start": 96.67868759151206,
            "bin_end": 116.30860603158519,
            "count": 1
           },
           {
            "bin_start": 116.30860603158519,
            "bin_end": 135.9385244716583,
            "count": 0
           },
           {
            "bin_start": 135.9385244716583,
            "bin_end": 155.5684429117314,
            "count": 0
           },
           {
            "bin_start": 155.5684429117314,
            "bin_end": 175.19836135180452,
            "count": 0
           },
           {
            "bin_start": 175.19836135180452,
            "bin_end": 194.82827979187763,
            "count": 1
           }
          ]
         }
        },
        {
         "name": "Jerk Skewness",
         "dtype": "float64",
         "stats": {
          "unique_count": 76,
          "nan_count": 0,
          "min": "-0.2402322118259126",
          "max": "15.243646741240568",
          "histogram": [
           {
            "bin_start": -0.2402322118259126,
            "bin_end": 1.3081556834807353,
            "count": 40
           },
           {
            "bin_start": 1.3081556834807353,
            "bin_end": 2.856543578787383,
            "count": 29
           },
           {
            "bin_start": 2.856543578787383,
            "bin_end": 4.404931474094031,
            "count": 5
           },
           {
            "bin_start": 4.404931474094031,
            "bin_end": 5.953319369400679,
            "count": 0
           },
           {
            "bin_start": 5.953319369400679,
            "bin_end": 7.501707264707328,
            "count": 0
           },
           {
            "bin_start": 7.501707264707328,
            "bin_end": 9.050095160013974,
            "count": 0
           },
           {
            "bin_start": 9.050095160013974,
            "bin_end": 10.598483055320623,
            "count": 0
           },
           {
            "bin_start": 10.598483055320623,
            "bin_end": 12.146870950627271,
            "count": 0
           },
           {
            "bin_start": 12.146870950627271,
            "bin_end": 13.69525884593392,
            "count": 0
           },
           {
            "bin_start": 13.69525884593392,
            "bin_end": 15.243646741240568,
            "count": 2
           }
          ]
         }
        },
        {
         "name": "Jerk Kurtosis",
         "dtype": "float64",
         "stats": {
          "unique_count": 76,
          "nan_count": 0,
          "min": "-0.998865837905028",
          "max": "272.0977224825145",
          "histogram": [
           {
            "bin_start": -0.998865837905028,
            "bin_end": 26.310792994136925,
            "count": 74
           },
           {
            "bin_start": 26.310792994136925,
            "bin_end": 53.62045182617888,
            "count": 0
           },
           {
            "bin_start": 53.62045182617888,
            "bin_end": 80.93011065822084,
            "count": 0
           },
           {
            "bin_start": 80.93011065822084,
            "bin_end": 108.23976949026279,
            "count": 0
           },
           {
            "bin_start": 108.23976949026279,
            "bin_end": 135.54942832230475,
            "count": 0
           },
           {
            "bin_start": 135.54942832230475,
            "bin_end": 162.85908715434672,
            "count": 0
           },
           {
            "bin_start": 162.85908715434672,
            "bin_end": 190.16874598638867,
            "count": 0
           },
           {
            "bin_start": 190.16874598638867,
            "bin_end": 217.47840481843062,
            "count": 0
           },
           {
            "bin_start": 217.47840481843062,
            "bin_end": 244.78806365047257,
            "count": 1
           },
           {
            "bin_start": 244.78806365047257,
            "bin_end": 272.0977224825145,
            "count": 1
           }
          ]
         }
        },
        {
         "name": "Pressure Skewness",
         "dtype": "float64",
         "stats": {
          "unique_count": 76,
          "nan_count": 0,
          "min": "-6.862413158719722",
          "max": "-0.3131588229387472",
          "histogram": [
           {
            "bin_start": -6.862413158719722,
            "bin_end": -6.2074877251416245,
            "count": 3
           },
           {
            "bin_start": -6.2074877251416245,
            "bin_end": -5.552562291563527,
            "count": 1
           },
           {
            "bin_start": -5.552562291563527,
            "bin_end": -4.897636857985429,
            "count": 0
           },
           {
            "bin_start": -4.897636857985429,
            "bin_end": -4.242711424407332,
            "count": 1
           },
           {
            "bin_start": -4.242711424407332,
            "bin_end": -3.5877859908292344,
            "count": 5
           },
           {
            "bin_start": -3.5877859908292344,
            "bin_end": -2.9328605572511366,
            "count": 14
           },
           {
            "bin_start": -2.9328605572511366,
            "bin_end": -2.277935123673039,
            "count": 17
           },
           {
            "bin_start": -2.277935123673039,
            "bin_end": -1.6230096900949418,
            "count": 17
           },
           {
            "bin_start": -1.6230096900949418,
            "bin_end": -0.9680842565168444,
            "count": 14
           },
           {
            "bin_start": -0.9680842565168444,
            "bin_end": -0.3131588229387472,
            "count": 4
           }
          ]
         }
        },
        {
         "name": "Pressure Kurtosis",
         "dtype": "float64",
         "stats": {
          "unique_count": 76,
          "nan_count": 0,
          "min": "-0.7246366931054911",
          "max": "78.92476206239672",
          "histogram": [
           {
            "bin_start": -0.7246366931054911,
            "bin_end": 7.24030318244473,
            "count": 38
           },
           {
            "bin_start": 7.24030318244473,
            "bin_end": 15.205243057994952,
            "count": 21
           },
           {
            "bin_start": 15.205243057994952,
            "bin_end": 23.170182933545174,
            "count": 10
           },
           {
            "bin_start": 23.170182933545174,
            "bin_end": 31.135122809095396,
            "count": 2
           },
           {
            "bin_start": 31.135122809095396,
            "bin_end": 39.10006268464562,
            "count": 0
           },
           {
            "bin_start": 39.10006268464562,
            "bin_end": 47.06500256019584,
            "count": 1
           },
           {
            "bin_start": 47.06500256019584,
            "bin_end": 55.029942435746065,
            "count": 2
           },
           {
            "bin_start": 55.029942435746065,
            "bin_end": 62.99488231129629,
            "count": 0
           },
           {
            "bin_start": 62.99488231129629,
            "bin_end": 70.9598221868465,
            "count": 1
           },
           {
            "bin_start": 70.9598221868465,
            "bin_end": 78.92476206239672,
            "count": 1
           }
          ]
         }
        },
        {
         "name": "Curvature Skewness",
         "dtype": "float64",
         "stats": {
          "unique_count": 76,
          "nan_count": 0,
          "min": "-27.1436179257872",
          "max": "27.96653764302582",
          "histogram": [
           {
            "bin_start": -27.1436179257872,
            "bin_end": -21.6326023689059,
            "count": 1
           },
           {
            "bin_start": -21.6326023689059,
            "bin_end": -16.121586812024596,
            "count": 0
           },
           {
            "bin_start": -16.121586812024596,
            "bin_end": -10.610571255143295,
            "count": 0
           },
           {
            "bin_start": -10.610571255143295,
            "bin_end": -5.099555698261991,
            "count": 4
           },
           {
            "bin_start": -5.099555698261991,
            "bin_end": 0.4114598586193132,
            "count": 67
           },
           {
            "bin_start": 0.4114598586193132,
            "bin_end": 5.92247541550061,
            "count": 2
           },
           {
            "bin_start": 5.92247541550061,
            "bin_end": 11.433490972381914,
            "count": 0
           },
           {
            "bin_start": 11.433490972381914,
            "bin_end": 16.94450652926322,
            "count": 0
           },
           {
            "bin_start": 16.94450652926322,
            "bin_end": 22.455522086144523,
            "count": 1
           },
           {
            "bin_start": 22.455522086144523,
            "bin_end": 27.96653764302582,
            "count": 1
           }
          ]
         }
        },
        {
         "name": "Curvature Kurtosis",
         "dtype": "float64",
         "stats": {
          "unique_count": 76,
          "nan_count": 0,
          "min": "0.8784966759783348",
          "max": "806.7659377098739",
          "histogram": [
           {
            "bin_start": 0.8784966759783348,
            "bin_end": 81.4672407793679,
            "count": 72
           },
           {
            "bin_start": 81.4672407793679,
            "bin_end": 162.05598488275746,
            "count": 1
           },
           {
            "bin_start": 162.05598488275746,
            "bin_end": 242.64472898614702,
            "count": 0
           },
           {
            "bin_start": 242.64472898614702,
            "bin_end": 323.2334730895366,
            "count": 0
           },
           {
            "bin_start": 323.2334730895366,
            "bin_end": 403.82221719292613,
            "count": 0
           },
           {
            "bin_start": 403.82221719292613,
            "bin_end": 484.4109612963157,
            "count": 1
           },
           {
            "bin_start": 484.4109612963157,
            "bin_end": 564.9997053997052,
            "count": 0
           },
           {
            "bin_start": 564.9997053997052,
            "bin_end": 645.5884495030948,
            "count": 0
           },
           {
            "bin_start": 645.5884495030948,
            "bin_end": 726.1771936064844,
            "count": 0
           },
           {
            "bin_start": 726.1771936064844,
            "bin_end": 806.7659377098739,
            "count": 2
           }
          ]
         }
        },
        {
         "name": "Pressure High Freq",
         "dtype": "float64",
         "stats": {
          "unique_count": 76,
          "nan_count": 0,
          "min": "0.0101850839210604",
          "max": "0.1563881880504217",
          "histogram": [
           {
            "bin_start": 0.0101850839210604,
            "bin_end": 0.024805394333996533,
            "count": 33
           },
           {
            "bin_start": 0.024805394333996533,
            "bin_end": 0.03942570474693266,
            "count": 25
           },
           {
            "bin_start": 0.03942570474693266,
            "bin_end": 0.054046015159868795,
            "count": 7
           },
           {
            "bin_start": 0.054046015159868795,
            "bin_end": 0.06866632557280493,
            "count": 2
           },
           {
            "bin_start": 0.06866632557280493,
            "bin_end": 0.08328663598574106,
            "count": 4
           },
           {
            "bin_start": 0.08328663598574106,
            "bin_end": 0.0979069463986772,
            "count": 4
           },
           {
            "bin_start": 0.0979069463986772,
            "bin_end": 0.11252725681161332,
            "count": 0
           },
           {
            "bin_start": 0.11252725681161332,
            "bin_end": 0.12714756722454945,
            "count": 0
           },
           {
            "bin_start": 0.12714756722454945,
            "bin_end": 0.14176787763748558,
            "count": 0
           },
           {
            "bin_start": 0.14176787763748558,
            "bin_end": 0.1563881880504217,
            "count": 1
           }
          ]
         }
        },
        {
         "name": "Pressure Low Freq",
         "dtype": "float64",
         "stats": {
          "unique_count": 76,
          "nan_count": 0,
          "min": "0.959573194284882",
          "max": "1.0024818327838323",
          "histogram": [
           {
            "bin_start": 0.959573194284882,
            "bin_end": 0.963864058134777,
            "count": 1
           },
           {
            "bin_start": 0.963864058134777,
            "bin_end": 0.968154921984672,
            "count": 0
           },
           {
            "bin_start": 0.968154921984672,
            "bin_end": 0.9724457858345671,
            "count": 0
           },
           {
            "bin_start": 0.9724457858345671,
            "bin_end": 0.976736649684462,
            "count": 0
           },
           {
            "bin_start": 0.976736649684462,
            "bin_end": 0.9810275135343571,
            "count": 0
           },
           {
            "bin_start": 0.9810275135343571,
            "bin_end": 0.9853183773842522,
            "count": 0
           },
           {
            "bin_start": 0.9853183773842522,
            "bin_end": 0.9896092412341472,
            "count": 1
           },
           {
            "bin_start": 0.9896092412341472,
            "bin_end": 0.9939001050840423,
            "count": 2
           },
           {
            "bin_start": 0.9939001050840423,
            "bin_end": 0.9981909689339372,
            "count": 6
           },
           {
            "bin_start": 0.9981909689339372,
            "bin_end": 1.0024818327838323,
            "count": 66
           }
          ]
         }
        },
        {
         "name": "Pressure Bandpass Freq",
         "dtype": "float64",
         "stats": {
          "unique_count": 76,
          "nan_count": 0,
          "min": "0.999113092683344",
          "max": "1.1334268611655631",
          "histogram": [
           {
            "bin_start": 0.999113092683344,
            "bin_end": 1.012544469531566,
            "count": 19
           },
           {
            "bin_start": 1.012544469531566,
            "bin_end": 1.025975846379788,
            "count": 26
           },
           {
            "bin_start": 1.025975846379788,
            "bin_end": 1.0394072232280098,
            "count": 17
           },
           {
            "bin_start": 1.0394072232280098,
            "bin_end": 1.0528386000762318,
            "count": 9
           },
           {
            "bin_start": 1.0528386000762318,
            "bin_end": 1.0662699769244535,
            "count": 0
           },
           {
            "bin_start": 1.0662699769244535,
            "bin_end": 1.0797013537726754,
            "count": 1
           },
           {
            "bin_start": 1.0797013537726754,
            "bin_end": 1.0931327306208973,
            "count": 0
           },
           {
            "bin_start": 1.0931327306208973,
            "bin_end": 1.1065641074691193,
            "count": 1
           },
           {
            "bin_start": 1.1065641074691193,
            "bin_end": 1.1199954843173412,
            "count": 1
           },
           {
            "bin_start": 1.1199954843173412,
            "bin_end": 1.1334268611655631,
            "count": 2
           }
          ]
         }
        },
        {
         "name": "Altitude High Freq",
         "dtype": "float64",
         "stats": {
          "unique_count": 76,
          "nan_count": 0,
          "min": "0.0453503611323479",
          "max": "0.7625312697641685",
          "histogram": [
           {
            "bin_start": 0.0453503611323479,
            "bin_end": 0.11706845199552997,
            "count": 44
           },
           {
            "bin_start": 0.11706845199552997,
            "bin_end": 0.18878654285871205,
            "count": 24
           },
           {
            "bin_start": 0.18878654285871205,
            "bin_end": 0.2605046337218941,
            "count": 3
           },
           {
            "bin_start": 0.2605046337218941,
            "bin_end": 0.3322227245850762,
            "count": 0
           },
           {
            "bin_start": 0.3322227245850762,
            "bin_end": 0.4039408154482582,
            "count": 0
           },
           {
            "bin_start": 0.4039408154482582,
            "bin_end": 0.4756589063114403,
            "count": 1
           },
           {
            "bin_start": 0.4756589063114403,
            "bin_end": 0.5473769971746224,
            "count": 1
           },
           {
            "bin_start": 0.5473769971746224,
            "bin_end": 0.6190950880378044,
            "count": 0
           },
           {
            "bin_start": 0.6190950880378044,
            "bin_end": 0.6908131789009865,
            "count": 1
           },
           {
            "bin_start": 0.6908131789009865,
            "bin_end": 0.7625312697641685,
            "count": 2
           }
          ]
         }
        },
        {
         "name": "Altitude Low Freq",
         "dtype": "float64",
         "stats": {
          "unique_count": 76,
          "nan_count": 0,
          "min": "0.6137449525386722",
          "max": "0.9986891795102872",
          "histogram": [
           {
            "bin_start": 0.6137449525386722,
            "bin_end": 0.6522393752358338,
            "count": 1
           },
           {
            "bin_start": 0.6522393752358338,
            "bin_end": 0.6907337979329953,
            "count": 0
           },
           {
            "bin_start": 0.6907337979329953,
            "bin_end": 0.7292282206301568,
            "count": 1
           },
           {
            "bin_start": 0.7292282206301568,
            "bin_end": 0.7677226433273182,
            "count": 0
           },
           {
            "bin_start": 0.7677226433273182,
            "bin_end": 0.8062170660244797,
            "count": 1
           },
           {
            "bin_start": 0.8062170660244797,
            "bin_end": 0.8447114887216413,
            "count": 0
           },
           {
            "bin_start": 0.8447114887216413,
            "bin_end": 0.8832059114188027,
            "count": 0
           },
           {
            "bin_start": 0.8832059114188027,
            "bin_end": 0.9217003341159642,
            "count": 1
           },
           {
            "bin_start": 0.9217003341159642,
            "bin_end": 0.9601947568131257,
            "count": 2
           },
           {
            "bin_start": 0.9601947568131257,
            "bin_end": 0.9986891795102872,
            "count": 70
           }
          ]
         }
        },
        {
         "name": "Altitude Bandpass Freq",
         "dtype": "float64",
         "stats": {
          "unique_count": 76,
          "nan_count": 0,
          "min": "0.9765704725080598",
          "max": "2.95119677727458",
          "histogram": [
           {
            "bin_start": 0.9765704725080598,
            "bin_end": 1.174033102984712,
            "count": 60
           },
           {
            "bin_start": 1.174033102984712,
            "bin_end": 1.371495733461364,
            "count": 10
           },
           {
            "bin_start": 1.371495733461364,
            "bin_end": 1.568958363938016,
            "count": 2
           },
           {
            "bin_start": 1.568958363938016,
            "bin_end": 1.766420994414668,
            "count": 2
           },
           {
            "bin_start": 1.766420994414668,
            "bin_end": 1.96388362489132,
            "count": 1
           },
           {
            "bin_start": 1.96388362489132,
            "bin_end": 2.161346255367972,
            "count": 0
           },
           {
            "bin_start": 2.161346255367972,
            "bin_end": 2.358808885844624,
            "count": 0
           },
           {
            "bin_start": 2.358808885844624,
            "bin_end": 2.556271516321276,
            "count": 0
           },
           {
            "bin_start": 2.556271516321276,
            "bin_end": 2.753734146797928,
            "count": 0
           },
           {
            "bin_start": 2.753734146797928,
            "bin_end": 2.95119677727458,
            "count": 1
           }
          ]
         }
        },
        {
         "name": "Pressure Reg R^2",
         "dtype": "float64",
         "stats": {
          "unique_count": 76,
          "nan_count": 0,
          "min": "0.0099240094329099",
          "max": "0.9729169110533068",
          "histogram": [
           {
            "bin_start": 0.0099240094329099,
            "bin_end": 0.10622329959494958,
            "count": 5
           },
           {
            "bin_start": 0.10622329959494958,
            "bin_end": 0.20252258975698928,
            "count": 3
           },
           {
            "bin_start": 0.20252258975698928,
            "bin_end": 0.2988218799190289,
            "count": 1
           },
           {
            "bin_start": 0.2988218799190289,
            "bin_end": 0.3951211700810686,
            "count": 6
           },
           {
            "bin_start": 0.3951211700810686,
            "bin_end": 0.4914204602431083,
            "count": 5
           },
           {
            "bin_start": 0.4914204602431083,
            "bin_end": 0.587719750405148,
            "count": 6
           },
           {
            "bin_start": 0.587719750405148,
            "bin_end": 0.6840190405671878,
            "count": 11
           },
           {
            "bin_start": 0.6840190405671878,
            "bin_end": 0.7803183307292274,
            "count": 17
           },
           {
            "bin_start": 0.7803183307292274,
            "bin_end": 0.876617620891267,
            "count": 15
           },
           {
            "bin_start": 0.876617620891267,
            "bin_end": 0.9729169110533068,
            "count": 7
           }
          ]
         }
        },
        {
         "name": "Pressure Reg x0",
         "dtype": "float64",
         "stats": {
          "unique_count": 76,
          "nan_count": 0,
          "min": "241.6036504369066",
          "max": "908.5781792686878",
          "histogram": [
           {
            "bin_start": 241.6036504369066,
            "bin_end": 308.30110332008474,
            "count": 4
           },
           {
            "bin_start": 308.30110332008474,
            "bin_end": 374.99855620326286,
            "count": 5
           },
           {
            "bin_start": 374.99855620326286,
            "bin_end": 441.69600908644094,
            "count": 6
           },
           {
            "bin_start": 441.69600908644094,
            "bin_end": 508.39346196961907,
            "count": 13
           },
           {
            "bin_start": 508.39346196961907,
            "bin_end": 575.0909148527971,
            "count": 9
           },
           {
            "bin_start": 575.0909148527971,
            "bin_end": 641.7883677359753,
            "count": 9
           },
           {
            "bin_start": 641.7883677359753,
            "bin_end": 708.4858206191534,
            "count": 8
           },
           {
            "bin_start": 708.4858206191534,
            "bin_end": 775.1832735023315,
            "count": 8
           },
           {
            "bin_start": 775.1832735023315,
            "bin_end": 841.8807263855097,
            "count": 8
           },
           {
            "bin_start": 841.8807263855097,
            "bin_end": 908.5781792686878,
            "count": 6
           }
          ]
         }
        },
        {
         "name": "Pressure Reg x1",
         "dtype": "float64",
         "stats": {
          "unique_count": 76,
          "nan_count": 0,
          "min": "-0.0786939755566586",
          "max": "0.4374256402254708",
          "histogram": [
           {
            "bin_start": -0.0786939755566586,
            "bin_end": -0.027082013978445653,
            "count": 1
           },
           {
            "bin_start": -0.027082013978445653,
            "bin_end": 0.024529947599767288,
            "count": 10
           },
           {
            "bin_start": 0.024529947599767288,
            "bin_end": 0.07614190917798024,
            "count": 25
           },
           {
            "bin_start": 0.07614190917798024,
            "bin_end": 0.12775387075619316,
            "count": 15
           },
           {
            "bin_start": 0.12775387075619316,
            "bin_end": 0.17936583233440612,
            "count": 12
           },
           {
            "bin_start": 0.17936583233440612,
            "bin_end": 0.23097779391261908,
            "count": 7
           },
           {
            "bin_start": 0.23097779391261908,
            "bin_end": 0.282589755490832,
            "count": 3
           },
           {
            "bin_start": 0.282589755490832,
            "bin_end": 0.33420171706904495,
            "count": 1
           },
           {
            "bin_start": 0.33420171706904495,
            "bin_end": 0.3858136786472579,
            "count": 0
           },
           {
            "bin_start": 0.3858136786472579,
            "bin_end": 0.4374256402254708,
            "count": 2
           }
          ]
         }
        },
        {
         "name": "Pressure Reg SumResids",
         "dtype": "float64",
         "stats": {
          "unique_count": 76,
          "nan_count": 0,
          "min": "10707.965735212656",
          "max": "804762.1777732123",
          "histogram": [
           {
            "bin_start": 10707.965735212656,
            "bin_end": 90113.38693901262,
            "count": 51
           },
           {
            "bin_start": 90113.38693901262,
            "bin_end": 169518.8081428126,
            "count": 13
           },
           {
            "bin_start": 169518.8081428126,
            "bin_end": 248924.22934661258,
            "count": 4
           },
           {
            "bin_start": 248924.22934661258,
            "bin_end": 328329.65055041254,
            "count": 6
           },
           {
            "bin_start": 328329.65055041254,
            "bin_end": 407735.0717542125,
            "count": 0
           },
           {
            "bin_start": 407735.0717542125,
            "bin_end": 487140.4929580125,
            "count": 1
           },
           {
            "bin_start": 487140.4929580125,
            "bin_end": 566545.9141618124,
            "count": 0
           },
           {
            "bin_start": 566545.9141618124,
            "bin_end": 645951.3353656124,
            "count": 0
           },
           {
            "bin_start": 645951.3353656124,
            "bin_end": 725356.7565694124,
            "count": 0
           },
           {
            "bin_start": 725356.7565694124,
            "bin_end": 804762.1777732123,
            "count": 1
           }
          ]
         }
        },
        {
         "name": "Curv Reg R^2",
         "dtype": "float64",
         "stats": {
          "unique_count": 76,
          "nan_count": 0,
          "min": "0.0003831193082431",
          "max": "0.9668021364043118",
          "histogram": [
           {
            "bin_start": 0.0003831193082431,
            "bin_end": 0.09702502101784997,
            "count": 13
           },
           {
            "bin_start": 0.09702502101784997,
            "bin_end": 0.19366692272745686,
            "count": 1
           },
           {
            "bin_start": 0.19366692272745686,
            "bin_end": 0.29030882443706374,
            "count": 2
           },
           {
            "bin_start": 0.29030882443706374,
            "bin_end": 0.3869507261466706,
            "count": 2
           },
           {
            "bin_start": 0.3869507261466706,
            "bin_end": 0.48359262785627743,
            "count": 2
           },
           {
            "bin_start": 0.48359262785627743,
            "bin_end": 0.5802345295658844,
            "count": 4
           },
           {
            "bin_start": 0.5802345295658844,
            "bin_end": 0.6768764312754912,
            "count": 3
           },
           {
            "bin_start": 0.6768764312754912,
            "bin_end": 0.7735183329850981,
            "count": 7
           },
           {
            "bin_start": 0.7735183329850981,
            "bin_end": 0.8701602346947049,
            "count": 16
           },
           {
            "bin_start": 0.8701602346947049,
            "bin_end": 0.9668021364043118,
            "count": 26
           }
          ]
         }
        },
        {
         "name": "Curv Reg x0",
         "dtype": "float64",
         "stats": {
          "unique_count": 76,
          "nan_count": 0,
          "min": "-0.6013345560220276",
          "max": "0.8858959536586799",
          "histogram": [
           {
            "bin_start": -0.6013345560220276,
            "bin_end": -0.4526115050539568,
            "count": 1
           },
           {
            "bin_start": -0.4526115050539568,
            "bin_end": -0.30388845408588605,
            "count": 0
           },
           {
            "bin_start": -0.30388845408588605,
            "bin_end": -0.1551654031178153,
            "count": 2
           },
           {
            "bin_start": -0.1551654031178153,
            "bin_end": -0.006442352149744535,
            "count": 72
           },
           {
            "bin_start": -0.006442352149744535,
            "bin_end": 0.14228069881832628,
            "count": 0
           },
           {
            "bin_start": 0.14228069881832628,
            "bin_end": 0.291003749786397,
            "count": 0
           },
           {
            "bin_start": 0.291003749786397,
            "bin_end": 0.4397268007544677,
            "count": 0
           },
           {
            "bin_start": 0.4397268007544677,
            "bin_end": 0.5884498517225385,
            "count": 0
           },
           {
            "bin_start": 0.5884498517225385,
            "bin_end": 0.7371729026906093,
            "count": 0
           },
           {
            "bin_start": 0.7371729026906093,
            "bin_end": 0.8858959536586799,
            "count": 1
           }
          ]
         }
        },
        {
         "name": "Curv Reg x1",
         "dtype": "float64",
         "stats": {
          "unique_count": 76,
          "nan_count": 0,
          "min": "-0.1497540226105217",
          "max": "0.086814634321517",
          "histogram": [
           {
            "bin_start": -0.1497540226105217,
            "bin_end": -0.12609715691731782,
            "count": 1
           },
           {
            "bin_start": -0.12609715691731782,
            "bin_end": -0.10244029122411397,
            "count": 0
           },
           {
            "bin_start": -0.10244029122411397,
            "bin_end": -0.07878342553091008,
            "count": 0
           },
           {
            "bin_start": -0.07878342553091008,
            "bin_end": -0.055126559837706215,
            "count": 0
           },
           {
            "bin_start": -0.055126559837706215,
            "bin_end": -0.03146969414450235,
            "count": 0
           },
           {
            "bin_start": -0.03146969414450235,
            "bin_end": -0.007812828451298465,
            "count": 1
           },
           {
            "bin_start": -0.007812828451298465,
            "bin_end": 0.01584403724190539,
            "count": 69
           },
           {
            "bin_start": 0.01584403724190539,
            "bin_end": 0.03950090293510927,
            "count": 3
           },
           {
            "bin_start": 0.03950090293510927,
            "bin_end": 0.06315776862831315,
            "count": 1
           },
           {
            "bin_start": 0.06315776862831315,
            "bin_end": 0.086814634321517,
            "count": 1
           }
          ]
         }
        },
        {
         "name": "Curv Reg SumResids",
         "dtype": "float64",
         "stats": {
          "unique_count": 76,
          "nan_count": 0,
          "min": "0.0011518251995871",
          "max": "2488.797873969267",
          "histogram": [
           {
            "bin_start": 0.0011518251995871,
            "bin_end": 248.88082403960635,
            "count": 74
           },
           {
            "bin_start": 248.88082403960635,
            "bin_end": 497.7604962540131,
            "count": 1
           },
           {
            "bin_start": 497.7604962540131,
            "bin_end": 746.6401684684198,
            "count": 0
           },
           {
            "bin_start": 746.6401684684198,
            "bin_end": 995.5198406828266,
            "count": 0
           },
           {
            "bin_start": 995.5198406828266,
            "bin_end": 1244.3995128972333,
            "count": 0
           },
           {
            "bin_start": 1244.3995128972333,
            "bin_end": 1493.27918511164,
            "count": 0
           },
           {
            "bin_start": 1493.27918511164,
            "bin_end": 1742.1588573260467,
            "count": 0
           },
           {
            "bin_start": 1742.1588573260467,
            "bin_end": 1991.0385295404535,
            "count": 0
           },
           {
            "bin_start": 1991.0385295404535,
            "bin_end": 2239.91820175486,
            "count": 0
           },
           {
            "bin_start": 2239.91820175486,
            "bin_end": 2488.797873969267,
            "count": 1
           }
          ]
         }
        },
        {
         "name": "Vel Reg R^2",
         "dtype": "float64",
         "stats": {
          "unique_count": 76,
          "nan_count": 0,
          "min": "3.424792197614934e-07",
          "max": "0.9370843019125396",
          "histogram": [
           {
            "bin_start": 3.424792197614934e-7,
            "bin_end": 0.09370873842255174,
            "count": 14
           },
           {
            "bin_start": 0.09370873842255174,
            "bin_end": 0.18741713436588373,
            "count": 9
           },
           {
            "bin_start": 0.18741713436588373,
            "bin_end": 0.2811255303092157,
            "count": 6
           },
           {
            "bin_start": 0.2811255303092157,
            "bin_end": 0.3748339262525477,
            "count": 8
           },
           {
            "bin_start": 0.3748339262525477,
            "bin_end": 0.46854232219587966,
            "count": 12
           },
           {
            "bin_start": 0.46854232219587966,
            "bin_end": 0.5622507181392117,
            "count": 6
           },
           {
            "bin_start": 0.5622507181392117,
            "bin_end": 0.6559591140825436,
            "count": 5
           },
           {
            "bin_start": 0.6559591140825436,
            "bin_end": 0.7496675100258756,
            "count": 10
           },
           {
            "bin_start": 0.7496675100258756,
            "bin_end": 0.8433759059692076,
            "count": 3
           },
           {
            "bin_start": 0.8433759059692076,
            "bin_end": 0.9370843019125396,
            "count": 3
           }
          ]
         }
        },
        {
         "name": "Vel Reg x0",
         "dtype": "float64",
         "stats": {
          "unique_count": 76,
          "nan_count": 0,
          "min": "0.0112837223568144",
          "max": "2.5051717942996987",
          "histogram": [
           {
            "bin_start": 0.0112837223568144,
            "bin_end": 0.2606725295511028,
            "count": 11
           },
           {
            "bin_start": 0.2606725295511028,
            "bin_end": 0.5100613367453912,
            "count": 23
           },
           {
            "bin_start": 0.5100613367453912,
            "bin_end": 0.7594501439396796,
            "count": 20
           },
           {
            "bin_start": 0.7594501439396796,
            "bin_end": 1.008838951133968,
            "count": 9
           },
           {
            "bin_start": 1.008838951133968,
            "bin_end": 1.2582277583282564,
            "count": 6
           },
           {
            "bin_start": 1.2582277583282564,
            "bin_end": 1.5076165655225446,
            "count": 4
           },
           {
            "bin_start": 1.5076165655225446,
            "bin_end": 1.757005372716833,
            "count": 1
           },
           {
            "bin_start": 1.757005372716833,
            "bin_end": 2.006394179911122,
            "count": 0
           },
           {
            "bin_start": 2.006394179911122,
            "bin_end": 2.2557829871054103,
            "count": 1
           },
           {
            "bin_start": 2.2557829871054103,
            "bin_end": 2.5051717942996987,
            "count": 1
           }
          ]
         }
        },
        {
         "name": "Vel Reg x1",
         "dtype": "float64",
         "stats": {
          "unique_count": 76,
          "nan_count": 0,
          "min": "-0.0007222762977653",
          "max": "0.0056760024616872",
          "histogram": [
           {
            "bin_start": -0.0007222762977653,
            "bin_end": -0.00008244842182004997,
            "count": 1
           },
           {
            "bin_start": -0.00008244842182004997,
            "bin_end": 0.0005573794541252001,
            "count": 33
           },
           {
            "bin_start": 0.0005573794541252001,
            "bin_end": 0.0011972073300704502,
            "count": 25
           },
           {
            "bin_start": 0.0011972073300704502,
            "bin_end": 0.0018370352060157003,
            "count": 5
           },
           {
            "bin_start": 0.0018370352060157003,
            "bin_end": 0.0024768630819609503,
            "count": 2
           },
           {
            "bin_start": 0.0024768630819609503,
            "bin_end": 0.0031166909579062006,
            "count": 4
           },
           {
            "bin_start": 0.0031166909579062006,
            "bin_end": 0.00375651883385145,
            "count": 3
           },
           {
            "bin_start": 0.00375651883385145,
            "bin_end": 0.0043963467097967,
            "count": 2
           },
           {
            "bin_start": 0.0043963467097967,
            "bin_end": 0.005036174585741951,
            "count": 0
           },
           {
            "bin_start": 0.005036174585741951,
            "bin_end": 0.0056760024616872,
            "count": 1
           }
          ]
         }
        },
        {
         "name": "Vel Reg SumResids",
         "dtype": "float64",
         "stats": {
          "unique_count": 76,
          "nan_count": 0,
          "min": "37.0070455606037",
          "max": "934.0239226817602",
          "histogram": [
           {
            "bin_start": 37.0070455606037,
            "bin_end": 126.70873327271934,
            "count": 32
           },
           {
            "bin_start": 126.70873327271934,
            "bin_end": 216.41042098483499,
            "count": 21
           },
           {
            "bin_start": 216.41042098483499,
            "bin_end": 306.1121086969506,
            "count": 9
           },
           {
            "bin_start": 306.1121086969506,
            "bin_end": 395.8137964090663,
            "count": 3
           },
           {
            "bin_start": 395.8137964090663,
            "bin_end": 485.5154841211819,
            "count": 3
           },
           {
            "bin_start": 485.5154841211819,
            "bin_end": 575.2171718332976,
            "count": 4
           },
           {
            "bin_start": 575.2171718332976,
            "bin_end": 664.9188595454132,
            "count": 1
           },
           {
            "bin_start": 664.9188595454132,
            "bin_end": 754.6205472575289,
            "count": 0
           },
           {
            "bin_start": 754.6205472575289,
            "bin_end": 844.3222349696446,
            "count": 1
           },
           {
            "bin_start": 844.3222349696446,
            "bin_end": 934.0239226817602,
            "count": 2
           }
          ]
         }
        },
        {
         "name": "VR Reg R^2",
         "dtype": "float64",
         "stats": {
          "unique_count": 76,
          "nan_count": 0,
          "min": "0.0006996797842397",
          "max": "0.8993363575892098",
          "histogram": [
           {
            "bin_start": 0.0006996797842397,
            "bin_end": 0.0905633475647367,
            "count": 15
           },
           {
            "bin_start": 0.0905633475647367,
            "bin_end": 0.18042701534523373,
            "count": 7
           },
           {
            "bin_start": 0.18042701534523373,
            "bin_end": 0.2702906831257307,
            "count": 8
           },
           {
            "bin_start": 0.2702906831257307,
            "bin_end": 0.3601543509062277,
            "count": 8
           },
           {
            "bin_start": 0.3601543509062277,
            "bin_end": 0.45001801868672475,
            "count": 8
           },
           {
            "bin_start": 0.45001801868672475,
            "bin_end": 0.5398816864672217,
            "count": 8
           },
           {
            "bin_start": 0.5398816864672217,
            "bin_end": 0.6297453542477187,
            "count": 6
           },
           {
            "bin_start": 0.6297453542477187,
            "bin_end": 0.7196090220282158,
            "count": 8
           },
           {
            "bin_start": 0.7196090220282158,
            "bin_end": 0.8094726898087128,
            "count": 5
           },
           {
            "bin_start": 0.8094726898087128,
            "bin_end": 0.8993363575892098,
            "count": 3
           }
          ]
         }
        },
        {
         "name": "VR Reg x0",
         "dtype": "float64",
         "stats": {
          "unique_count": 76,
          "nan_count": 0,
          "min": "-0.1090702944631819",
          "max": "2.151935536862065",
          "histogram": [
           {
            "bin_start": -0.1090702944631819,
            "bin_end": 0.11703028866934279,
            "count": 8
           },
           {
            "bin_start": 0.11703028866934279,
            "bin_end": 0.34313087180186747,
            "count": 20
           },
           {
            "bin_start": 0.34313087180186747,
            "bin_end": 0.5692314549343922,
            "count": 16
           },
           {
            "bin_start": 0.5692314549343922,
            "bin_end": 0.7953320380669169,
            "count": 13
           },
           {
            "bin_start": 0.7953320380669169,
            "bin_end": 1.0214326211994416,
            "count": 8
           },
           {
            "bin_start": 1.0214326211994416,
            "bin_end": 1.2475332043319662,
            "count": 4
           },
           {
            "bin_start": 1.2475332043319662,
            "bin_end": 1.473633787464491,
            "count": 1
           },
           {
            "bin_start": 1.473633787464491,
            "bin_end": 1.6997343705970156,
            "count": 3
           },
           {
            "bin_start": 1.6997343705970156,
            "bin_end": 1.9258349537295403,
            "count": 2
           },
           {
            "bin_start": 1.9258349537295403,
            "bin_end": 2.151935536862065,
            "count": 1
           }
          ]
         }
        },
        {
         "name": "VR Reg x1",
         "dtype": "float64",
         "stats": {
          "unique_count": 76,
          "nan_count": 0,
          "min": "-0.0028207245909322",
          "max": "0.021879045238214",
          "histogram": [
           {
            "bin_start": -0.0028207245909322,
            "bin_end": -0.00035074760801758007,
            "count": 2
           },
           {
            "bin_start": -0.00035074760801758007,
            "bin_end": 0.00211922937489704,
            "count": 29
           },
           {
            "bin_start": 0.00211922937489704,
            "bin_end": 0.00458920635781166,
            "count": 21
           },
           {
            "bin_start": 0.00458920635781166,
            "bin_end": 0.00705918334072628,
            "count": 12
           },
           {
            "bin_start": 0.00705918334072628,
            "bin_end": 0.0095291603236409,
            "count": 4
           },
           {
            "bin_start": 0.0095291603236409,
            "bin_end": 0.01199913730655552,
            "count": 2
           },
           {
            "bin_start": 0.01199913730655552,
            "bin_end": 0.01446911428947014,
            "count": 1
           },
           {
            "bin_start": 0.01446911428947014,
            "bin_end": 0.01693909127238476,
            "count": 1
           },
           {
            "bin_start": 0.01693909127238476,
            "bin_end": 0.01940906825529938,
            "count": 2
           },
           {
            "bin_start": 0.01940906825529938,
            "bin_end": 0.021879045238214,
            "count": 2
           }
          ]
         }
        },
        {
         "name": "VR Reg SumResids",
         "dtype": "float64",
         "stats": {
          "unique_count": 76,
          "nan_count": 0,
          "min": "33.876075450495314",
          "max": "1050.4744007141849",
          "histogram": [
           {
            "bin_start": 33.876075450495314,
            "bin_end": 135.53590797686425,
            "count": 34
           },
           {
            "bin_start": 135.53590797686425,
            "bin_end": 237.1957405032332,
            "count": 22
           },
           {
            "bin_start": 237.1957405032332,
            "bin_end": 338.8555730296021,
            "count": 7
           },
           {
            "bin_start": 338.8555730296021,
            "bin_end": 440.5154055559711,
            "count": 4
           },
           {
            "bin_start": 440.5154055559711,
            "bin_end": 542.1752380823401,
            "count": 1
           },
           {
            "bin_start": 542.1752380823401,
            "bin_end": 643.835070608709,
            "count": 2
           },
           {
            "bin_start": 643.835070608709,
            "bin_end": 745.494903135078,
            "count": 2
           },
           {
            "bin_start": 745.494903135078,
            "bin_end": 847.1547356614469,
            "count": 2
           },
           {
            "bin_start": 847.1547356614469,
            "bin_end": 948.8145681878159,
            "count": 1
           },
           {
            "bin_start": 948.8145681878159,
            "bin_end": 1050.4744007141849,
            "count": 1
           }
          ]
         }
        },
        {
         "name": "CV Reg R^2",
         "dtype": "float64",
         "stats": {
          "unique_count": 76,
          "nan_count": 0,
          "min": "0.0002667603422774",
          "max": "0.8876967851003328",
          "histogram": [
           {
            "bin_start": 0.0002667603422774,
            "bin_end": 0.08900976281808295,
            "count": 16
           },
           {
            "bin_start": 0.08900976281808295,
            "bin_end": 0.1777527652938885,
            "count": 11
           },
           {
            "bin_start": 0.1777527652938885,
            "bin_end": 0.266495767769694,
            "count": 3
           },
           {
            "bin_start": 0.266495767769694,
            "bin_end": 0.3552387702454996,
            "count": 6
           },
           {
            "bin_start": 0.3552387702454996,
            "bin_end": 0.4439817727213052,
            "count": 3
           },
           {
            "bin_start": 0.4439817727213052,
            "bin_end": 0.5327247751971106,
            "count": 4
           },
           {
            "bin_start": 0.5327247751971106,
            "bin_end": 0.6214677776729162,
            "count": 7
           },
           {
            "bin_start": 0.6214677776729162,
            "bin_end": 0.7102107801487217,
            "count": 6
           },
           {
            "bin_start": 0.7102107801487217,
            "bin_end": 0.7989537826245273,
            "count": 11
           },
           {
            "bin_start": 0.7989537826245273,
            "bin_end": 0.8876967851003328,
            "count": 9
           }
          ]
         }
        },
        {
         "name": "CV Reg x0",
         "dtype": "float64",
         "stats": {
          "unique_count": 76,
          "nan_count": 0,
          "min": "-0.0744733791449998",
          "max": "0.1074898933000584",
          "histogram": [
           {
            "bin_start": -0.0744733791449998,
            "bin_end": -0.05627705190049398,
            "count": 2
           },
           {
            "bin_start": -0.05627705190049398,
            "bin_end": -0.038080724655988156,
            "count": 0
           },
           {
            "bin_start": -0.038080724655988156,
            "bin_end": -0.019884397411482332,
            "count": 0
           },
           {
            "bin_start": -0.019884397411482332,
            "bin_end": -0.0016880701669765158,
            "count": 31
           },
           {
            "bin_start": -0.0016880701669765158,
            "bin_end": 0.0165082570775293,
            "count": 40
           },
           {
            "bin_start": 0.0165082570775293,
            "bin_end": 0.03470458432203513,
            "count": 1
           },
           {
            "bin_start": 0.03470458432203513,
            "bin_end": 0.05290091156654095,
            "count": 0
           },
           {
            "bin_start": 0.05290091156654095,
            "bin_end": 0.07109723881104676,
            "count": 0
           },
           {
            "bin_start": 0.07109723881104676,
            "bin_end": 0.08929356605555258,
            "count": 1
           },
           {
            "bin_start": 0.08929356605555258,
            "bin_end": 0.1074898933000584,
            "count": 1
           }
          ]
         }
        },
        {
         "name": "CV Reg x1",
         "dtype": "float64",
         "stats": {
          "unique_count": 76,
          "nan_count": 0,
          "min": "-0.1494599795569445",
          "max": "0.0319399060703531",
          "histogram": [
           {
            "bin_start": -0.1494599795569445,
            "bin_end": -0.13131999099421476,
            "count": 1
           },
           {
            "bin_start": -0.13131999099421476,
            "bin_end": -0.11318000243148499,
            "count": 0
           },
           {
            "bin_start": -0.11318000243148499,
            "bin_end": -0.09504001386875523,
            "count": 0
           },
           {
            "bin_start": -0.09504001386875523,
            "bin_end": -0.07690002530602547,
            "count": 0
           },
           {
            "bin_start": -0.07690002530602547,
            "bin_end": -0.058760036743295704,
            "count": 2
           },
           {
            "bin_start": -0.058760036743295704,
            "bin_end": -0.04062004818056594,
            "count": 0
           },
           {
            "bin_start": -0.04062004818056594,
            "bin_end": -0.022480059617836168,
            "count": 10
           },
           {
            "bin_start": -0.022480059617836168,
            "bin_end": -0.00434007105510642,
            "count": 40
           },
           {
            "bin_start": -0.00434007105510642,
            "bin_end": 0.013799917507623327,
            "count": 22
           },
           {
            "bin_start": 0.013799917507623327,
            "bin_end": 0.0319399060703531,
            "count": 1
           }
          ]
         }
        },
        {
         "name": "CV Reg SumResids",
         "dtype": "float64",
         "stats": {
          "unique_count": 76,
          "nan_count": 0,
          "min": "0.0055547792798752",
          "max": "2493.4659786536017",
          "histogram": [
           {
            "bin_start": 0.0055547792798752,
            "bin_end": 249.35159716671205,
            "count": 74
           },
           {
            "bin_start": 249.35159716671205,
            "bin_end": 498.69763955414425,
            "count": 1
           },
           {
            "bin_start": 498.69763955414425,
            "bin_end": 748.0436819415766,
            "count": 0
           },
           {
            "bin_start": 748.0436819415766,
            "bin_end": 997.3897243290087,
            "count": 0
           },
           {
            "bin_start": 997.3897243290087,
            "bin_end": 1246.7357667164408,
            "count": 0
           },
           {
            "bin_start": 1246.7357667164408,
            "bin_end": 1496.0818091038732,
            "count": 0
           },
           {
            "bin_start": 1496.0818091038732,
            "bin_end": 1745.4278514913053,
            "count": 0
           },
           {
            "bin_start": 1745.4278514913053,
            "bin_end": 1994.7738938787375,
            "count": 0
           },
           {
            "bin_start": 1994.7738938787375,
            "bin_end": 2244.1199362661696,
            "count": 0
           },
           {
            "bin_start": 2244.1199362661696,
            "bin_end": 2493.4659786536017,
            "count": 1
           }
          ]
         }
        },
        {
         "name": "RT Reg R^2",
         "dtype": "float64",
         "stats": {
          "unique_count": 76,
          "nan_count": 0,
          "min": "0.4937214275406357",
          "max": "0.9984241923797272",
          "histogram": [
           {
            "bin_start": 0.4937214275406357,
            "bin_end": 0.5441917040245449,
            "count": 1
           },
           {
            "bin_start": 0.5441917040245449,
            "bin_end": 0.594661980508454,
            "count": 0
           },
           {
            "bin_start": 0.594661980508454,
            "bin_end": 0.6451322569923632,
            "count": 0
           },
           {
            "bin_start": 0.6451322569923632,
            "bin_end": 0.6956025334762723,
            "count": 1
           },
           {
            "bin_start": 0.6956025334762723,
            "bin_end": 0.7460728099601814,
            "count": 3
           },
           {
            "bin_start": 0.7460728099601814,
            "bin_end": 0.7965430864440906,
            "count": 3
           },
           {
            "bin_start": 0.7965430864440906,
            "bin_end": 0.8470133629279998,
            "count": 2
           },
           {
            "bin_start": 0.8470133629279998,
            "bin_end": 0.897483639411909,
            "count": 2
           },
           {
            "bin_start": 0.897483639411909,
            "bin_end": 0.9479539158958181,
            "count": 7
           },
           {
            "bin_start": 0.9479539158958181,
            "bin_end": 0.9984241923797272,
            "count": 57
           }
          ]
         }
        },
        {
         "name": "RT Reg x0",
         "dtype": "float64",
         "stats": {
          "unique_count": 76,
          "nan_count": 0,
          "min": "-151.92293707683515",
          "max": "27.785324676247637",
          "histogram": [
           {
            "bin_start": -151.92293707683515,
            "bin_end": -133.95211090152688,
            "count": 2
           },
           {
            "bin_start": -133.95211090152688,
            "bin_end": -115.9812847262186,
            "count": 2
           },
           {
            "bin_start": -115.9812847262186,
            "bin_end": -98.01045855091031,
            "count": 2
           },
           {
            "bin_start": -98.01045855091031,
            "bin_end": -80.03963237560204,
            "count": 8
           },
           {
            "bin_start": -80.03963237560204,
            "bin_end": -62.068806200293764,
            "count": 8
           },
           {
            "bin_start": -62.068806200293764,
            "bin_end": -44.097980024985475,
            "count": 6
           },
           {
            "bin_start": -44.097980024985475,
            "bin_end": -26.1271538496772,
            "count": 15
           },
           {
            "bin_start": -26.1271538496772,
            "bin_end": -8.156327674368924,
            "count": 23
           },
           {
            "bin_start": -8.156327674368924,
            "bin_end": 9.81449850093935,
            "count": 8
           },
           {
            "bin_start": 9.81449850093935,
            "bin_end": 27.785324676247637,
            "count": 2
           }
          ]
         }
        },
        {
         "name": "RT Reg x1",
         "dtype": "float64",
         "stats": {
          "unique_count": 76,
          "nan_count": 0,
          "min": "6.33825709419942",
          "max": "16.887759952503394",
          "histogram": [
           {
            "bin_start": 6.33825709419942,
            "bin_end": 7.393207380029818,
            "count": 2
           },
           {
            "bin_start": 7.393207380029818,
            "bin_end": 8.448157665860215,
            "count": 2
           },
           {
            "bin_start": 8.448157665860215,
            "bin_end": 9.503107951690613,
            "count": 2
           },
           {
            "bin_start": 9.503107951690613,
            "bin_end": 10.55805823752101,
            "count": 37
           },
           {
            "bin_start": 10.55805823752101,
            "bin_end": 11.613008523351407,
            "count": 21
           },
           {
            "bin_start": 11.613008523351407,
            "bin_end": 12.667958809181805,
            "count": 6
           },
           {
            "bin_start": 12.667958809181805,
            "bin_end": 13.722909095012202,
            "count": 0
           },
           {
            "bin_start": 13.722909095012202,
            "bin_end": 14.7778593808426,
            "count": 1
           },
           {
            "bin_start": 14.7778593808426,
            "bin_end": 15.832809666672997,
            "count": 4
           },
           {
            "bin_start": 15.832809666672997,
            "bin_end": 16.887759952503394,
            "count": 1
           }
          ]
         }
        },
        {
         "name": "RT Reg SumResids",
         "dtype": "float64",
         "stats": {
          "unique_count": 76,
          "nan_count": 0,
          "min": "1453.695143167538",
          "max": "34057.748481213726",
          "histogram": [
           {
            "bin_start": 1453.695143167538,
            "bin_end": 4714.100476972157,
            "count": 28
           },
           {
            "bin_start": 4714.100476972157,
            "bin_end": 7974.505810776775,
            "count": 25
           },
           {
            "bin_start": 7974.505810776775,
            "bin_end": 11234.911144581394,
            "count": 8
           },
           {
            "bin_start": 11234.911144581394,
            "bin_end": 14495.316478386012,
            "count": 5
           },
           {
            "bin_start": 14495.316478386012,
            "bin_end": 17755.72181219063,
            "count": 0
           },
           {
            "bin_start": 17755.72181219063,
            "bin_end": 21016.12714599525,
            "count": 2
           },
           {
            "bin_start": 21016.12714599525,
            "bin_end": 24276.53247979987,
            "count": 0
           },
           {
            "bin_start": 24276.53247979987,
            "bin_end": 27536.937813604487,
            "count": 1
           },
           {
            "bin_start": 27536.937813604487,
            "bin_end": 30797.343147409105,
            "count": 3
           },
           {
            "bin_start": 30797.343147409105,
            "bin_end": 34057.748481213726,
            "count": 4
           }
          ]
         }
        },
        {
         "name": "R Dot Mean",
         "dtype": "float64",
         "stats": {
          "unique_count": 76,
          "nan_count": 0,
          "min": "0.0092155942128967",
          "max": "0.4156203754793508",
          "histogram": [
           {
            "bin_start": 0.0092155942128967,
            "bin_end": 0.04985607233954211,
            "count": 14
           },
           {
            "bin_start": 0.04985607233954211,
            "bin_end": 0.09049655046618751,
            "count": 24
           },
           {
            "bin_start": 0.09049655046618751,
            "bin_end": 0.13113702859283294,
            "count": 16
           },
           {
            "bin_start": 0.13113702859283294,
            "bin_end": 0.17177750671947833,
            "count": 10
           },
           {
            "bin_start": 0.17177750671947833,
            "bin_end": 0.21241798484612373,
            "count": 5
           },
           {
            "bin_start": 0.21241798484612373,
            "bin_end": 0.2530584629727692,
            "count": 1
           },
           {
            "bin_start": 0.2530584629727692,
            "bin_end": 0.2936989410994146,
            "count": 2
           },
           {
            "bin_start": 0.2936989410994146,
            "bin_end": 0.33433941922606,
            "count": 0
           },
           {
            "bin_start": 0.33433941922606,
            "bin_end": 0.37497989735270537,
            "count": 3
           },
           {
            "bin_start": 0.37497989735270537,
            "bin_end": 0.4156203754793508,
            "count": 1
           }
          ]
         }
        },
        {
         "name": "R Dot STD",
         "dtype": "float64",
         "stats": {
          "unique_count": 76,
          "nan_count": 0,
          "min": "0.0381887364730561",
          "max": "2.492143404761657",
          "histogram": [
           {
            "bin_start": 0.0381887364730561,
            "bin_end": 0.2835842033019162,
            "count": 52
           },
           {
            "bin_start": 0.2835842033019162,
            "bin_end": 0.5289796701307763,
            "count": 10
           },
           {
            "bin_start": 0.5289796701307763,
            "bin_end": 0.7743751369596364,
            "count": 5
           },
           {
            "bin_start": 0.7743751369596364,
            "bin_end": 1.0197706037884966,
            "count": 3
           },
           {
            "bin_start": 1.0197706037884966,
            "bin_end": 1.2651660706173566,
            "count": 2
           },
           {
            "bin_start": 1.2651660706173566,
            "bin_end": 1.510561537446217,
            "count": 1
           },
           {
            "bin_start": 1.510561537446217,
            "bin_end": 1.755957004275077,
            "count": 0
           },
           {
            "bin_start": 1.755957004275077,
            "bin_end": 2.001352471103937,
            "count": 1
           },
           {
            "bin_start": 2.001352471103937,
            "bin_end": 2.2467479379327973,
            "count": 0
           },
           {
            "bin_start": 2.2467479379327973,
            "bin_end": 2.492143404761657,
            "count": 2
           }
          ]
         }
        },
        {
         "name": "T Dot Mean",
         "dtype": "float64",
         "stats": {
          "unique_count": 76,
          "nan_count": 0,
          "min": "0.0019338577358185",
          "max": "0.0410755437929915",
          "histogram": [
           {
            "bin_start": 0.0019338577358185,
            "bin_end": 0.005848026341535801,
            "count": 19
           },
           {
            "bin_start": 0.005848026341535801,
            "bin_end": 0.0097621949472531,
            "count": 24
           },
           {
            "bin_start": 0.0097621949472531,
            "bin_end": 0.0136763635529704,
            "count": 14
           },
           {
            "bin_start": 0.0136763635529704,
            "bin_end": 0.0175905321586877,
            "count": 9
           },
           {
            "bin_start": 0.0175905321586877,
            "bin_end": 0.021504700764405,
            "count": 4
           },
           {
            "bin_start": 0.021504700764405,
            "bin_end": 0.0254188693701223,
            "count": 2
           },
           {
            "bin_start": 0.0254188693701223,
            "bin_end": 0.029333037975839603,
            "count": 1
           },
           {
            "bin_start": 0.029333037975839603,
            "bin_end": 0.0332472065815569,
            "count": 1
           },
           {
            "bin_start": 0.0332472065815569,
            "bin_end": 0.0371613751872742,
            "count": 0
           },
           {
            "bin_start": 0.0371613751872742,
            "bin_end": 0.0410755437929915,
            "count": 2
           }
          ]
         }
        },
        {
         "name": "T Dot STD",
         "dtype": "float64",
         "stats": {
          "unique_count": 76,
          "nan_count": 0,
          "min": "0.0008590744921373",
          "max": "0.0278593001202171",
          "histogram": [
           {
            "bin_start": 0.0008590744921373,
            "bin_end": 0.00355909705494528,
            "count": 33
           },
           {
            "bin_start": 0.00355909705494528,
            "bin_end": 0.00625911961775326,
            "count": 15
           },
           {
            "bin_start": 0.00625911961775326,
            "bin_end": 0.008959142180561238,
            "count": 11
           },
           {
            "bin_start": 0.008959142180561238,
            "bin_end": 0.011659164743369218,
            "count": 8
           },
           {
            "bin_start": 0.011659164743369218,
            "bin_end": 0.014359187306177199,
            "count": 5
           },
           {
            "bin_start": 0.014359187306177199,
            "bin_end": 0.017059209868985178,
            "count": 2
           },
           {
            "bin_start": 0.017059209868985178,
            "bin_end": 0.01975923243179316,
            "count": 0
           },
           {
            "bin_start": 0.01975923243179316,
            "bin_end": 0.02245925499460114,
            "count": 1
           },
           {
            "bin_start": 0.02245925499460114,
            "bin_end": 0.02515927755740912,
            "count": 0
           },
           {
            "bin_start": 0.02515927755740912,
            "bin_end": 0.0278593001202171,
            "count": 1
           }
          ]
         }
        },
        {
         "name": "R dotdot Mean",
         "dtype": "float64",
         "stats": {
          "unique_count": 76,
          "nan_count": 0,
          "min": "-0.0135301925553114",
          "max": "0.0383051482839904",
          "histogram": [
           {
            "bin_start": -0.0135301925553114,
            "bin_end": -0.008346658471381219,
            "count": 1
           },
           {
            "bin_start": -0.008346658471381219,
            "bin_end": -0.00316312438745104,
            "count": 3
           },
           {
            "bin_start": -0.00316312438745104,
            "bin_end": 0.0020204096964791408,
            "count": 67
           },
           {
            "bin_start": 0.0020204096964791408,
            "bin_end": 0.00720394378040932,
            "count": 3
           },
           {
            "bin_start": 0.00720394378040932,
            "bin_end": 0.012387477864339498,
            "count": 1
           },
           {
            "bin_start": 0.012387477864339498,
            "bin_end": 0.017571011948269682,
            "count": 0
           },
           {
            "bin_start": 0.017571011948269682,
            "bin_end": 0.02275454603219986,
            "count": 0
           },
           {
            "bin_start": 0.02275454603219986,
            "bin_end": 0.02793808011613004,
            "count": 0
           },
           {
            "bin_start": 0.02793808011613004,
            "bin_end": 0.03312161420006022,
            "count": 0
           },
           {
            "bin_start": 0.03312161420006022,
            "bin_end": 0.0383051482839904,
            "count": 1
           }
          ]
         }
        },
        {
         "name": "R dotdot STD",
         "dtype": "float64",
         "stats": {
          "unique_count": 76,
          "nan_count": 0,
          "min": "0.0020190442365924",
          "max": "1.3862490544431694",
          "histogram": [
           {
            "bin_start": 0.0020190442365924,
            "bin_end": 0.1404420452572501,
            "count": 69
           },
           {
            "bin_start": 0.1404420452572501,
            "bin_end": 0.27886504627790776,
            "count": 3
           },
           {
            "bin_start": 0.27886504627790776,
            "bin_end": 0.41728804729856545,
            "count": 0
           },
           {
            "bin_start": 0.41728804729856545,
            "bin_end": 0.5557110483192231,
            "count": 0
           },
           {
            "bin_start": 0.5557110483192231,
            "bin_end": 0.6941340493398809,
            "count": 2
           },
           {
            "bin_start": 0.6941340493398809,
            "bin_end": 0.8325570503605385,
            "count": 0
           },
           {
            "bin_start": 0.8325570503605385,
            "bin_end": 0.9709800513811961,
            "count": 0
           },
           {
            "bin_start": 0.9709800513811961,
            "bin_end": 1.1094030524018539,
            "count": 1
           },
           {
            "bin_start": 1.1094030524018539,
            "bin_end": 1.2478260534225116,
            "count": 0
           },
           {
            "bin_start": 1.2478260534225116,
            "bin_end": 1.3862490544431694,
            "count": 1
           }
          ]
         }
        },
        {
         "name": "T dotdot Mean",
         "dtype": "float64",
         "stats": {
          "unique_count": 76,
          "nan_count": 0,
          "min": "-0.000243195506344",
          "max": "7.02611724155541e-06",
          "histogram": [
           {
            "bin_start": -0.000243195506344,
            "bin_end": -0.00021817334398544446,
            "count": 1
           },
           {
            "bin_start": -0.00021817334398544446,
            "bin_end": -0.0001931511816268889,
            "count": 0
           },
           {
            "bin_start": -0.0001931511816268889,
            "bin_end": -0.00016812901926833336,
            "count": 0
           },
           {
            "bin_start": -0.00016812901926833336,
            "bin_end": -0.00014310685690977783,
            "count": 0
           },
           {
            "bin_start": -0.00014310685690977783,
            "bin_end": -0.0001180846945512223,
            "count": 1
           },
           {
            "bin_start": -0.0001180846945512223,
            "bin_end": -0.00009306253219266674,
            "count": 0
           },
           {
            "bin_start": -0.00009306253219266674,
            "bin_end": -0.0000680403698341112,
            "count": 2
           },
           {
            "bin_start": -0.0000680403698341112,
            "bin_end": -0.00004301820747555567,
            "count": 6
           },
           {
            "bin_start": -0.00004301820747555567,
            "bin_end": -0.000017996045117000137,
            "count": 15
           },
           {
            "bin_start": -0.000017996045117000137,
            "bin_end": 0.00000702611724155541,
            "count": 51
           }
          ]
         }
        },
        {
         "name": "T dotdot STD",
         "dtype": "float64",
         "stats": {
          "unique_count": 76,
          "nan_count": 0,
          "min": "5.218791656836328e-07",
          "max": "0.0002645193372802",
          "histogram": [
           {
            "bin_start": 5.218791656836328e-7,
            "bin_end": 0.00002692162497713527,
            "count": 57
           },
           {
            "bin_start": 0.00002692162497713527,
            "bin_end": 0.0000533213707885869,
            "count": 10
           },
           {
            "bin_start": 0.0000533213707885869,
            "bin_end": 0.00007972111660003853,
            "count": 3
           },
           {
            "bin_start": 0.00007972111660003853,
            "bin_end": 0.00010612086241149017,
            "count": 3
           },
           {
            "bin_start": 0.00010612086241149017,
            "bin_end": 0.0001325206082229418,
            "count": 1
           },
           {
            "bin_start": 0.0001325206082229418,
            "bin_end": 0.00015892035403439344,
            "count": 1
           },
           {
            "bin_start": 0.00015892035403439344,
            "bin_end": 0.00018532009984584507,
            "count": 0
           },
           {
            "bin_start": 0.00018532009984584507,
            "bin_end": 0.0002117198456572967,
            "count": 0
           },
           {
            "bin_start": 0.0002117198456572967,
            "bin_end": 0.00023811959146874834,
            "count": 0
           },
           {
            "bin_start": 0.00023811959146874834,
            "bin_end": 0.0002645193372802,
            "count": 1
           }
          ]
         }
        },
        {
         "name": "drdtheta Mean",
         "dtype": "float64",
         "stats": {
          "unique_count": 76,
          "nan_count": 0,
          "min": "-9.19501890095467",
          "max": "54.46441772728668",
          "histogram": [
           {
            "bin_start": -9.19501890095467,
            "bin_end": -2.8290752381305353,
            "count": 1
           },
           {
            "bin_start": -2.8290752381305353,
            "bin_end": 3.5368684246935995,
            "count": 5
           },
           {
            "bin_start": 3.5368684246935995,
            "bin_end": 9.902812087517733,
            "count": 13
           },
           {
            "bin_start": 9.902812087517733,
            "bin_end": 16.268755750341867,
            "count": 40
           },
           {
            "bin_start": 16.268755750341867,
            "bin_end": 22.634699413166004,
            "count": 8
           },
           {
            "bin_start": 22.634699413166004,
            "bin_end": 29.000643075990133,
            "count": 7
           },
           {
            "bin_start": 29.000643075990133,
            "bin_end": 35.36658673881427,
            "count": 0
           },
           {
            "bin_start": 35.36658673881427,
            "bin_end": 41.73253040163841,
            "count": 1
           },
           {
            "bin_start": 41.73253040163841,
            "bin_end": 48.09847406446254,
            "count": 0
           },
           {
            "bin_start": 48.09847406446254,
            "bin_end": 54.46441772728668,
            "count": 1
           }
          ]
         }
        },
        {
         "name": "drdtheta STD",
         "dtype": "float64",
         "stats": {
          "unique_count": 76,
          "nan_count": 0,
          "min": "8.134354085400723",
          "max": "985.068842031575",
          "histogram": [
           {
            "bin_start": 8.134354085400723,
            "bin_end": 105.82780288001814,
            "count": 58
           },
           {
            "bin_start": 105.82780288001814,
            "bin_end": 203.52125167463558,
            "count": 6
           },
           {
            "bin_start": 203.52125167463558,
            "bin_end": 301.214700469253,
            "count": 4
           },
           {
            "bin_start": 301.214700469253,
            "bin_end": 398.9081492638704,
            "count": 4
           },
           {
            "bin_start": 398.9081492638704,
            "bin_end": 496.60159805848787,
            "count": 1
           },
           {
            "bin_start": 496.60159805848787,
            "bin_end": 594.2950468531052,
            "count": 0
           },
           {
            "bin_start": 594.2950468531052,
            "bin_end": 691.9884956477226,
            "count": 0
           },
           {
            "bin_start": 691.9884956477226,
            "bin_end": 789.6819444423401,
            "count": 2
           },
           {
            "bin_start": 789.6819444423401,
            "bin_end": 887.3753932369575,
            "count": 0
           },
           {
            "bin_start": 887.3753932369575,
            "bin_end": 985.068842031575,
            "count": 1
           }
          ]
         }
        },
        {
         "name": "Pressure Rising Duration",
         "dtype": "int64",
         "stats": {
          "unique_count": 73,
          "nan_count": 0,
          "min": "84",
          "max": "8386",
          "histogram": [
           {
            "bin_start": 84,
            "bin_end": 914.2,
            "count": 49
           },
           {
            "bin_start": 914.2,
            "bin_end": 1744.4,
            "count": 19
           },
           {
            "bin_start": 1744.4,
            "bin_end": 2574.6000000000004,
            "count": 3
           },
           {
            "bin_start": 2574.6000000000004,
            "bin_end": 3404.8,
            "count": 2
           },
           {
            "bin_start": 3404.8,
            "bin_end": 4235,
            "count": 1
           },
           {
            "bin_start": 4235,
            "bin_end": 5065.200000000001,
            "count": 1
           },
           {
            "bin_start": 5065.200000000001,
            "bin_end": 5895.400000000001,
            "count": 0
           },
           {
            "bin_start": 5895.400000000001,
            "bin_end": 6725.6,
            "count": 0
           },
           {
            "bin_start": 6725.6,
            "bin_end": 7555.8,
            "count": 0
           },
           {
            "bin_start": 7555.8,
            "bin_end": 8386,
            "count": 1
           }
          ]
         }
        },
        {
         "name": "Pressure Rising Range",
         "dtype": "int64",
         "stats": {
          "unique_count": 70,
          "nan_count": 0,
          "min": "177",
          "max": "742",
          "histogram": [
           {
            "bin_start": 177,
            "bin_end": 233.5,
            "count": 9
           },
           {
            "bin_start": 233.5,
            "bin_end": 290,
            "count": 7
           },
           {
            "bin_start": 290,
            "bin_end": 346.5,
            "count": 14
           },
           {
            "bin_start": 346.5,
            "bin_end": 403,
            "count": 8
           },
           {
            "bin_start": 403,
            "bin_end": 459.5,
            "count": 5
           },
           {
            "bin_start": 459.5,
            "bin_end": 516,
            "count": 10
           },
           {
            "bin_start": 516,
            "bin_end": 572.5,
            "count": 10
           },
           {
            "bin_start": 572.5,
            "bin_end": 629,
            "count": 5
           },
           {
            "bin_start": 629,
            "bin_end": 685.5,
            "count": 6
           },
           {
            "bin_start": 685.5,
            "bin_end": 742,
            "count": 2
           }
          ]
         }
        },
        {
         "name": "Pressure Falling Duration",
         "dtype": "int64",
         "stats": {
          "unique_count": 21,
          "nan_count": 0,
          "min": "35",
          "max": "27150",
          "histogram": [
           {
            "bin_start": 35,
            "bin_end": 2746.5,
            "count": 74
           },
           {
            "bin_start": 2746.5,
            "bin_end": 5458,
            "count": 1
           },
           {
            "bin_start": 5458,
            "bin_end": 8169.5,
            "count": 0
           },
           {
            "bin_start": 8169.5,
            "bin_end": 10881,
            "count": 0
           },
           {
            "bin_start": 10881,
            "bin_end": 13592.5,
            "count": 0
           },
           {
            "bin_start": 13592.5,
            "bin_end": 16304,
            "count": 0
           },
           {
            "bin_start": 16304,
            "bin_end": 19015.5,
            "count": 0
           },
           {
            "bin_start": 19015.5,
            "bin_end": 21727,
            "count": 0
           },
           {
            "bin_start": 21727,
            "bin_end": 24438.5,
            "count": 0
           },
           {
            "bin_start": 24438.5,
            "bin_end": 27150,
            "count": 1
           }
          ]
         }
        },
        {
         "name": "Pressure Falling Range",
         "dtype": "int64",
         "stats": {
          "unique_count": 68,
          "nan_count": 0,
          "min": "236",
          "max": "878",
          "histogram": [
           {
            "bin_start": 236,
            "bin_end": 300.2,
            "count": 7
           },
           {
            "bin_start": 300.2,
            "bin_end": 364.4,
            "count": 9
           },
           {
            "bin_start": 364.4,
            "bin_end": 428.6,
            "count": 12
           },
           {
            "bin_start": 428.6,
            "bin_end": 492.8,
            "count": 9
           },
           {
            "bin_start": 492.8,
            "bin_end": 557,
            "count": 6
           },
           {
            "bin_start": 557,
            "bin_end": 621.2,
            "count": 6
           },
           {
            "bin_start": 621.2,
            "bin_end": 685.4000000000001,
            "count": 9
           },
           {
            "bin_start": 685.4000000000001,
            "bin_end": 749.6,
            "count": 6
           },
           {
            "bin_start": 749.6,
            "bin_end": 813.8000000000001,
            "count": 6
           },
           {
            "bin_start": 813.8000000000001,
            "bin_end": 878,
            "count": 6
           }
          ]
         }
        },
        {
         "name": "_deepnote_index_column",
         "dtype": "int64"
        }
       ],
       "rows_top": [
        {
         "dynamic Subject ID": "/work/ParkinsonHW/C_0001.txt",
         "Category": 0,
         "Mean Velocity": 0.7633526980569172,
         "Max Velocity": 1.5081474041673104,
         "Velocity Std": 0.2568467794977041,
         "NVV": 0.0001990088417077,
         "NIV": 0.0003859513701273,
         "Mean Acceleration": 0.0053578871906032,
         "Max Acceleration": 0.0128158397257868,
         "Accleration Std": 0.0021364147985491,
         "NIA": 0.0006616309202183,
         "Mean Jerk": 0.000055121801223287433,
         "Max Jerk": 0.0001821400352298,
         "Jerk Std": 0.00003371888626215149,
         "NIJ": 0.0012681259304184,
         "Duration": 18137,
         "NIC": 0.0003859513701273,
         "Mean Pressure": 884.200930954228,
         "Max Pressure": 941,
         "Pressure Std": 74.22848565691748,
         "Rate of Inversion in Pressure": 0.0378232342724816,
         "X Entropy": 67.93077382994758,
         "Y Entropy": 70.01821230522634,
         "X Skewness": 0.1472783269961336,
         "Y Skewness": 0.1222201717713613,
         "X Kurtosis": -0.7157920539678253,
         "Y Kurtosis": -0.7712754896172775,
         "Vel Skewness": 1.1067932174760988,
         "Vel Kurtosis": 1.1545386149071533,
         "Accel Skewness": 1.4871887100368448,
         "Accel Kurtosis": 2.4937956924203686,
         "Jerk Skewness": 1.3587720325256007,
         "Jerk Kurtosis": 1.8372995543775863,
         "Pressure Skewness": -3.8137709817973695,
         "Pressure Kurtosis": 24.111009201070424,
         "Curvature Skewness": -2.3983384874946494,
         "Curvature Kurtosis": 8.161495953131762,
         "Pressure High Freq": 0.0328632838465919,
         "Pressure Low Freq": 0.9995672822899644,
         "Pressure Bandpass Freq": 1.018383159084377,
         "Altitude High Freq": 0.1175997680048414,
         "Altitude Low Freq": 0.9920405470772716,
         "Altitude Bandpass Freq": 1.2185819678644452,
         "Pressure Reg R^2": 0.6377448099702419,
         "Pressure Reg x0": 820.9325765597192,
         "Pressure Reg x1": 0.0563854960775699,
         "Pressure Reg SumResids": 56397.57500795861,
         "Curv Reg R^2": 0.9210869910642426,
         "Curv Reg x0": -0.0475391518566564,
         "Curv Reg x1": 0.0063628390692199,
         "Curv Reg SumResids": 0.0030210337477077,
         "Vel Reg R^2": 0.7178035369541069,
         "Vel Reg x0": 0.3868613508646795,
         "Vel Reg x1": 0.0008375780805166,
         "Vel Reg SumResids": 90.37277762403446,
         "VR Reg R^2": 0.6576860341181529,
         "VR Reg x0": 0.2121330370881524,
         "VR Reg x1": 0.0046152714395118,
         "VR Reg SumResids": 95.74171196123037,
         "CV Reg R^2": 0.6899927122178698,
         "CV Reg x0": 0.0069435767609845,
         "CV Reg x1": -0.0121049728672961,
         "CV Reg SumResids": 0.0118680366020209,
         "RT Reg R^2": 0.9951834255498356,
         "RT Reg x0": -8.188641115003293,
         "RT Reg x1": 10.490409865585764,
         "RT Reg SumResids": 2198.57035040719,
         "R Dot Mean": 0.0775885915070157,
         "R Dot STD": 0.0726887277972826,
         "T Dot Mean": 0.0071176248768629,
         "T Dot STD": 0.002058614083012,
         "R dotdot Mean": -0.0002896520892117,
         "R dotdot STD": 0.0031076574303296,
         "T dotdot Mean": -0.000002619860127140192,
         "T dotdot STD": 0.000004057685353349826,
         "drdtheta Mean": 10.610610240247482,
         "drdtheta STD": 9.597463701016922,
         "Pressure Rising Duration": 387,
         "Pressure Rising Range": 633,
         "Pressure Falling Duration": 50,
         "Pressure Falling Range": 822,
         "_deepnote_index_column": 0
        },
        {
         "dynamic Subject ID": "/work/ParkinsonHW/C_0002.txt",
         "Category": 0,
         "Mean Velocity": 0.5598232048154779,
         "Max Velocity": 1.0018122394495652,
         "Velocity Std": 0.1373628912251634,
         "NVV": 0.0002384649398604,
         "NIV": 0.0002854695974878,
         "Mean Acceleration": 0.0030907379534994,
         "Max Acceleration": 0.0067299957880214,
         "Accleration Std": 0.0010663032661195,
         "NIA": 0.0005709391949757,
         "Mean Jerk": 0.000031171801343008616,
         "Max Jerk": 0.0001149230014914,
         "Jerk Std": 0.000020787076371774284,
         "NIJ": 0.001060315647812,
         "Duration": 24521,
         "NIC": 0.0003262509685575,
         "Mean Pressure": 788.4505021520804,
         "Max Pressure": 827,
         "Pressure Std": 42.278467141352806,
         "Rate of Inversion in Pressure": 0.0377227682394682,
         "X Entropy": 89.11945290407924,
         "Y Entropy": 92.1977439645977,
         "X Skewness": 0.1106814624019808,
         "Y Skewness": 0.0808693567956338,
         "X Kurtosis": -0.754416173367249,
         "Y Kurtosis": -0.8703809578286426,
         "Vel Skewness": 0.3089811313197156,
         "Vel Kurtosis": -0.0721097081700392,
         "Accel Skewness": 0.7697019858802704,
         "Accel Kurtosis": 0.9141910353217622,
         "Jerk Skewness": 1.3566514722179417,
         "Jerk Kurtosis": 2.918294812001736,
         "Pressure Skewness": -6.644677698001658,
         "Pressure Kurtosis": 78.92476206239672,
         "Curvature Skewness": -1.6487247178837754,
         "Curvature Kurtosis": 2.355708999705288,
         "Pressure High Freq": 0.0598839395660145,
         "Pressure Low Freq": 0.9979692903722132,
         "Pressure Bandpass Freq": 1.024219378361382,
         "Altitude High Freq": 0.0790607535093605,
         "Altitude Low Freq": 0.9961953074346352,
         "Altitude Bandpass Freq": 1.1037792455198163,
         "Pressure Reg R^2": 0.1786692563402251,
         "Pressure Reg x0": 773.7655010702748,
         "Pressure Reg x1": 0.0108233503848375,
         "Pressure Reg SumResids": 63354.25051622798,
         "Curv Reg R^2": 0.9276942353976094,
         "Curv Reg x0": -0.0432041557381824,
         "Curv Reg x1": 0.0056964687690758,
         "Curv Reg SumResids": 0.0022028516482028,
         "Vel Reg R^2": 0.3621999727182942,
         "Vel Reg x0": 0.4167949934284298,
         "Vel Reg x1": 0.0003181940186586,
         "Vel Reg SumResids": 76.55904403872593,
         "VR Reg R^2": 0.3977428681783844,
         "VR Reg x0": 0.3261728377136619,
         "VR Reg x1": 0.0018867969534867,
         "VR Reg SumResids": 74.6063770588881,
         "CV Reg R^2": 0.5901734870680359,
         "CV Reg x0": 0.0067330674606894,
         "CV Reg x1": -0.0088528537884513,
         "CV Reg SumResids": 0.0124856851241918,
         "RT Reg R^2": 0.9963416656410076,
         "RT Reg x0": -35.34758695028992,
         "RT Reg x1": 10.373408043833145,
         "RT Reg SumResids": 1995.062107127604,
         "R Dot Mean": 0.0578405384611429,
         "R Dot STD": 0.0546593055930309,
         "T Dot Mean": 0.0052959181134593,
         "T Dot STD": 0.0020435889910334,
         "R dotdot Mean": -0.0001000781061604,
         "R dotdot STD": 0.0020190442365924,
         "T dotdot Mean": -0.0000021136747428350723,
         "T dotdot STD": 0.000001921866611763312,
         "drdtheta Mean": 10.803881390342791,
         "drdtheta STD": 11.1554287711129,
         "Pressure Rising Duration": 387,
         "Pressure Rising Range": 561,
         "Pressure Falling Duration": 43,
         "Pressure Falling Range": 713,
         "_deepnote_index_column": 1
        },
        {
         "dynamic Subject ID": "/work/ParkinsonHW/C_0003.txt",
         "Category": 0,
         "Mean Velocity": 0.5774741526510507,
         "Max Velocity": 0.8081428526924529,
         "Velocity Std": 0.1190648745311602,
         "NVV": 0.000141995160941,
         "NIV": 0.0002531004808909,
         "Mean Acceleration": 0.0028881601524501,
         "Max Acceleration": 0.0061523720486383,
         "Accleration Std": 0.0010914815331969,
         "NIA": 0.0004218341348181,
         "Mean Jerk": 0.000025698826183769124,
         "Max Jerk": 0.00007949368747756474,
         "Jerk Std": 0.00001810611246576854,
         "NIJ": 0.0007874237183272,
         "Duration": 35559,
         "NIC": 0.0002531004808909,
         "Mean Pressure": 843.5500126614332,
         "Max Pressure": 896,
         "Pressure Std": 58.96029062405797,
         "Rate of Inversion in Pressure": 0.0194043702016367,
         "X Entropy": 91.26062500274324,
         "Y Entropy": 97.22105985340087,
         "X Skewness": 0.1304519347179542,
         "Y Skewness": 0.0529483354035662,
         "X Kurtosis": -0.8914512370173049,
         "Y Kurtosis": -0.7887017475430311,
         "Vel Skewness": -0.2710208775592503,
         "Vel Kurtosis": -0.2713695661548305,
         "Accel Skewness": 0.5413395083604363,
         "Accel Kurtosis": 0.0491136912470473,
         "Jerk Skewness": 0.878308266219517,
         "Jerk Kurtosis": -0.0007781388644345,
         "Pressure Skewness": -5.759160694892287,
         "Pressure Kurtosis": 50.97470698348285,
         "Curvature Skewness": -1.6909460895037969,
         "Curvature Kurtosis": 2.323992843896762,
         "Pressure High Freq": 0.0356773960343741,
         "Pressure Low Freq": 0.9994165456700156,
         "Pressure Bandpass Freq": 1.0258023679781176,
         "Altitude High Freq": 0.0823946509275513,
         "Altitude Low Freq": 0.99577443624689,
         "Altitude Bandpass Freq": 1.1512469117376023,
         "Pressure Reg R^2": 0.3920661844749521,
         "Pressure Reg x0": 810.8600294633541,
         "Pressure Reg x1": 0.0199004365367146,
         "Pressure Reg SumResids": 80212.37011772027,
         "Curv Reg R^2": 0.8651795740432038,
         "Curv Reg x0": -0.035146518743161,
         "Curv Reg x1": 0.0045952748311717,
         "Curv Reg SumResids": 0.0028660130401268,
         "Vel Reg R^2": 0.2601769791458646,
         "Vel Reg x0": 0.4723999338480316,
         "Vel Reg x1": 0.0002337579951123,
         "Vel Reg SumResids": 70.36219628105253,
         "VR Reg R^2": 0.2842070869738041,
         "VR Reg x0": 0.3963362438239665,
         "VR Reg x1": 0.0012451540955734,
         "VR Reg SumResids": 69.12862008324018,
         "CV Reg R^2": 0.2647237429458926,
         "CV Reg x0": 0.001419436782289,
         "CV Reg x1": -0.0054232701279695,
         "CV Reg SumResids": 0.0156305049910464,
         "RT Reg R^2": 0.9975619945554848,
         "RT Reg x0": -11.985869687988648,
         "RT Reg x1": 11.839451593680144,
         "RT Reg SumResids": 1792.5385196667194,
         "R Dot Mean": 0.0567273033223604,
         "R Dot STD": 0.0590454791190417,
         "T Dot Mean": 0.0047494393997443,
         "T Dot STD": 0.0024250177354749,
         "R dotdot Mean": 0.0001798057804415,
         "R dotdot STD": 0.0035538520888201,
         "T dotdot Mean": -0.0000027007411551401862,
         "T dotdot STD": 0.0000028672517760135195,
         "drdtheta Mean": 11.830677446703936,
         "drdtheta STD": 12.358261032501003,
         "Pressure Rising Duration": 630,
         "Pressure Rising Range": 636,
         "Pressure Falling Duration": 54,
         "Pressure Falling Range": 682,
         "_deepnote_index_column": 2
        },
        {
         "dynamic Subject ID": "/work/ParkinsonHW/C_0004.txt",
         "Category": 0,
         "Mean Velocity": 0.6451120767981441,
         "Max Velocity": 1.1336607795601716,
         "Velocity Std": 0.1511339080237836,
         "NVV": 0.000250543724329,
         "NIV": 0.0003298930204062,
         "Mean Acceleration": 0.0040831319735335,
         "Max Acceleration": 0.0122963340880809,
         "Accleration Std": 0.0023178139916783,
         "NIA": 0.0007069136151562,
         "Mean Jerk": 0.00004861391058053295,
         "Max Jerk": 0.0002655873703773,
         "Jerk Std": 0.00004518869914971608,
         "NIJ": 0.0012253169329374,
         "Duration": 21219,
         "NIC": 0.0003770205947499,
         "Mean Pressure": 894.4257294429708,
         "Max Pressure": 932,
         "Pressure Std": 56.77315768465306,
         "Rate of Inversion in Pressure": 0.0378905697723738,
         "X Entropy": 75.12072181062901,
         "Y Entropy": 76.75448315902555,
         "X Skewness": 0.1578895468670251,
         "Y Skewness": 0.0162420184493522,
         "X Kurtosis": -0.8816944359298451,
         "Y Kurtosis": -1.0063058395125828,
         "Vel Skewness": 0.6964755215701243,
         "Vel Kurtosis": 1.4443823485129537,
         "Accel Skewness": 1.4851692868839772,
         "Accel Kurtosis": 2.849468818096696,
         "Jerk Skewness": 2.60805256619712,
         "Jerk Kurtosis": 7.013961673294464,
         "Pressure Skewness": -6.862413158719722,
         "Pressure Kurtosis": 67.54734571926352,
         "Curvature Skewness": -1.543220428608539,
         "Curvature Kurtosis": 1.8698753619824655,
         "Pressure High Freq": 0.071111314691405,
         "Pressure Low Freq": 0.997331434863943,
         "Pressure Bandpass Freq": 1.030194577436675,
         "Altitude High Freq": 0.0905197677904336,
         "Altitude Low Freq": 0.9948940680903628,
         "Altitude Bandpass Freq": 1.0782667783478486,
         "Pressure Reg R^2": 0.024097205700673,
         "Pressure Reg x0": 908.5781792686878,
         "Pressure Reg x1": -0.0043032384576645,
         "Pressure Reg SumResids": 47664.22783251535,
         "Curv Reg R^2": 0.8476833241835063,
         "Curv Reg x0": -0.0331571994080827,
         "Curv Reg x1": 0.0041843951131156,
         "Curv Reg SumResids": 0.0027402168328004,
         "Vel Reg R^2": 0.0102571237106613,
         "Vel Reg x0": 0.6186299544915714,
         "Vel Reg x1": 0.00005891462137168578,
         "Vel Reg SumResids": 100.65653845397983,
         "VR Reg R^2": 0.0097073937829279,
         "VR Reg x0": 0.5978788521932685,
         "VR Reg x1": 0.0003540818033393,
         "VR Reg SumResids": 100.6579293824464,
         "CV Reg R^2": 0.0051579179531225,
         "CV Reg x0": -0.0075457232469342,
         "CV Reg x1": -0.000800792112707,
         "CV Reg SumResids": 0.0178974692336863,
         "RT Reg R^2": 0.9946377590671864,
         "RT Reg x0": -11.581614907426165,
         "RT Reg x1": 10.334936048922057,
         "RT Reg SumResids": 2079.021611029724,
         "R Dot Mean": 0.0650180830661026,
         "R Dot STD": 0.0785286860639923,
         "T Dot Mean": 0.00598006634751,
         "T Dot STD": 0.0034896422634233,
         "R dotdot Mean": -0.0001226334245577,
         "R dotdot STD": 0.0033382604947647,
         "T dotdot Mean": -0.000004872425115886292,
         "T dotdot STD": 0.000005116016141451752,
         "drdtheta Mean": 10.40455739135136,
         "drdtheta STD": 15.273382279197822,
         "Pressure Rising Duration": 626,
         "Pressure Rising Range": 733,
         "Pressure Falling Duration": 42,
         "Pressure Falling Range": 802,
         "_deepnote_index_column": 3
        },
        {
         "dynamic Subject ID": "/work/ParkinsonHW/C_0005.txt",
         "Category": 0,
         "Mean Velocity": 0.9959012674444424,
         "Max Velocity": 1.9761794641905572,
         "Velocity Std": 0.3445744669752676,
         "NVV": 0.0002033676826551,
         "NIV": 0.0003600748955782,
         "Mean Acceleration": 0.0090177925798393,
         "Max Acceleration": 0.0188442215255904,
         "Accleration Std": 0.0031999725739897,
         "NIA": 0.0005761198329252,
         "Mean Jerk": 0.00009381911286165988,
         "Max Jerk": 0.0003550350486611,
         "Jerk Std": 0.00005522360480486535,
         "NIJ": 0.0009361947285035,
         "Duration": 13886,
         "NIC": 0.0004320898746939,
         "Mean Pressure": 917.3485309017224,
         "Max Pressure": 1013,
         "Pressure Std": 84.20098323584041,
         "Rate of Inversion in Pressure": 0.0374477891401411,
         "X Entropy": 52.1798569294004,
         "Y Entropy": 53.07632385715871,
         "X Skewness": 0.1744419949176724,
         "Y Skewness": 0.1065686046703207,
         "X Kurtosis": -0.5773166756140427,
         "Y Kurtosis": -0.6931195988227121,
         "Vel Skewness": 0.7358685370821128,
         "Vel Kurtosis": 0.2732194223792761,
         "Accel Skewness": 1.404446656944791,
         "Accel Kurtosis": 1.3264717398794057,
         "Jerk Skewness": 1.1614992271565947,
         "Jerk Kurtosis": 1.765274235761629,
         "Pressure Skewness": -3.025142756921017,
         "Pressure Kurtosis": 16.322731275124944,
         "Curvature Skewness": -2.1974663380974606,
         "Curvature Kurtosis": 6.094969595863407,
         "Pressure High Freq": 0.0311276399039202,
         "Pressure Low Freq": 0.9994415810534352,
         "Pressure Bandpass Freq": 1.0147868808945255,
         "Altitude High Freq": 0.1267061678763776,
         "Altitude Low Freq": 0.9903584075917504,
         "Altitude Bandpass Freq": 1.241522249990279,
         "Pressure Reg R^2": 0.4208997469182415,
         "Pressure Reg x0": 866.5723435634287,
         "Pressure Reg x1": 0.0670055172715795,
         "Pressure Reg SumResids": 67879.78271752741,
         "Curv Reg R^2": 0.921141299440262,
         "Curv Reg x0": -0.0544612083274454,
         "Curv Reg x1": 0.0074289605069328,
         "Curv Reg SumResids": 0.0041151455975793,
         "Vel Reg R^2": 0.7659440380316906,
         "Vel Reg x0": 0.4741545915929818,
         "Vel Reg x1": 0.0011607267538408,
         "Vel Reg SumResids": 113.9267631127911,
         "VR Reg R^2": 0.716625591790113,
         "VR Reg x0": 0.2737777922322899,
         "VR Reg x1": 0.0061355582157812,
         "VR Reg SumResids": 128.89034992243646,
         "CV Reg R^2": 0.8043375335149449,
         "CV Reg x0": 0.0081529824871621,
         "CV Reg x1": -0.0172298413855306,
         "CV Reg SumResids": 0.0102104083868025,
         "RT Reg R^2": 0.9955409715509176,
         "RT Reg x0": -2.3738715390732814,
         "RT Reg x1": 10.661323939497908,
         "RT Reg SumResids": 2240.6361768104275,
         "R Dot Mean": 0.1017523467315719,
         "R Dot STD": 0.0822423600637304,
         "T Dot Mean": 0.0093618990825235,
         "T Dot STD": 0.0026551558384918,
         "R dotdot Mean": -0.0004611554296528,
         "R dotdot STD": 0.0030062028239034,
         "T dotdot Mean": -0.000005747966292667366,
         "T dotdot STD": 0.000006414124368756936,
         "drdtheta Mean": 10.601360428132988,
         "drdtheta STD": 8.134354085400723,
         "Pressure Rising Duration": 584,
         "Pressure Rising Range": 652,
         "Pressure Falling Duration": 50,
         "Pressure Falling Range": 733,
         "_deepnote_index_column": 4
        },
        {
         "dynamic Subject ID": "/work/ParkinsonHW/C_0006.txt",
         "Category": 0,
         "Mean Velocity": 0.7226712896847615,
         "Max Velocity": 1.3258700990835697,
         "Velocity Std": 0.1985491662371883,
         "NVV": 0.0001571003982834,
         "NIV": 0.0002640054913142,
         "Mean Acceleration": 0.0048315063933169,
         "Max Acceleration": 0.010198683658101,
         "Accleration Std": 0.0014448175205653,
         "NIA": 0.0005280109826284,
         "Mean Jerk": 0.00004020893955919232,
         "Max Jerk": 0.0001153853919513,
         "Jerk Std": 0.00002191663902870157,
         "NIJ": 0.0009504197687311,
         "Duration": 18939,
         "NIC": 0.000316806589577,
         "Mean Pressure": 839.0910104011887,
         "Max Pressure": 897,
         "Pressure Std": 54.22182406076783,
         "Rate of Inversion in Pressure": 0.0321558688420719,
         "X Entropy": 70.35630332360698,
         "Y Entropy": 72.93309163944161,
         "X Skewness": 0.18995526382689,
         "Y Skewness": 0.0319963591347766,
         "X Kurtosis": -0.6290342778469791,
         "Y Kurtosis": -0.7957795339320426,
         "Vel Skewness": 0.4818607434652291,
         "Vel Kurtosis": 0.893797454309758,
         "Accel Skewness": 1.2383788897992116,
         "Accel Kurtosis": 2.1340830989997626,
         "Jerk Skewness": 0.6521270569585623,
         "Jerk Kurtosis": 0.0108330594250554,
         "Pressure Skewness": -3.4966458669165177,
         "Pressure Kurtosis": 20.166263696054585,
         "Curvature Skewness": -2.0157581172887804,
         "Curvature Kurtosis": 4.6890764414481545,
         "Pressure High Freq": 0.0404334234345372,
         "Pressure Low Freq": 0.9999072455786026,
         "Pressure Bandpass Freq": 1.017306191923015,
         "Altitude High Freq": 0.1178696471012222,
         "Altitude Low Freq": 0.9916278034741696,
         "Altitude Bandpass Freq": 1.034483712275111,
         "Pressure Reg R^2": 0.1277900911210207,
         "Pressure Reg x0": 823.6417474543722,
         "Pressure Reg x1": 0.0169346596983968,
         "Pressure Reg SumResids": 68968.59312515378,
         "Curv Reg R^2": 0.8567892608453502,
         "Curv Reg x0": -0.0487220041921657,
         "Curv Reg x1": 0.006524737144207,
         "Curv Reg SumResids": 0.0061977400474402,
         "Vel Reg R^2": 0.6156488164899494,
         "Vel Reg x0": 0.4531378399192184,
         "Vel Reg x1": 0.0005996294766752,
         "Vel Reg SumResids": 90.90041449145622,
         "VR Reg R^2": 0.6578403143308197,
         "VR Reg x0": 0.3156859649918664,
         "VR Reg x1": 0.0033889382431511,
         "VR Reg SumResids": 83.4920424618839,
         "CV Reg R^2": 0.7963771489789315,
         "CV Reg x0": 0.0082906793558672,
         "CV Reg x1": -0.0127060192131089,
         "CV Reg SumResids": 0.0088121987624436,
         "RT Reg R^2": 0.9968842014754662,
         "RT Reg x0": -4.957391760271065,
         "RT Reg x1": 10.536484631463331,
         "RT Reg SumResids": 1838.9261564932724,
         "R Dot Mean": 0.0745137104771632,
         "R Dot STD": 0.0564954526612909,
         "T Dot Mean": 0.0069337438035672,
         "T Dot STD": 0.0023922918907481,
         "R dotdot Mean": -0.0001814118376409,
         "R dotdot STD": 0.0025354980569246,
         "T dotdot Mean": -0.000003425213236043937,
         "T dotdot STD": 0.0000030971472336010267,
         "drdtheta Mean": 10.695487736975522,
         "drdtheta STD": 9.33296361298944,
         "Pressure Rising Duration": 528,
         "Pressure Rising Range": 368,
         "Pressure Falling Duration": 35,
         "Pressure Falling Range": 454,
         "_deepnote_index_column": 5
        }
       ],
       "rows_bottom": [
        {
         "dynamic Subject ID": "/work/ParkinsonHW/H_P000-0040.txt",
         "Category": 1,
         "Mean Velocity": 3.478984188526566,
         "Max Velocity": 5.108364001608811,
         "Velocity Std": 0.8967677348623061,
         "NVV": 0.0016042776838368,
         "NIV": 0.0024752475247524,
         "Mean Acceleration": 0.1249197579615513,
         "Max Acceleration": 0.2485613152098607,
         "Accleration Std": 0.0413946694291475,
         "NIA": 0.0034653465346534,
         "Mean Jerk": 0.0070948513534057,
         "Max Jerk": 0.0197101301037147,
         "Jerk Std": 0.0041123848466956,
         "NIJ": 0.0051980198019801,
         "Duration": 4040,
         "NIC": 0.0017326732673267,
         "Mean Pressure": 727.6991304347827,
         "Max Pressure": 839,
         "Pressure Std": 100.45170113100832,
         "Rate of Inversion in Pressure": 0.0133663366336633,
         "X Entropy": 15.028045156392537,
         "Y Entropy": 15.882661927482305,
         "X Skewness": 0.3218724958178932,
         "Y Skewness": 0.0518006026384696,
         "X Kurtosis": -0.6003131074491876,
         "Y Kurtosis": -0.6947268073005275,
         "Vel Skewness": -0.6661398413284499,
         "Vel Kurtosis": -0.274043104385524,
         "Accel Skewness": 0.164846153149416,
         "Accel Kurtosis": 0.1953579902446716,
         "Jerk Skewness": 0.9871427736423062,
         "Jerk Kurtosis": 0.2608126132700663,
         "Pressure Skewness": -2.88429712352166,
         "Pressure Kurtosis": 11.133245553871362,
         "Curvature Skewness": -2.7268547293854613,
         "Curvature Kurtosis": 9.382048329340622,
         "Pressure High Freq": 0.1563881880504217,
         "Pressure Low Freq": 0.959573194284882,
         "Pressure Bandpass Freq": 1.1334268611655631,
         "Altitude High Freq": 0.2304170924332742,
         "Altitude Low Freq": 0.9555169492524402,
         "Altitude Bandpass Freq": 1.1009787420688533,
         "Pressure Reg R^2": 0.3462126738957384,
         "Pressure Reg x0": 688.8750773036486,
         "Pressure Reg x1": 0.2154501543773975,
         "Pressure Reg SumResids": 19768.679559420896,
         "Curv Reg R^2": 0.6484259134862286,
         "Curv Reg x0": -0.0739663778864721,
         "Curv Reg x1": 0.0104452283843252,
         "Curv Reg SumResids": 0.0515226413878965,
         "Vel Reg R^2": 0.3939440011356886,
         "Vel Reg x0": 2.5051717942996987,
         "Vel Reg x1": 0.0021664346923845,
         "Vel Reg SumResids": 498.5342844244561,
         "VR Reg R^2": 0.3978081914579768,
         "VR Reg x0": 2.151935536862065,
         "VR Reg x1": 0.0110563481397345,
         "VR Reg SumResids": 497.27768107577066,
         "CV Reg R^2": 0.3749676022771636,
         "CV Reg x0": 0.0069516461799882,
         "CV Reg x1": -0.0639918940314292,
         "CV Reg SumResids": 0.0915975361068864,
         "RT Reg R^2": 0.9703137951979912,
         "RT Reg x0": -95.961717121484,
         "RT Reg x1": 10.16978073554192,
         "RT Reg SumResids": 6526.369980876355,
         "R Dot Mean": 0.3687314662564185,
         "R Dot STD": 0.9583532727452194,
         "T Dot Mean": 0.0383695164469809,
         "T Dot STD": 0.0278593001202171,
         "R dotdot Mean": 0.0027411003285607,
         "R dotdot STD": 0.2288965919100822,
         "T dotdot Mean": -0.000243195506344,
         "T dotdot STD": 0.0002645193372802,
         "drdtheta Mean": 54.46441772728668,
         "drdtheta STD": 720.5642099338418,
         "Pressure Rising Duration": 204,
         "Pressure Rising Range": 507,
         "Pressure Falling Duration": 43,
         "Pressure Falling Range": 767,
         "_deepnote_index_column": 70
        },
        {
         "dynamic Subject ID": "/work/ParkinsonHW/P_26060007.txt",
         "Category": 1,
         "Mean Velocity": 0.7666459743492611,
         "Max Velocity": 2.0734360093673314,
         "Velocity Std": 0.3786682587520519,
         "NVV": 0.000395755160021,
         "NIV": 0.0006415739948674,
         "Mean Acceleration": 0.0060189797273164,
         "Max Acceleration": 0.0228586780308759,
         "Accleration Std": 0.0037730003518559,
         "NIA": 0.0009267179925862,
         "Mean Jerk": 0.0001438397580315,
         "Max Jerk": 0.0009995787084882,
         "Jerk Std": 0.0001352354097012,
         "NIJ": 0.0015682919874536,
         "Duration": 28056,
         "NIC": 0.0002138579982891,
         "Mean Pressure": 413.2178571428572,
         "Max Pressure": 547,
         "Pressure Std": 109.39284743863668,
         "Rate of Inversion in Pressure": 0.006415739948674,
         "X Entropy": 67.75539744862438,
         "Y Entropy": 90.26757127032327,
         "X Skewness": 0.1235766188973356,
         "Y Skewness": -0.0619106412474161,
         "X Kurtosis": -0.5500830832613253,
         "Y Kurtosis": -0.650629366098106,
         "Vel Skewness": 0.8490666066617821,
         "Vel Kurtosis": 0.3722546884498592,
         "Accel Skewness": 1.8061950272352376,
         "Accel Kurtosis": 4.567493455491903,
         "Jerk Skewness": 2.8709636436763586,
         "Jerk Kurtosis": 11.214167908694987,
         "Pressure Skewness": -1.7659519600322646,
         "Pressure Kurtosis": 2.12678773670575,
         "Curvature Skewness": -1.917543013506312,
         "Curvature Kurtosis": 3.89630837676344,
         "Pressure High Freq": 0.0165662032759582,
         "Pressure Low Freq": 0.999756957295484,
         "Pressure Bandpass Freq": 1.0159107045248987,
         "Altitude High Freq": 0.0956185725732259,
         "Altitude Low Freq": 0.994232853813098,
         "Altitude Bandpass Freq": 1.0453681418165213,
         "Pressure Reg R^2": 0.5278004182572547,
         "Pressure Reg x0": 405.8831268876454,
         "Pressure Reg x1": 0.0374792568559088,
         "Pressure Reg SumResids": 53506.47883498258,
         "Curv Reg R^2": 0.8145438438300702,
         "Curv Reg x0": -0.0487910464409117,
         "Curv Reg x1": 0.0066703039454364,
         "Curv Reg SumResids": 0.008823152397721,
         "Vel Reg R^2": 0.7098412637777821,
         "Vel Reg x0": 0.214673270902201,
         "Vel Reg x1": 0.001227970419237,
         "Vel Reg SumResids": 140.71765416556016,
         "VR Reg R^2": 0.6130449503815689,
         "VR Reg x0": 0.0641145421697981,
         "VR Reg x1": 0.0053071633298578,
         "VR Reg SumResids": 159.93630904297228,
         "CV Reg R^2": 0.3139259947155699,
         "CV Reg x0": -0.0029101000887599,
         "CV Reg x1": -0.0042358953622211,
         "CV Reg SumResids": 0.0326402510962907,
         "RT Reg R^2": 0.9196220210196528,
         "RT Reg x0": -7.106373280145533,
         "RT Reg x1": 12.337893919103928,
         "RT Reg SumResids": 11614.762476597649,
         "R Dot Mean": 0.083431464136065,
         "R Dot STD": 0.206426012970058,
         "T Dot Mean": 0.0059925995662411,
         "T Dot STD": 0.0012973004727315,
         "R dotdot Mean": -0.0003383332068824,
         "R dotdot STD": 0.0150330546597183,
         "T dotdot Mean": -0.0000016118539013787738,
         "T dotdot STD": 0.0000032418611013683984,
         "drdtheta Mean": 13.6395523702504,
         "drdtheta STD": 35.13256662224401,
         "Pressure Rising Duration": 4394,
         "Pressure Rising Range": 326,
         "Pressure Falling Duration": 63,
         "Pressure Falling Range": 424,
         "_deepnote_index_column": 71
        },
        {
         "dynamic Subject ID": "/work/ParkinsonHW/H_P000-0035.txt",
         "Category": 1,
         "Mean Velocity": 2.0260799771922016,
         "Max Velocity": 9.3735997899092,
         "Velocity Std": 1.2242935339512997,
         "NVV": 0.0174089773507091,
         "NIV": 0.0086553108987674,
         "Mean Acceleration": 0.4310464380296317,
         "Max Acceleration": 2.685502796748421,
         "Accleration Std": 0.4031419316144657,
         "NIA": 0.0108710704888519,
         "Mean Jerk": 0.1330525149855995,
         "Max Jerk": 0.9994131149279842,
         "Jerk Std": 0.1377734329803398,
         "NIJ": 0.0121866777454646,
         "Duration": 14442,
         "NIC": 0.0015925772053732,
         "Mean Pressure": 726.0825013137152,
         "Max Pressure": 886,
         "Pressure Std": 127.85669207557964,
         "Rate of Inversion in Pressure": 0.0266583575682038,
         "X Entropy": 48.15291763685271,
         "Y Entropy": 50.19425714592772,
         "X Skewness": 0.0071304947460409,
         "Y Skewness": -0.0197110668650574,
         "X Kurtosis": -0.7094838346142067,
         "Y Kurtosis": -1.1978618905024856,
         "Vel Skewness": 1.5731868087970746,
         "Vel Kurtosis": 3.969266605390331,
         "Accel Skewness": 1.9129723821121505,
         "Accel Kurtosis": 4.683279799295984,
         "Jerk Skewness": 2.129637834826992,
         "Jerk Kurtosis": 5.913662753033121,
         "Pressure Skewness": -1.8164598782831969,
         "Pressure Kurtosis": 4.583386764132874,
         "Curvature Skewness": 19.707224023083626,
         "Curvature Kurtosis": 465.3578062643842,
         "Pressure High Freq": 0.0838167864309686,
         "Pressure Low Freq": 0.9883082852594366,
         "Pressure Bandpass Freq": 0.999113092683344,
         "Altitude High Freq": 0.216851244263858,
         "Altitude Low Freq": 0.9629676576618388,
         "Altitude Bandpass Freq": 1.016146151268478,
         "Pressure Reg R^2": 0.0484511887709916,
         "Pressure Reg x0": 683.4090106917882,
         "Pressure Reg x1": 0.0615351059190393,
         "Pressure Reg SumResids": 116872.70897119892,
         "Curv Reg R^2": 0.0041698494821676,
         "Curv Reg x0": -0.0825281573550473,
         "Curv Reg x1": 0.0132119466013265,
         "Curv Reg SumResids": 36.3081617305546,
         "Vel Reg R^2": 0.0449834753768844,
         "Vel Reg x0": 1.576827856056139,
         "Vel Reg x1": 0.0009994485453527,
         "Vel Reg SumResids": 798.8821518791599,
         "VR Reg R^2": 0.0250106101566077,
         "VR Reg x0": 1.5107790140708754,
         "VR Reg x1": 0.0039270599138681,
         "VR Reg SumResids": 803.5675071662525,
         "CV Reg R^2": 0.0011467653416973,
         "CV Reg x0": 0.0024166449809946,
         "CV Reg x1": -0.0113115410589403,
         "CV Reg SumResids": 36.418383968594085,
         "RT Reg R^2": 0.924780375340101,
         "RT Reg x0": -87.09441279447276,
         "RT Reg x1": 7.526458243331824,
         "RT Reg SumResids": 8923.422316491235,
         "R Dot Mean": 0.1006557847168646,
         "R Dot STD": 2.492143404761657,
         "T Dot Mean": 0.0156823726093052,
         "T Dot STD": 0.0128629334833349,
         "R dotdot Mean": -0.0135301925553114,
         "R dotdot STD": 1.3862490544431694,
         "T dotdot Mean": -0.00003268952847886121,
         "T dotdot STD": 0.000038432467468000704,
         "drdtheta Mean": 27.09377009228352,
         "drdtheta STD": 322.8253806500247,
         "Pressure Rising Duration": 614,
         "Pressure Rising Range": 398,
         "Pressure Falling Duration": 3884,
         "Pressure Falling Range": 363,
         "_deepnote_index_column": 72
        },
        {
         "dynamic Subject ID": "/work/ParkinsonHW/H_p000-0018.txt",
         "Category": 1,
         "Mean Velocity": 0.4526173486333977,
         "Max Velocity": 0.8015719640110148,
         "Velocity Std": 0.1690989438697114,
         "NVV": 0.0006368059585194,
         "NIV": 0.0007187050809324,
         "Mean Acceleration": 0.0037210522166615,
         "Max Acceleration": 0.0186961739665534,
         "Accleration Std": 0.0027385430019759,
         "NIA": 0.0011561777388913,
         "Mean Jerk": 0.0001045358735585,
         "Max Jerk": 0.0008388961171233,
         "Jerk Std": 0.0001059555927019,
         "NIJ": 0.0017498906318355,
         "Duration": 32002,
         "NIC": 0.0003437285169676,
         "Mean Pressure": 666.5604661389622,
         "Max Pressure": 751,
         "Pressure Std": 65.25410781391545,
         "Rate of Inversion in Pressure": 0.0294981563652271,
         "X Entropy": 112.533412716602,
         "Y Entropy": 124.33607051668235,
         "X Skewness": 0.4103384212110789,
         "Y Skewness": -0.0055661644556115,
         "X Kurtosis": -0.6138932030108823,
         "Y Kurtosis": -0.7515650001157144,
         "Vel Skewness": 0.0097396915859517,
         "Vel Kurtosis": -0.7323459063925686,
         "Accel Skewness": 2.1701494947165445,
         "Accel Kurtosis": 7.574375048482317,
         "Jerk Skewness": 3.280328377125584,
         "Jerk Kurtosis": 14.646928952889692,
         "Pressure Skewness": -3.5434038912920167,
         "Pressure Kurtosis": 21.090026427487004,
         "Curvature Skewness": -0.7528056475735212,
         "Curvature Kurtosis": 2.109498800377877,
         "Pressure High Freq": 0.0361285596971567,
         "Pressure Low Freq": 0.9992958292270934,
         "Pressure Bandpass Freq": 1.0180847975784055,
         "Altitude High Freq": 0.1814743550288558,
         "Altitude Low Freq": 0.979005577091544,
         "Altitude Bandpass Freq": 1.2081562378957125,
         "Pressure Reg R^2": 0.7973911398627718,
         "Pressure Reg x0": 608.9206764616541,
         "Pressure Reg x1": 0.0293649804342423,
         "Pressure Reg SumResids": 65054.49256145678,
         "Curv Reg R^2": 0.4951893759655784,
         "Curv Reg x0": -0.0387814635954218,
         "Curv Reg x1": 0.0050231624513838,
         "Curv Reg SumResids": 0.0224035768436653,
         "Vel Reg R^2": 0.1928178697523058,
         "Vel Reg x0": 0.324150043754203,
         "Vel Reg x1": 0.0002858004557935,
         "Vel Reg SumResids": 112.09881507111578,
         "VR Reg R^2": 0.21231831763891,
         "VR Reg x0": 0.2256602891278936,
         "VR Reg x1": 0.0018066413460032,
         "VR Reg SumResids": 111.10429258680416,
         "CV Reg R^2": 0.0154943408043423,
         "CV Reg x0": -0.0080998628026691,
         "CV Reg x1": -0.0005601282795161,
         "CV Reg SumResids": 0.0436925198058219,
         "RT Reg R^2": 0.9676130189869924,
         "RT Reg x0": -39.177934949418535,
         "RT Reg x1": 9.390451160352487,
         "RT Reg SumResids": 5310.556989606844,
         "R Dot Mean": 0.0489764533479687,
         "R Dot STD": 0.1303470521742372,
         "T Dot Mean": 0.0043690102532734,
         "T Dot STD": 0.0026457107933544,
         "R dotdot Mean": -0.0002131755473745,
         "R dotdot STD": 0.0154252175730581,
         "T dotdot Mean": -0.000003099458019530156,
         "T dotdot STD": 0.000003817746319817386,
         "drdtheta Mean": 18.97263031966785,
         "drdtheta STD": 70.52785221744101,
         "Pressure Rising Duration": 767,
         "Pressure Rising Range": 490,
         "Pressure Falling Duration": 42,
         "Pressure Falling Range": 585,
         "_deepnote_index_column": 73
        },
        {
         "dynamic Subject ID": "/work/ParkinsonHW/P_23100002.txt",
         "Category": 1,
         "Mean Velocity": 0.6352836700688589,
         "Max Velocity": 1.069605064294343,
         "Velocity Std": 0.1612621288950542,
         "NVV": 0.0001910418578388,
         "NIV": 0.0002742167683553,
         "Mean Acceleration": 0.0038229007362564,
         "Max Acceleration": 0.0068188620888492,
         "Accleration Std": 0.0014078430303812,
         "NIA": 0.0005484335367107,
         "Mean Jerk": 0.00004124040008074799,
         "Max Jerk": 0.0001394403519393,
         "Jerk Std": 0.000027876632625690405,
         "NIJ": 0.0009940357852882,
         "Duration": 29174,
         "NIC": 0.0002399396723109,
         "Mean Pressure": 941.3274691358024,
         "Max Pressure": 1023,
         "Pressure Std": 90.99283575659582,
         "Rate of Inversion in Pressure": 0.0328717351066017,
         "X Entropy": 79.76474933085511,
         "Y Entropy": 87.61347288993056,
         "X Skewness": 0.1051436480987111,
         "Y Skewness": 0.0369935548565437,
         "X Kurtosis": -0.7650974565767363,
         "Y Kurtosis": -0.8621246597402239,
         "Vel Skewness": 0.8399960053800853,
         "Vel Kurtosis": 0.0771386082394167,
         "Accel Skewness": 0.1146112301750418,
         "Accel Kurtosis": -0.791094909056941,
         "Jerk Skewness": 0.978976833017916,
         "Jerk Kurtosis": 0.7374702918196689,
         "Pressure Skewness": -3.624117870807098,
         "Pressure Kurtosis": 18.32258637681823,
         "Curvature Skewness": -1.7925231897389544,
         "Curvature Kurtosis": 2.648892469307591,
         "Pressure High Freq": 0.0450530596317052,
         "Pressure Low Freq": 0.9988602973125736,
         "Pressure Bandpass Freq": 1.00874301220639,
         "Altitude High Freq": 0.1338082374319334,
         "Altitude Low Freq": 0.9894774035620008,
         "Altitude Bandpass Freq": 1.0928332098008953,
         "Pressure Reg R^2": 0.7020261733532811,
         "Pressure Reg x0": 886.4721398001601,
         "Pressure Reg x1": 0.0457238114514459,
         "Pressure Reg SumResids": 67476.03534060551,
         "Curv Reg R^2": 0.9003400485305345,
         "Curv Reg x0": -0.04322777104613,
         "Curv Reg x1": 0.005722123384885,
         "Curv Reg SumResids": 0.0031567070724533,
         "Vel Reg R^2": 0.4870090564422072,
         "Vel Reg x0": 0.4405778267718033,
         "Vel Reg x1": 0.0004331609417064,
         "Vel Reg SumResids": 82.97960060389923,
         "VR Reg R^2": 0.5019374853678324,
         "VR Reg x0": 0.3218607779345553,
         "VR Reg x1": 0.0024725627108879,
         "VR Reg SumResids": 83.34932243081988,
         "CV Reg R^2": 0.4540715551342479,
         "CV Reg x0": 0.0072150033253403,
         "CV Reg x1": -0.0103138857031835,
         "CV Reg SumResids": 0.0172921635777554,
         "RT Reg R^2": 0.9862830574243202,
         "RT Reg x0": -38.267578775668085,
         "RT Reg x1": 10.303990478498491,
         "RT Reg SumResids": 3828.39748550012,
         "R Dot Mean": 0.0638535700176774,
         "R Dot STD": 0.0858401561644802,
         "T Dot Mean": 0.0062131025624955,
         "T Dot STD": 0.0038203817221823,
         "R dotdot Mean": 0.000037226669866594566,
         "R dotdot STD": 0.0043292399856449,
         "T dotdot Mean": -0.000005828152411320359,
         "T dotdot STD": 0.0000071095749750334045,
         "drdtheta Mean": 12.684680689650616,
         "drdtheta STD": 32.778074130719986,
         "Pressure Rising Duration": 1342,
         "Pressure Rising Range": 632,
         "Pressure Falling Duration": 63,
         "Pressure Falling Range": 871,
         "_deepnote_index_column": 74
        },
        {
         "dynamic Subject ID": "/work/ParkinsonHW/H_P000-0032.txt",
         "Category": 1,
         "Mean Velocity": 1.5563398292459436,
         "Max Velocity": 2.273900637599151,
         "Velocity Std": 0.3075467868272773,
         "NVV": 0.0005504514232572,
         "NIV": 0.0014452473596442,
         "Mean Acceleration": 0.0235932992047106,
         "Max Acceleration": 0.0457539602644137,
         "Accleration Std": 0.0099910350983338,
         "NIA": 0.001556420233463,
         "Mean Jerk": 0.0006757148310593,
         "Max Jerk": 0.0018825754488523,
         "Jerk Std": 0.0003904380920959,
         "NIJ": 0.0026681489716509,
         "Duration": 8995,
         "NIC": 0.0006670372429127,
         "Mean Pressure": 795.0742767787334,
         "Max Pressure": 902,
         "Pressure Std": 107.42386049805202,
         "Rate of Inversion in Pressure": 0.0215675375208449,
         "X Entropy": 32.025754885018415,
         "Y Entropy": 33.96295673192914,
         "X Skewness": -0.0807465344633,
         "Y Skewness": -0.0584797795492148,
         "X Kurtosis": -0.7784615705720492,
         "Y Kurtosis": -0.9586529722887228,
         "Vel Skewness": 0.1811679011993723,
         "Vel Kurtosis": -0.6293510351927094,
         "Accel Skewness": 0.1201124947536475,
         "Accel Kurtosis": -0.8641085367623647,
         "Jerk Skewness": 0.7797857819361944,
         "Jerk Kurtosis": 0.3341645383048659,
         "Pressure Skewness": -2.973665780766296,
         "Pressure Kurtosis": 12.901612213247688,
         "Curvature Skewness": -1.7815030841691557,
         "Curvature Kurtosis": 3.057598217023677,
         "Pressure High Freq": 0.0272206268449444,
         "Pressure Low Freq": 0.9995531760752536,
         "Pressure Bandpass Freq": 1.0728201317530377,
         "Altitude High Freq": 0.1158659080882299,
         "Altitude Low Freq": 0.9912003522841112,
         "Altitude Bandpass Freq": 0.9975223311920174,
         "Pressure Reg R^2": 0.6166033209453252,
         "Pressure Reg x0": 718.0664805715054,
         "Pressure Reg x1": 0.1509622779717938,
         "Pressure Reg SumResids": 39049.13451872152,
         "Curv Reg R^2": 0.8447488626868053,
         "Curv Reg x0": -0.0449963253646914,
         "Curv Reg x1": 0.0060076641090125,
         "Curv Reg SumResids": 0.0057772904914951,
         "Vel Reg R^2": 0.0758662117078465,
         "Vel Reg x0": 1.4097804992174003,
         "Vel Reg x1": 0.0003260496774828,
         "Vel Reg SumResids": 213.56615989115775,
         "VR Reg R^2": 0.1442345830208572,
         "VR Reg x0": 1.2301200975441846,
         "VR Reg x1": 0.0025166575550626,
         "VR Reg SumResids": 201.38433250987777,
         "CV Reg R^2": 0.2455760746468072,
         "CV Reg x0": 0.0052644134552653,
         "CV Reg x1": -0.0229738489123366,
         "CV Reg SumResids": 0.0280740369824588,
         "RT Reg R^2": 0.9657671422668148,
         "RT Reg x0": -15.300081045053515,
         "RT Reg x1": 10.493377543920342,
         "RT Reg SumResids": 6560.77116617822,
         "R Dot Mean": 0.1424099802130473,
         "R Dot STD": 0.3515589644340146,
         "T Dot Mean": 0.0146101816973784,
         "T Dot STD": 0.0076567622391809,
         "R dotdot Mean": -0.0036511893932209,
         "R dotdot STD": 0.0431777851209395,
         "T dotdot Mean": -0.00002631091695658717,
         "T dotdot STD": 0.0000253717219444839,
         "drdtheta Mean": 7.71265326181005,
         "drdtheta STD": 37.28405063072134,
         "Pressure Rising Duration": 324,
         "Pressure Rising Range": 555,
         "Pressure Falling Duration": 35,
         "Pressure Falling Range": 582,
         "_deepnote_index_column": 75
        }
       ]
      },
      "text/plain": "                   dynamic Subject ID  Category  Mean Velocity  Max Velocity  \\\n0        /work/ParkinsonHW/C_0001.txt         0       0.763353      1.508147   \n1        /work/ParkinsonHW/C_0002.txt         0       0.559823      1.001812   \n2        /work/ParkinsonHW/C_0003.txt         0       0.577474      0.808143   \n3        /work/ParkinsonHW/C_0004.txt         0       0.645112      1.133661   \n4        /work/ParkinsonHW/C_0005.txt         0       0.995901      1.976179   \n..                                ...       ...            ...           ...   \n71   /work/ParkinsonHW/P_26060007.txt         1       0.766646      2.073436   \n72  /work/ParkinsonHW/H_P000-0035.txt         1       2.026080      9.373600   \n73  /work/ParkinsonHW/H_p000-0018.txt         1       0.452617      0.801572   \n74   /work/ParkinsonHW/P_23100002.txt         1       0.635284      1.069605   \n75  /work/ParkinsonHW/H_P000-0032.txt         1       1.556340      2.273901   \n\n    Velocity Std       NVV       NIV  Mean Acceleration  Max Acceleration  \\\n0       0.256847  0.000199  0.000386           0.005358          0.012816   \n1       0.137363  0.000238  0.000285           0.003091          0.006730   \n2       0.119065  0.000142  0.000253           0.002888          0.006152   \n3       0.151134  0.000251  0.000330           0.004083          0.012296   \n4       0.344574  0.000203  0.000360           0.009018          0.018844   \n..           ...       ...       ...                ...               ...   \n71      0.378668  0.000396  0.000642           0.006019          0.022859   \n72      1.224294  0.017409  0.008655           0.431046          2.685503   \n73      0.169099  0.000637  0.000719           0.003721          0.018696   \n74      0.161262  0.000191  0.000274           0.003823          0.006819   \n75      0.307547  0.000550  0.001445           0.023593          0.045754   \n\n    Accleration Std  ...  R dotdot Mean  R dotdot STD  T dotdot Mean  \\\n0          0.002136  ...      -0.000290      0.003108      -0.000003   \n1          0.001066  ...      -0.000100      0.002019      -0.000002   \n2          0.001091  ...       0.000180      0.003554      -0.000003   \n3          0.002318  ...      -0.000123      0.003338      -0.000005   \n4          0.003200  ...      -0.000461      0.003006      -0.000006   \n..              ...  ...            ...           ...            ...   \n71         0.003773  ...      -0.000338      0.015033      -0.000002   \n72         0.403142  ...      -0.013530      1.386249      -0.000033   \n73         0.002739  ...      -0.000213      0.015425      -0.000003   \n74         0.001408  ...       0.000037      0.004329      -0.000006   \n75         0.009991  ...      -0.003651      0.043178      -0.000026   \n\n    T dotdot STD  drdtheta Mean  drdtheta STD  Pressure Rising Duration  \\\n0       0.000004      10.610610      9.597464                       387   \n1       0.000002      10.803881     11.155429                       387   \n2       0.000003      11.830677     12.358261                       630   \n3       0.000005      10.404557     15.273382                       626   \n4       0.000006      10.601360      8.134354                       584   \n..           ...            ...           ...                       ...   \n71      0.000003      13.639552     35.132567                      4394   \n72      0.000038      27.093770    322.825381                       614   \n73      0.000004      18.972630     70.527852                       767   \n74      0.000007      12.684681     32.778074                      1342   \n75      0.000025       7.712653     37.284051                       324   \n\n    Pressure Rising Range  Pressure Falling Duration  Pressure Falling Range  \n0                     633                         50                     822  \n1                     561                         43                     713  \n2                     636                         54                     682  \n3                     733                         42                     802  \n4                     652                         50                     733  \n..                    ...                        ...                     ...  \n71                    326                         63                     424  \n72                    398                       3884                     363  \n73                    490                         42                     585  \n74                    632                         63                     871  \n75                    555                         35                     582  \n\n[76 rows x 81 columns]",
      "text/html": "<div>\n<style scoped>\n    .dataframe tbody tr th:only-of-type {\n        vertical-align: middle;\n    }\n\n    .dataframe tbody tr th {\n        vertical-align: top;\n    }\n\n    .dataframe thead th {\n        text-align: right;\n    }\n</style>\n<table border=\"1\" class=\"dataframe\">\n  <thead>\n    <tr style=\"text-align: right;\">\n      <th></th>\n      <th>dynamic Subject ID</th>\n      <th>Category</th>\n      <th>Mean Velocity</th>\n      <th>Max Velocity</th>\n      <th>Velocity Std</th>\n      <th>NVV</th>\n      <th>NIV</th>\n      <th>Mean Acceleration</th>\n      <th>Max Acceleration</th>\n      <th>Accleration Std</th>\n      <th>...</th>\n      <th>R dotdot Mean</th>\n      <th>R dotdot STD</th>\n      <th>T dotdot Mean</th>\n      <th>T dotdot STD</th>\n      <th>drdtheta Mean</th>\n      <th>drdtheta STD</th>\n      <th>Pressure Rising Duration</th>\n      <th>Pressure Rising Range</th>\n      <th>Pressure Falling Duration</th>\n      <th>Pressure Falling Range</th>\n    </tr>\n  </thead>\n  <tbody>\n    <tr>\n      <th>0</th>\n      <td>/work/ParkinsonHW/C_0001.txt</td>\n      <td>0</td>\n      <td>0.763353</td>\n      <td>1.508147</td>\n      <td>0.256847</td>\n      <td>0.000199</td>\n      <td>0.000386</td>\n      <td>0.005358</td>\n      <td>0.012816</td>\n      <td>0.002136</td>\n      <td>...</td>\n      <td>-0.000290</td>\n      <td>0.003108</td>\n      <td>-0.000003</td>\n      <td>0.000004</td>\n      <td>10.610610</td>\n      <td>9.597464</td>\n      <td>387</td>\n      <td>633</td>\n      <td>50</td>\n      <td>822</td>\n    </tr>\n    <tr>\n      <th>1</th>\n      <td>/work/ParkinsonHW/C_0002.txt</td>\n      <td>0</td>\n      <td>0.559823</td>\n      <td>1.001812</td>\n      <td>0.137363</td>\n      <td>0.000238</td>\n      <td>0.000285</td>\n      <td>0.003091</td>\n      <td>0.006730</td>\n      <td>0.001066</td>\n      <td>...</td>\n      <td>-0.000100</td>\n      <td>0.002019</td>\n      <td>-0.000002</td>\n      <td>0.000002</td>\n      <td>10.803881</td>\n      <td>11.155429</td>\n      <td>387</td>\n      <td>561</td>\n      <td>43</td>\n      <td>713</td>\n    </tr>\n    <tr>\n      <th>2</th>\n      <td>/work/ParkinsonHW/C_0003.txt</td>\n      <td>0</td>\n      <td>0.577474</td>\n      <td>0.808143</td>\n      <td>0.119065</td>\n      <td>0.000142</td>\n      <td>0.000253</td>\n      <td>0.002888</td>\n      <td>0.006152</td>\n      <td>0.001091</td>\n      <td>...</td>\n      <td>0.000180</td>\n      <td>0.003554</td>\n      <td>-0.000003</td>\n      <td>0.000003</td>\n      <td>11.830677</td>\n      <td>12.358261</td>\n      <td>630</td>\n      <td>636</td>\n      <td>54</td>\n      <td>682</td>\n    </tr>\n    <tr>\n      <th>3</th>\n      <td>/work/ParkinsonHW/C_0004.txt</td>\n      <td>0</td>\n      <td>0.645112</td>\n      <td>1.133661</td>\n      <td>0.151134</td>\n      <td>0.000251</td>\n      <td>0.000330</td>\n      <td>0.004083</td>\n      <td>0.012296</td>\n      <td>0.002318</td>\n      <td>...</td>\n      <td>-0.000123</td>\n      <td>0.003338</td>\n      <td>-0.000005</td>\n      <td>0.000005</td>\n      <td>10.404557</td>\n      <td>15.273382</td>\n      <td>626</td>\n      <td>733</td>\n      <td>42</td>\n      <td>802</td>\n    </tr>\n    <tr>\n      <th>4</th>\n      <td>/work/ParkinsonHW/C_0005.txt</td>\n      <td>0</td>\n      <td>0.995901</td>\n      <td>1.976179</td>\n      <td>0.344574</td>\n      <td>0.000203</td>\n      <td>0.000360</td>\n      <td>0.009018</td>\n      <td>0.018844</td>\n      <td>0.003200</td>\n      <td>...</td>\n      <td>-0.000461</td>\n      <td>0.003006</td>\n      <td>-0.000006</td>\n      <td>0.000006</td>\n      <td>10.601360</td>\n      <td>8.134354</td>\n      <td>584</td>\n      <td>652</td>\n      <td>50</td>\n      <td>733</td>\n    </tr>\n    <tr>\n      <th>...</th>\n      <td>...</td>\n      <td>...</td>\n      <td>...</td>\n      <td>...</td>\n      <td>...</td>\n      <td>...</td>\n      <td>...</td>\n      <td>...</td>\n      <td>...</td>\n      <td>...</td>\n      <td>...</td>\n      <td>...</td>\n      <td>...</td>\n      <td>...</td>\n      <td>...</td>\n      <td>...</td>\n      <td>...</td>\n      <td>...</td>\n      <td>...</td>\n      <td>...</td>\n      <td>...</td>\n    </tr>\n    <tr>\n      <th>71</th>\n      <td>/work/ParkinsonHW/P_26060007.txt</td>\n      <td>1</td>\n      <td>0.766646</td>\n      <td>2.073436</td>\n      <td>0.378668</td>\n      <td>0.000396</td>\n      <td>0.000642</td>\n      <td>0.006019</td>\n      <td>0.022859</td>\n      <td>0.003773</td>\n      <td>...</td>\n      <td>-0.000338</td>\n      <td>0.015033</td>\n      <td>-0.000002</td>\n      <td>0.000003</td>\n      <td>13.639552</td>\n      <td>35.132567</td>\n      <td>4394</td>\n      <td>326</td>\n      <td>63</td>\n      <td>424</td>\n    </tr>\n    <tr>\n      <th>72</th>\n      <td>/work/ParkinsonHW/H_P000-0035.txt</td>\n      <td>1</td>\n      <td>2.026080</td>\n      <td>9.373600</td>\n      <td>1.224294</td>\n      <td>0.017409</td>\n      <td>0.008655</td>\n      <td>0.431046</td>\n      <td>2.685503</td>\n      <td>0.403142</td>\n      <td>...</td>\n      <td>-0.013530</td>\n      <td>1.386249</td>\n      <td>-0.000033</td>\n      <td>0.000038</td>\n      <td>27.093770</td>\n      <td>322.825381</td>\n      <td>614</td>\n      <td>398</td>\n      <td>3884</td>\n      <td>363</td>\n    </tr>\n    <tr>\n      <th>73</th>\n      <td>/work/ParkinsonHW/H_p000-0018.txt</td>\n      <td>1</td>\n      <td>0.452617</td>\n      <td>0.801572</td>\n      <td>0.169099</td>\n      <td>0.000637</td>\n      <td>0.000719</td>\n      <td>0.003721</td>\n      <td>0.018696</td>\n      <td>0.002739</td>\n      <td>...</td>\n      <td>-0.000213</td>\n      <td>0.015425</td>\n      <td>-0.000003</td>\n      <td>0.000004</td>\n      <td>18.972630</td>\n      <td>70.527852</td>\n      <td>767</td>\n      <td>490</td>\n      <td>42</td>\n      <td>585</td>\n    </tr>\n    <tr>\n      <th>74</th>\n      <td>/work/ParkinsonHW/P_23100002.txt</td>\n      <td>1</td>\n      <td>0.635284</td>\n      <td>1.069605</td>\n      <td>0.161262</td>\n      <td>0.000191</td>\n      <td>0.000274</td>\n      <td>0.003823</td>\n      <td>0.006819</td>\n      <td>0.001408</td>\n      <td>...</td>\n      <td>0.000037</td>\n      <td>0.004329</td>\n      <td>-0.000006</td>\n      <td>0.000007</td>\n      <td>12.684681</td>\n      <td>32.778074</td>\n      <td>1342</td>\n      <td>632</td>\n      <td>63</td>\n      <td>871</td>\n    </tr>\n    <tr>\n      <th>75</th>\n      <td>/work/ParkinsonHW/H_P000-0032.txt</td>\n      <td>1</td>\n      <td>1.556340</td>\n      <td>2.273901</td>\n      <td>0.307547</td>\n      <td>0.000550</td>\n      <td>0.001445</td>\n      <td>0.023593</td>\n      <td>0.045754</td>\n      <td>0.009991</td>\n      <td>...</td>\n      <td>-0.003651</td>\n      <td>0.043178</td>\n      <td>-0.000026</td>\n      <td>0.000025</td>\n      <td>7.712653</td>\n      <td>37.284051</td>\n      <td>324</td>\n      <td>555</td>\n      <td>35</td>\n      <td>582</td>\n    </tr>\n  </tbody>\n</table>\n<p>76 rows × 81 columns</p>\n</div>"
     },
     "metadata": {}
    }
   ]
  },
  {
   "cell_type": "code",
   "metadata": {
    "tags": [],
    "cell_id": "00034-d48b8b69-de96-4b7a-8547-626f43682081",
    "deepnote_to_be_reexecuted": false,
    "source_hash": "bc4d81d2",
    "execution_start": 1619296645140,
    "execution_millis": 2,
    "deepnote_cell_type": "code"
   },
   "source": "static_feature_columns = static_features_df.columns.tolist()[2:]\nstatic_data = static_features_df[static_feature_columns].values\ndynamic_feature_columns = dynamic_features_df.columns.tolist()[2:]\ndynamic_data = dynamic_features_df[dynamic_feature_columns].values",
   "execution_count": null,
   "outputs": []
  },
  {
   "cell_type": "code",
   "metadata": {
    "tags": [],
    "cell_id": "00034-6943b7fa-1b79-4f74-a62a-2b8d1fb3bdba",
    "deepnote_to_be_reexecuted": false,
    "source_hash": "92099889",
    "execution_millis": 0,
    "execution_start": 1619296904931,
    "deepnote_cell_type": "code"
   },
   "source": "from sklearn.decomposition import PCA\npca = PCA(n_components=2)\nprojected_static_data = pca.fit_transform(static_data)\npca2 = PCA(n_components=2)\nprojected_dynamic_data = pca2.fit_transform(dynamic_data)",
   "execution_count": null,
   "outputs": []
  },
  {
   "cell_type": "code",
   "metadata": {
    "tags": [],
    "cell_id": "00036-d65ce511-8dc1-450f-9af1-849f47b2182d",
    "deepnote_to_be_reexecuted": false,
    "source_hash": "70fd89aa",
    "execution_millis": 351,
    "execution_start": 1619296906458,
    "deepnote_cell_type": "code"
   },
   "source": "fig, ax = plt.subplots()\ncolormap = ['xkcd:orange', 'xkcd:olive',     'xkcd:azure',    'xkcd:rose', 'xkcd:mustard', \n            'xkcd:peach',  'xkcd:turquoise', 'xkcd:lavender', 'xkcd:rust', 'xkcd:red']\ngroupAssignments = static_features_df[\"Category\"].tolist()\nfor i in range(len(projected_static_data)):\n    edgecolor = colormap[groupAssignments[i]]\n    fillcolor = 'w'\n    shape     = 'o'\n    ax.plot(projected_static_data[i,0], projected_static_data[i,1], marker=shape,mec = edgecolor, mfc=fillcolor, mew=1.5)\nax.set_xlabel('PC1')\nax.set_ylabel('PC2')\nax.set_title('PC1 vs. PC2 (Static, All Features)')\nplt.tight_layout()",
   "execution_count": null,
   "outputs": [
    {
     "data": {
      "text/plain": "<Figure size 432x288 with 1 Axes>",
      "image/png": "[encoded data removed]"
     },
     "metadata": {
      "needs_background": "light",
      "image/png": {
       "width": 424,
       "height": 280
      }
     },
     "output_type": "display_data"
    }
   ]
  },
  {
   "cell_type": "code",
   "metadata": {
    "tags": [],
    "cell_id": "00037-e8e901b3-056b-45f8-8230-36e1dcd705ae",
    "deepnote_to_be_reexecuted": false,
    "source_hash": "705e6e25",
    "execution_millis": 355,
    "execution_start": 1619296973015,
    "deepnote_cell_type": "code"
   },
   "source": "fig, ax = plt.subplots()\ncolormap = ['xkcd:orange', 'xkcd:olive',     'xkcd:azure',    'xkcd:rose', 'xkcd:mustard', \n            'xkcd:peach',  'xkcd:turquoise', 'xkcd:lavender', 'xkcd:rust', 'xkcd:red']\ngroupAssignments = dynamic_features_df[\"Category\"].tolist()\nfor i in range(len(projected_dynamic_data)):\n    edgecolor = colormap[groupAssignments[i]]\n    fillcolor = 'w'\n    shape     = 'o'\n    ax.plot(projected_dynamic_data[i,0], projected_dynamic_data[i,1], marker=shape,mec = edgecolor, mfc=fillcolor, mew=1.5)\nax.set_xlabel('PC1')\nax.set_ylabel('PC2')\nax.set_title('PC1 vs. PC2 (Dynamic, All Features)')\nplt.tight_layout()",
   "execution_count": null,
   "outputs": [
    {
     "data": {
      "text/plain": "<Figure size 432x288 with 1 Axes>",
      "image/png": "[encoded data removed]"
     },
     "metadata": {
      "needs_background": "light",
      "image/png": {
       "width": 424,
       "height": 280
      }
     },
     "output_type": "display_data"
    }
   ]
  },
  {
   "cell_type": "markdown",
   "source": "<a style='text-decoration:none;line-height:16px;display:flex;color:#5B5B62;padding:10px;justify-content:end;' href='https://deepnote.com?utm_source=created-in-deepnote-cell&projectId=54ea7590-1f30-42ee-b9c1-c929b94e3f2f' target=\"_blank\">\n<img alt='Created in deepnote.com' style='display:inline;max-height:16px;margin:0px;margin-right:7.5px;' src='data:image/svg+xml;base64,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' > </img>\nCreated in <span style='font-weight:600;margin-left:4px;'>Deepnote</span></a>",
   "metadata": {
    "tags": [],
    "created_in_deepnote_cell": true,
    "deepnote_cell_type": "markdown"
   }
  }
 ],
 "nbformat": 4,
 "nbformat_minor": 2,
 "metadata": {
  "orig_nbformat": 2,
  "deepnote_notebook_id": "9ca858f7-618c-4831-a2b8-f74075f32a2f",
  "deepnote_execution_queue": [],
  "deepnote": {}
 }
}