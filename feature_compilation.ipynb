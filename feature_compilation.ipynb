{
  "cells": [
    {
      "cell_type": "code",
      "metadata": {
        "tags": [],
        "cell_id": "00000-b6d2a3b2-4cec-44fb-a787-94a52a19858c",
        "deepnote_to_be_reexecuted": false,
        "source_hash": "19bb228e",
        "execution_millis": 2,
        "execution_start": 1617486668986,
        "deepnote_cell_type": "code"
      },
      "source": "from feature_functions import *",
      "execution_count": 21,
      "outputs": []
    },
    {
      "cell_type": "code",
      "metadata": {
        "tags": [],
        "cell_id": "00002-35f95655-607e-4f42-bd1c-e086ba00610c",
        "deepnote_to_be_reexecuted": false,
        "source_hash": "722284b",
        "execution_millis": 0,
        "execution_start": 1617482494327,
        "deepnote_cell_type": "code"
      },
      "source": "controlFiles, patientFiles = fileClassification()",
      "execution_count": 2,
      "outputs": []
    },
    {
      "cell_type": "code",
      "metadata": {
        "tags": [],
        "cell_id": "00002-aa042563-17f4-4154-857f-7ce593ff6e59",
        "deepnote_to_be_reexecuted": false,
        "source_hash": "d8eb9e7b",
        "execution_millis": 2,
        "execution_start": 1617485158197,
        "deepnote_cell_type": "code"
      },
      "source": "'''\n    Parameter: file path\n    Returns: set of preprocessed data split into static and dynamic parts\n'''\n\ndef data_preprocessing(filename):  \n    df = pd.read_csv(filename, split = \";\", header = None)\n\n    # split into static and dynamic dataframes\n    static_df, dynamic_df = staticDynamicSplit()\n\n    static_time = static_df[5]\n    dynamic_time = dynamic_df[5]\n    static_x = static_df[0]\n    static_y = static_df[1]\n    static_curve = np.array([static_x, static_y])\n\n    dynamic_x = dynamic_df[0]\n    dynamic_y = dynamic_df[1]\n    dynamic_curve = np.array([dynamic_x, dynamic_y])\n\n    static_velocity, static_acceleration, static_jerk, _, _ = smoothCurveFeature(static_curve, 10000)\n    dynamic_velocity, dynamic_acceleration, dynamic_jerk, _, _ = smoothCurveFeature(dynamic_curve, 10000)\n\n    _, _, _, static_curvature, _ = smoothCurveFeature(static_curve, 100000)\n    _, _, _, dynamic_curvature, _ = smoothCurveFeature(dynamic_curve, 100000)\n    \n    static_pressure = static_df[3]\n    static_risingIndex, static_fallingIndex = mainSignalThreshold(static_pressure)\n\n    dynamic_pressure = dynamic_df[3]\n    dynamic_risingIndex, dynamic_fallingIndex = mainSignalThreshold(dynamic_pressure)\n\n    static_pressure_rising = static_pressure[0:static_risingIndex]\n    static_pressure_main = static_pressure[static_risingIndex:static_fallingIndex]\n    static_pressure_falling = static_pressure[static_fallingIndex:-1]\n\n    dynamic_pressure_rising = dynamic_pressure[0:dynamic_risingIndex]\n    dynamic_pressure_main = dynamic_pressure[dynamic_risingIndex:dynamic_fallingIndex]\n    dynamic_pressure_falling = dynamic_pressure[dynamic_fallingIndex:-1]\n\n    static_altitude = static_df[4]\n    dynamic_altitude = dynamic_df[4]\n\n    return static_x, static_y, dynamic_x, dynamic_y, static_velocity, static_acceleration, static_jerk, \n    static_curvature, static_pressure, static_pressure_rising, static_pressure_main, static_pressure_falling, \n    dynamic_velocity, dynamic_acceleration, dynamic_jerk, dynamic_curvature, dynamic_pressure,\n    dynamic_pressure_rising, dynamic_pressure_main, dynamic_pressure_falling, static_altitude, dynamic_altitude, \n    time, static_risingIndex, static_fallingIndex, dynamic_risingIndex, dynamic_fallingIndex",
      "execution_count": 10,
      "outputs": []
    },
    {
      "cell_type": "code",
      "source": "'''\n    Parameter: filename - file path of patient csv\n    Returns: \n'''\n\ndef calculate(filename): \n    # retrieve all preprocessed data\n    static_x, static_y, dynamic_x, dynamic_y, static_velocity, static_acceleration, static_jerk, \n    static_curvature, static_pressure, static_pressure_rising, static_pressure_main, static_pressure_falling, \n    dynamic_velocity, dynamic_acceleration, dynamic_jerk, dynamic_curvature, dynamic_pressure,\n    dynamic_pressure_rising, dynamic_pressure_main, dynamic_pressure_falling, static_altitude, dynamic_altitude, \n    time, static_risingIndex, static_fallingIndex, dynamic_risingIndex, dynamic_fallingIndex = data_preprocessing(filename)\n\n    # entropy: \n    static_x_entropy = entropyCalc(static_x)\n    static_y_entropy = entropyCalc(static_y)\n    dynamic_x_entropy = entropyCalc(dynamic_x)\n    dynamic_y_entropy = entropyCalc(dynamic_y)\n    \n    # kinematic features\n    # velocity features\n    static_velocity_mean = np.mean(static_velocity)\n    dynamic_velocity_mean = np.mean(dynamic_velocity)\n    static_velocity_std = np.std(static_velocity)\n    dynamic_velocity_std = np.std(dynamic_velocity)\n    static_velocity_max = max(static_velocity)\n    dynamic_velocity_max = max(dynamic_velocity)\n    static_velocity_inversion_rate = rateOfInversions(static_velocity, static_time)\n    dynamic_velocity_inversion_rate = rateOfInversions(dynamic_velocity, dynamic_time)\n\n    # acceleration features\n    static_acceleration_mean = np.mean(static_acceleration)\n    dynamic_acceleration_mean = np.mean(dynamic_acceleration)\n    static_acceleration_std = np.std(static_acceleration)\n    dynamic_acceleration_std = np.std(dynamic_acceleration)\n    static_acceleration_max = max(static_acceleration)\n    dynamic_acceleration_max = max(dynamic_acceleration)\n    static_acceleration_inversion_rate = rateOfInversions(static_acceleration, static_time)\n    dynamic_acceleration_inversion_rate = rateOfInversions(dynamic_acceleration, dynamic_time)\n\n    # jerk features\n    static_jerk_mean = np.mean(static_jerk)\n    dynamic_jerk_mean = np.mean(dynamic_jerk)\n    static_jerk_std = np.std(static_jerk)\n    dynamic_jerk_std = np.std(dynamic_jerk)\n    static_jerk_max = max(static_jerk)\n    dynamic_jerk_max = max(dynamic_jerk)\n    static_jerk_inversion_rate = rateOfInversions(static_jerk, static_time)\n    dynamic_jerk_inversion_rate = rateOfInversions(dynamic_jerk, dynamic_time)\n\n    # curvature rate of inversion\n    static_curv_inversion_rate = rateOfInversions(static_curvature, static_time)\n    dynamic_curv_inversion_rate = rateOfInversions(dynamic_curvature, dynamic_time)\n\n    # fourier transform pressure\n    static_pressure_low_freq, static_pressure_high_freq = fourierFreqCalc(static_pressure_main, static_time)\n    dynamic_pressure_low_freq, dynamic_pressure_high_freq = fourierFreqCalc(dynamic_pressure_main, dynamic_time)\n    \n    # fourier transform altitude\n    static_altitude_low_freq, static_altitude_high_freq = fourierFreqCalc(static_altitude, static_time)\n    dynamic_altitude_low_freq, dynamic_altitude_high_freq = fourierFreqCalc(dynamic_altitude, dynamic_time)\n\n    # pressure regression\n    static_pressure_reg_main_r2, static_pressure_reg_main_x0, static_pressure_reg_main_x1, static_pressure_reg_main_sumresid = regression(static_pressure_main)\n    dynamic_pressure_reg_main_r2, dynamic_pressure_reg_main_x0, dynamic_pressure_reg_main_x1, dynamic_pressure_reg_main_sumresid = regression(dynamic_pressure_main)\n\n    # curvature regression\n    static_curv_reg_r2, static_curv_reg_x0, static_curv_reg_x1, static_curv_reg_sumresid = regression(static_curvature)\n    dynamic_curv_reg_r2, dynamic_curv_reg_x0, dynamic_curv_reg_x1, dynamic_curv_reg_sumresid = regression(dynamic_curvature)\n\n    # velocity regression\n    static_velocity_reg_r2, static_velocity_reg_x0, static_velocity_reg_x1, static_velocity_reg_sumresid = regression(static_velocity)\n    dynamic_velocity_reg_r2, dynamic_velocity_reg_x0, dynamic_velocity_reg_x1, dynamic_velocity_reg_sumresid = regression(dynamic_velocity)\n\n    # pressure rising & falling duration/range\n    static_pressure_rising_duration = static_time[static_risingIndex] - static_time[0]\n    static_pressure_rising_range = static_pressure[static_risingIndex] - static_pressure[0]\n    static_pressure_falling_duration = static_time[len(static-time)-1] - static_time[static_fallingIndex]\n    static_pressure_fallign_range = static_pressure[static_fallingIndex] - static_pressure[len(static_time)-1]\n\n    return static_x_entropy, static_y_entropy, ",
      "metadata": {
        "tags": [],
        "cell_id": "00003-a31b3f03-b345-448e-83af-a38f9700d698",
        "deepnote_cell_type": "code"
      },
      "outputs": [],
      "execution_count": null
    },
    {
      "cell_type": "code",
      "metadata": {
        "tags": [],
        "cell_id": "00002-8b301a40-8dc9-441b-87e2-dd59daa9e358",
        "deepnote_cell_type": "code"
      },
      "source": "# CALCULATE ALL STATIC FEATURES AND PUT INTO DATAFRAME\n\nstatic_subject_id = []\nstatic_mean_vel = []\nstatic_max_vel = []\nstatic_vel_std = []\nstatic_vel_niv = [] #rate\nstatic_nvv = [] \nstatic_mean_accel = []\nstatic_max_accel = []\nstatic_std_accel = []\nstatic_nia = [] #rate\nstatic_mean_jerk = []  \nstatic_max_jerk = []\nstatic_std_jerk = []\nstatic_nij = [] #rate\nstatic_duration = []\nstatic_nic = []\nstatic_mean_pressure = []\nstatic_max_pressure = []\nstatic_std_pressure = []\nstatic_rate_ip = []\nstatic_x_entropy = []\nstatic_y_entropy = []\nstatic_x_skewness = []\nstatic_y_skewness = []\nstatic_x_kurtosis = []\nstatic_y_kurtosis = []\nstatic_pressure_high_freq = []\nstatic_pressure_low_freq = []\nstatic_altitude_high_freq = []\nstatic_altitude_low_freq = []\nstatic_pressure_regression = []\nstatic_curvature_regression = []\nstatic_velocity_regression = []\n\ndf = pd.DataFrame(['Static Subject ID' : static_subject_id,\n'Mean Velocity': static_mean_vel, 'Velocity Std': static_vel_std, 'Max Velocity': static_max_vel, 'NVV': static_nvv, 'NIV': static_vel_niv,\n'Mean Acceleration': static_mean_accel, 'Accleration Std': static_std_accel, 'Max Acceleration': static_max_accel, 'NIA': static_nia,\n'Mean Jerk': static_mean_jerk, 'Jerk Std': static_std_jerk, 'Max Jerk': static_max_jerk, 'NIJ': static_nij, \n'Duration': static_duration, 'NIC': static_nic,\n'Mean Pressure': static_mean_pressure, 'Max Pressure': static_max_pressure, 'Pressure Std': static_std_pressure, 'Rate of Inversion in Pressure': static_rate_ip,\n'X Entropy': static_x_entropy, 'Y Entropy': static_y_entropy, \n'X Skewness': static_x_skewness, 'Y Skewness': static_y_skewness, \n'X Kurtosis': static_x_kurtosis, 'Y Kurtosis': static_y_kurtosis,\n'Pressure High Freq': static_pressure_high_freq, 'Pressure Low Freq': static_pressure_low_freq, \n'Altitude High Freq': static_altitude_high_freq, 'Altitude Low Freq': static_altitude_low_freq, \n'Pressure Regression R^2': pressure_reg, 'Curvature Regression R^2': curvature_reg, 'Velocity Regression R^2': velocity_reg])\n\nfor filename in controlFiles: \n    calculate(filename)\n    \nfor(filename in patientFiles):\n    calculate(filename)\n\n",
      "execution_count": null,
      "outputs": []
    },
    {
      "cell_type": "code",
      "metadata": {
        "tags": [],
        "cell_id": "00002-f7784aee-b3a9-4423-97c9-ec0420d220d5",
        "deepnote_cell_type": "code"
      },
      "source": "# CALCULATE ALL DYNAMIC FEATURES AND PUT INTO DATAFRAME\n\ndynamic_subject_id = []\ndynamic_mean_vel = []\ndynamic_max_vel = []\ndynamic_vel_std = []\ndynamic_vel_niv = [] #rate\ndynamic_nvv = []\ndynamic_mean_accel = []\ndynamic_max_accel = []\ndynamic_std_accel = []\ndynamic_nia = [] #rate\ndynamic_mean_jerk = []\ndynamic_max_jerk = []\ndynamic_std_jerk = []\ndynamic_nij = [] #rate\ndynamic_duration = []\ndynamic_nic = []\ndynamic_mean_pressure = []\ndynamic_max_pressure = []\ndynamic_std_pressure = []\ndynamic_rate_ip = []\ndynamic_x_entropy = []\ndynamic_y_entropy = []\ndynamic_x_skewness = []\ndynamic_y_skewness = []\ndynamic_x_kurtosis = []\ndynamic_y_kurtosis = []\ndynamic_pressure_high_freq = []\ndynamic_pressure_low_freq = []\ndynamic_altitude_high_freq = []\ndynamic_altitude_low_freq = []\ndynamic_pressure_regression = []\ndynamic_curvature_regression = []\ndynamic_velocity_regression = []\n\ndf = pd.DataFrame(['dynamic Subject ID' : dynamic_subject_id,\n'Mean Velocity': dynamic_mean_vel, 'Velocity Std': dynamic_vel_std, 'Max Velocity': dynamic_max_vel, 'NVV': dynamic_nvv, 'NIV': dynamic_vel_niv,\n'Mean Acceleration': dynamic_mean_accel, 'Accleration Std': dynamic_std_accel, 'Max Acceleration': dynamic_max_accel, 'NIA': dynamic_nia,\n'Mean Jerk': dynamic_mean_jerk, 'Jerk Std': dynamic_std_jerk, 'Max Jerk': dynamic_max_jerk, 'NIJ': dynamic_nij,\n'Duration': dynamic_duration, 'NIC': dynamic_nic,\n'Mean Pressure': dynamic_mean_pressure, 'Max Pressure': dynamic_max_pressure, 'Pressure Std': dynamic_std_pressure, 'Rate of Inversion in Pressure': dynamic_rate_ip,\n'X Entropy': dynamic_x_entropy, 'Y Entropy': dynamic_y_entropy,\n'X Skewness': dynamic_x_skewness, 'Y Skewness': dynamic_y_skewness,\n'X Kurtosis': dynamic_x_kurtosis, 'Y Kurtosis': dynamic_y_kurtosis,\n'Pressure High Freq': dynamic_pressure_high_freq, 'Pressure Low Freq': dynamic_pressure_low_freq,\n'Altitude High Freq': dynamic_altitude_high_freq, 'Altitude Low Freq': dynamic_altitude_low_freq,\n'Pressure Regression R^2': pressure_reg, 'Curvature Regression R^2': curvature_reg, 'Velocity Regression R^2': velocity_reg])\n\nfor filename in controlFiles:\n    calculate(filename)\n\nfor(filename in patientFiles):\n    calculate(filename)",
      "execution_count": null,
      "outputs": []
    },
    {
      "cell_type": "markdown",
      "source": "<a style='text-decoration:none;line-height:16px;display:flex;color:#5B5B62;padding:10px;justify-content:end;' href='https://deepnote.com?utm_source=created-in-deepnote-cell&projectId=54ea7590-1f30-42ee-b9c1-c929b94e3f2f' target=\"_blank\">\n<img alt='Created in deepnote.com' style='display:inline;max-height:16px;margin:0px;margin-right:7.5px;' src='data:image/svg+xml;base64,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' > </img>\nCreated in <span style='font-weight:600;margin-left:4px;'>Deepnote</span></a>",
      "metadata": {
        "tags": [],
        "created_in_deepnote_cell": true,
        "deepnote_cell_type": "markdown"
      }
    }
  ],
  "nbformat": 4,
  "nbformat_minor": 2,
  "metadata": {
    "orig_nbformat": 2,
    "deepnote_notebook_id": "fb681234-3ef8-45fe-98fe-8dc49d067375",
    "deepnote": {},
    "deepnote_execution_queue": []
  }
}